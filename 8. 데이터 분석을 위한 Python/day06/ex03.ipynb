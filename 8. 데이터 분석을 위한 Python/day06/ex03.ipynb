{
 "cells": [
  {
   "cell_type": "code",
   "execution_count": 1,
   "id": "25fd6228-23e9-4738-8566-9643a4c6d64a",
   "metadata": {},
   "outputs": [],
   "source": [
    "import requests\n",
    "\n",
    "response = requests.get(\"https://news.naver.com\")\n",
    "html = response.text"
   ]
  },
  {
   "cell_type": "code",
   "execution_count": null,
   "id": "38041506-1974-4fac-9051-61a3aa5838a8",
   "metadata": {},
   "outputs": [],
   "source": [
    "import re\n",
    "\"\"\"\n",
    "<img loading=\"lazy\" src=\"https://mimgnews.pstatic.net/image/origin/050/2024/11/22/82378.jpg?type=nf264_176&amp;ut=20241122092410\" width=\"100%\" alt=\"\" onerror=\"showNoImage(this)\">\n",
    "\"\"\"\n",
    "\n",
    "p = re.compile(r\"<img[^>]+>\")\n",
    "imgs = p.findall(html)\n",
    "for img in imgs:\n",
    "    print(img)"
   ]
  },
  {
   "cell_type": "code",
   "execution_count": 6,
   "id": "c9671ba7-38d0-48f0-8554-1f942db9e975",
   "metadata": {},
   "outputs": [],
   "source": [
    "import re"
   ]
  },
  {
   "cell_type": "code",
   "execution_count": 8,
   "id": "f8b10703-9a4f-4778-a2ff-f2830fb0e113",
   "metadata": {},
   "outputs": [
    {
     "name": "stdout",
     "output_type": "stream",
     "text": [
      "<span class=\"Nitem_link_menu\">언론사별</span>\n",
      "<span class=\"Nitem_link_menu\">정치</span>\n",
      "<span class=\"Nitem_link_menu\">경제</span>\n",
      "<span class=\"Nitem_link_menu\">사회</span>\n",
      "<span class=\"Nitem_link_menu\">생활/문화</span>\n",
      "<span class=\"Nitem_link_menu\">IT/과학</span>\n",
      "<span class=\"Nitem_link_menu\">세계</span>\n",
      "<span class=\"Nitem_link_menu\">랭킹</span>\n",
      "<span class=\"Nitem_link_menu\">신문보기</span>\n",
      "<span class=\"Nitem_link_menu\">오피니언</span>\n",
      "<span class=\"Nitem_link_menu\">TV</span>\n",
      "<span class=\"Nitem_link_menu\">팩트체크</span>\n",
      "<span class=\"Nitem_link_menu\">알고리즘 안내</span>\n",
      "<span class=\"Nitem_link_menu\">정정보도 모음</span>\n"
     ]
    }
   ],
   "source": [
    "\"\"\"\n",
    "<span class=\"Nitem_link_menu\">정치</span>\n",
    "\"\"\"\n",
    "\n",
    "p = re.compile(r\"<span.*class=['\\\"]Nitem_link_menu['\\\"][^>]*>[^<]+</span>\")\n",
    "items = p.findall(html)\n",
    "for item in items:\n",
    "    print(item)"
   ]
  },
  {
   "cell_type": "code",
   "execution_count": 17,
   "id": "96f79207-b20f-44d7-940d-45e16ac6dfff",
   "metadata": {},
   "outputs": [],
   "source": [
    "\"\"\"\n",
    "<span class=\"Nitem_link_menu\">정치</span>\n",
    "\"\"\"\n",
    "\n",
    "p = re.compile(r\"<span.*class=['\\\"]Nitem_link_menu['\\\"][^>]*>[^<]+</span>\")\n",
    "itr = p.finditer(html)"
   ]
  },
  {
   "cell_type": "code",
   "execution_count": 18,
   "id": "353cdf34-f183-427c-939e-fb9c8cf39610",
   "metadata": {},
   "outputs": [
    {
     "name": "stdout",
     "output_type": "stream",
     "text": [
      "<re.Match object; span=(12180, 12221), match='<span class=\"Nitem_link_menu\">언론사별</span>'>\n",
      "<re.Match object; span=(13520, 13559), match='<span class=\"Nitem_link_menu\">정치</span>'>\n",
      "<re.Match object; span=(14858, 14897), match='<span class=\"Nitem_link_menu\">경제</span>'>\n",
      "<re.Match object; span=(16196, 16235), match='<span class=\"Nitem_link_menu\">사회</span>'>\n",
      "<re.Match object; span=(17534, 17576), match='<span class=\"Nitem_link_menu\">생활/문화</span>'>\n",
      "<re.Match object; span=(18875, 18917), match='<span class=\"Nitem_link_menu\">IT/과학</span>'>\n",
      "<re.Match object; span=(20216, 20255), match='<span class=\"Nitem_link_menu\">세계</span>'>\n",
      "<re.Match object; span=(21666, 21705), match='<span class=\"Nitem_link_menu\">랭킹</span>'>\n",
      "<re.Match object; span=(23114, 23155), match='<span class=\"Nitem_link_menu\">신문보기</span>'>\n",
      "<re.Match object; span=(24455, 24496), match='<span class=\"Nitem_link_menu\">오피니언</span>'>\n",
      "<re.Match object; span=(25810, 25849), match='<span class=\"Nitem_link_menu\">TV</span>'>\n",
      "<re.Match object; span=(27152, 27193), match='<span class=\"Nitem_link_menu\">팩트체크</span>'>\n",
      "<re.Match object; span=(28492, 28536), match='<span class=\"Nitem_link_menu\">알고리즘 안내</span>'>\n",
      "<re.Match object; span=(29966, 30010), match='<span class=\"Nitem_link_menu\">정정보도 모음</span>'>\n"
     ]
    }
   ],
   "source": [
    "for m in itr:\n",
    "    print(m)"
   ]
  }
 ],
 "metadata": {
  "kernelspec": {
   "display_name": "Python 3 (ipykernel)",
   "language": "python",
   "name": "python3"
  },
  "language_info": {
   "codemirror_mode": {
    "name": "ipython",
    "version": 3
   },
   "file_extension": ".py",
   "mimetype": "text/x-python",
   "name": "python",
   "nbconvert_exporter": "python",
   "pygments_lexer": "ipython3",
   "version": "3.12.7"
  }
 },
 "nbformat": 4,
 "nbformat_minor": 5
}
