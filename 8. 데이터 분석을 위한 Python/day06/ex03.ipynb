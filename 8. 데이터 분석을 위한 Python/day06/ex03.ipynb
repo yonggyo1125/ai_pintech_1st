{
 "cells": [
  {
   "cell_type": "code",
   "execution_count": 1,
   "id": "25fd6228-23e9-4738-8566-9643a4c6d64a",
   "metadata": {},
   "outputs": [],
   "source": [
    "import requests\n",
    "\n",
    "response = requests.get(\"https://news.naver.com\")\n",
    "html = response.text"
   ]
  },
  {
   "cell_type": "code",
   "execution_count": null,
   "id": "38041506-1974-4fac-9051-61a3aa5838a8",
   "metadata": {},
   "outputs": [],
   "source": [
    "import re\n",
    "\"\"\"\n",
    "<img loading=\"lazy\" src=\"https://mimgnews.pstatic.net/image/origin/050/2024/11/22/82378.jpg?type=nf264_176&amp;ut=20241122092410\" width=\"100%\" alt=\"\" onerror=\"showNoImage(this)\">\n",
    "\"\"\"\n",
    "\n",
    "p = re.compile(r\"<img[^>]+>\")\n",
    "imgs = p.findall(html)\n",
    "for img in imgs:\n",
    "    print(img)"
   ]
  },
  {
   "cell_type": "code",
   "execution_count": 6,
   "id": "c9671ba7-38d0-48f0-8554-1f942db9e975",
   "metadata": {},
   "outputs": [],
   "source": [
    "import re"
   ]
  },
  {
   "cell_type": "code",
   "execution_count": 8,
   "id": "f8b10703-9a4f-4778-a2ff-f2830fb0e113",
   "metadata": {},
   "outputs": [
    {
     "name": "stdout",
     "output_type": "stream",
     "text": [
      "<span class=\"Nitem_link_menu\">언론사별</span>\n",
      "<span class=\"Nitem_link_menu\">정치</span>\n",
      "<span class=\"Nitem_link_menu\">경제</span>\n",
      "<span class=\"Nitem_link_menu\">사회</span>\n",
      "<span class=\"Nitem_link_menu\">생활/문화</span>\n",
      "<span class=\"Nitem_link_menu\">IT/과학</span>\n",
      "<span class=\"Nitem_link_menu\">세계</span>\n",
      "<span class=\"Nitem_link_menu\">랭킹</span>\n",
      "<span class=\"Nitem_link_menu\">신문보기</span>\n",
      "<span class=\"Nitem_link_menu\">오피니언</span>\n",
      "<span class=\"Nitem_link_menu\">TV</span>\n",
      "<span class=\"Nitem_link_menu\">팩트체크</span>\n",
      "<span class=\"Nitem_link_menu\">알고리즘 안내</span>\n",
      "<span class=\"Nitem_link_menu\">정정보도 모음</span>\n"
     ]
    }
   ],
   "source": [
    "\"\"\"\n",
    "<span class=\"Nitem_link_menu\">정치</span>\n",
    "\"\"\"\n",
    "\n",
    "p = re.compile(r\"<span.*class=['\\\"]Nitem_link_menu['\\\"][^>]*>[^<]+</span>\")\n",
    "items = p.findall(html)\n",
    "for item in items:\n",
    "    print(item)"
   ]
  },
  {
   "cell_type": "code",
   "execution_count": 22,
   "id": "96f79207-b20f-44d7-940d-45e16ac6dfff",
   "metadata": {},
   "outputs": [],
   "source": [
    "\"\"\"\n",
    "<span class=\"Nitem_link_menu\">정치</span>\n",
    "\"\"\"\n",
    "\n",
    "p = re.compile(r\"<span.*class=['\\\"]Nitem_link_menu['\\\"][^>]*>[^<]+</span>\")\n",
    "itr = p.finditer(html)"
   ]
  },
  {
   "cell_type": "code",
   "execution_count": 23,
   "id": "353cdf34-f183-427c-939e-fb9c8cf39610",
   "metadata": {},
   "outputs": [
    {
     "name": "stdout",
     "output_type": "stream",
     "text": [
      "--------------------------------------------------\n",
      "group(): <span class=\"Nitem_link_menu\">언론사별</span>\n",
      "start(): 12180\n",
      "end(): 12221\n",
      "span(): (12180, 12221)\n",
      "--------------------------------------------------\n",
      "group(): <span class=\"Nitem_link_menu\">정치</span>\n",
      "start(): 13520\n",
      "end(): 13559\n",
      "span(): (13520, 13559)\n",
      "--------------------------------------------------\n",
      "group(): <span class=\"Nitem_link_menu\">경제</span>\n",
      "start(): 14858\n",
      "end(): 14897\n",
      "span(): (14858, 14897)\n",
      "--------------------------------------------------\n",
      "group(): <span class=\"Nitem_link_menu\">사회</span>\n",
      "start(): 16196\n",
      "end(): 16235\n",
      "span(): (16196, 16235)\n",
      "--------------------------------------------------\n",
      "group(): <span class=\"Nitem_link_menu\">생활/문화</span>\n",
      "start(): 17534\n",
      "end(): 17576\n",
      "span(): (17534, 17576)\n",
      "--------------------------------------------------\n",
      "group(): <span class=\"Nitem_link_menu\">IT/과학</span>\n",
      "start(): 18875\n",
      "end(): 18917\n",
      "span(): (18875, 18917)\n",
      "--------------------------------------------------\n",
      "group(): <span class=\"Nitem_link_menu\">세계</span>\n",
      "start(): 20216\n",
      "end(): 20255\n",
      "span(): (20216, 20255)\n",
      "--------------------------------------------------\n",
      "group(): <span class=\"Nitem_link_menu\">랭킹</span>\n",
      "start(): 21666\n",
      "end(): 21705\n",
      "span(): (21666, 21705)\n",
      "--------------------------------------------------\n",
      "group(): <span class=\"Nitem_link_menu\">신문보기</span>\n",
      "start(): 23114\n",
      "end(): 23155\n",
      "span(): (23114, 23155)\n",
      "--------------------------------------------------\n",
      "group(): <span class=\"Nitem_link_menu\">오피니언</span>\n",
      "start(): 24455\n",
      "end(): 24496\n",
      "span(): (24455, 24496)\n",
      "--------------------------------------------------\n",
      "group(): <span class=\"Nitem_link_menu\">TV</span>\n",
      "start(): 25810\n",
      "end(): 25849\n",
      "span(): (25810, 25849)\n",
      "--------------------------------------------------\n",
      "group(): <span class=\"Nitem_link_menu\">팩트체크</span>\n",
      "start(): 27152\n",
      "end(): 27193\n",
      "span(): (27152, 27193)\n",
      "--------------------------------------------------\n",
      "group(): <span class=\"Nitem_link_menu\">알고리즘 안내</span>\n",
      "start(): 28492\n",
      "end(): 28536\n",
      "span(): (28492, 28536)\n",
      "--------------------------------------------------\n",
      "group(): <span class=\"Nitem_link_menu\">정정보도 모음</span>\n",
      "start(): 29966\n",
      "end(): 30010\n",
      "span(): (29966, 30010)\n"
     ]
    }
   ],
   "source": [
    "for m in itr:\n",
    "    print(\"-\" * 50)\n",
    "    print(\"group():\", m.group())\n",
    "    print(\"start():\", m.start())\n",
    "    print(\"end():\", m.end())\n",
    "    print(\"span():\", m.span())\n",
    "    #print(\"-\" * 50)"
   ]
  },
  {
   "cell_type": "code",
   "execution_count": 24,
   "id": "7dcffcd9-4723-4586-b345-42cc8a811ca4",
   "metadata": {},
   "outputs": [
    {
     "data": {
      "text/plain": [
       "<re.Match object; span=(0, 13), match='010-1000-1000'>"
      ]
     },
     "execution_count": 24,
     "metadata": {},
     "output_type": "execute_result"
    }
   ],
   "source": [
    "re.search(r\"^01[016]\\D*\\d{3,4}\\D*\\d{4}$\", \"010-1000-1000\")"
   ]
  }
 ],
 "metadata": {
  "kernelspec": {
   "display_name": "Python 3 (ipykernel)",
   "language": "python",
   "name": "python3"
  },
  "language_info": {
   "codemirror_mode": {
    "name": "ipython",
    "version": 3
   },
   "file_extension": ".py",
   "mimetype": "text/x-python",
   "name": "python",
   "nbconvert_exporter": "python",
   "pygments_lexer": "ipython3",
   "version": "3.12.7"
  }
 },
 "nbformat": 4,
 "nbformat_minor": 5
}
