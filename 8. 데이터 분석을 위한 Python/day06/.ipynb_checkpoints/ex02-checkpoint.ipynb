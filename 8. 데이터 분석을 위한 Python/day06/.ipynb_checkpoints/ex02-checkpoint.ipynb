{
 "cells": [
  {
   "cell_type": "code",
   "execution_count": 4,
   "id": "0fa0f07e-5644-48a6-832c-214730ae4d96",
   "metadata": {},
   "outputs": [
    {
     "name": "stdout",
     "output_type": "stream",
     "text": [
      "\n",
      "park 800905-*******\n",
      "kim  700905-*******\n",
      "\n"
     ]
    }
   ],
   "source": [
    "import re\n",
    "\n",
    "data = \"\"\"\n",
    "park 800905-1049118\n",
    "kim  700905-1059119\n",
    "\"\"\"\n",
    "\n",
    "p = re.compile(\"(\\\\d{6})[-]\\\\d{7}\")\n",
    "print(p.sub(\"\\\\g<1>-*******\", data))"
   ]
  },
  {
   "cell_type": "code",
   "execution_count": 9,
   "id": "978805f4-1715-48e6-9148-b0c72f4a5bb5",
   "metadata": {},
   "outputs": [],
   "source": [
    "p = re.compile(\"[abc]\")  # a, b, c 각각 패턴 체크\n",
    "p.match(\"d1234\")   # match는 패턴을 첫 문자부터 체크"
   ]
  },
  {
   "cell_type": "code",
   "execution_count": 12,
   "id": "bb509653-b2fc-4bf3-8e09-9e42ab4dab91",
   "metadata": {},
   "outputs": [
    {
     "data": {
      "text/plain": [
       "<re.Match object; span=(0, 1), match='A'>"
      ]
     },
     "execution_count": 12,
     "metadata": {},
     "output_type": "execute_result"
    }
   ],
   "source": [
    "# 체크하는 문자열이 알파벳으로 구성되어 있는지 체크 \n",
    "p = re.compile(\"[a-zA-Z0-9]\")  # 알파벳 a ~ z, A ~ Z, 0~9\n",
    "# p.match(\"abcdefg1234\")\n",
    "p.match(\"ABC1234\") # 대문자를 매칭하면"
   ]
  },
  {
   "cell_type": "code",
   "execution_count": 14,
   "id": "3fd2673d-64ba-46df-81e5-46e75c058ca3",
   "metadata": {},
   "outputs": [
    {
     "data": {
      "text/plain": [
       "<re.Match object; span=(0, 1), match='1'>"
      ]
     },
     "execution_count": 14,
     "metadata": {},
     "output_type": "execute_result"
    }
   ],
   "source": [
    "# p = re.compile(\"[0-9]\")  # 숫자로 패턴이 시작하는지 알고 싶은 경우\n",
    "p = re.compile(\"\\\\d\")   # \\d == [0-9]\n",
    "p.match(\"123ABC\")"
   ]
  },
  {
   "cell_type": "code",
   "execution_count": 17,
   "id": "733f8d8c-254c-472c-b163-fc791f9a82a0",
   "metadata": {},
   "outputs": [
    {
     "data": {
      "text/plain": [
       "<re.Match object; span=(0, 1), match='!'>"
      ]
     },
     "execution_count": 17,
     "metadata": {},
     "output_type": "execute_result"
    }
   ],
   "source": [
    "# [..] 문자 클래스에 ^로 시작하면 ~ 아닌 패턴 \n",
    "# [^0-9]  0~9 숫자를 제외한 모든 문자 \n",
    "# p = re.compile(\"[^0-9]\")  # 숫자로 시작하면 안되는 패턴! \\D - [^0-9]\n",
    "                         # \\소문자 ~ 인패턴,  \\대문자 ~가 아닌 패턴[^...]\n",
    "p = re.compile(\"\\\\D\")\n",
    "p.match(\"!123ABC\")"
   ]
  },
  {
   "cell_type": "code",
   "execution_count": 18,
   "id": "2c10fb15-2ed1-4c84-94e1-6613b68a1135",
   "metadata": {},
   "outputs": [
    {
     "data": {
      "text/plain": [
       "<re.Match object; span=(0, 1), match='1'>"
      ]
     },
     "execution_count": 18,
     "metadata": {},
     "output_type": "execute_result"
    }
   ],
   "source": [
    "# raw 문자 그대로 인식 - \\d 사용 가능  r'...'\n",
    "p = re.compile(r'\\d')\n",
    "p.match(\"123ABC\")"
   ]
  },
  {
   "cell_type": "code",
   "execution_count": 23,
   "id": "dc376f6c-12c6-4b72-b522-0684fc895b8f",
   "metadata": {},
   "outputs": [
    {
     "data": {
      "text/plain": [
       "<re.Match object; span=(0, 5), match='a123b'>"
      ]
     },
     "execution_count": 23,
     "metadata": {},
     "output_type": "execute_result"
    }
   ],
   "source": [
    "# . : \\n(줄개행 문자)를 제외한 모든 문자 1개 \n",
    "# p = re.compile(\"a.b\")  \n",
    "# p = re.compile(\"a...b\") # a 그다음 문자는 아무거나 3개 b\n",
    "p = re.compile(\"a.{3}b\")\n",
    "# p.match(\"abb\")\n",
    "# p.match(\"a\\nb\") # 매칭 안됨 \n",
    "p.match(\"a123b\")"
   ]
  },
  {
   "cell_type": "code",
   "execution_count": 42,
   "id": "1f7824ac-3e30-4963-8c72-60bba659c06c",
   "metadata": {},
   "outputs": [
    {
     "name": "stdout",
     "output_type": "stream",
     "text": [
      "None\n",
      "<re.Match object; span=(0, 13), match='010-1111-1111'>\n"
     ]
    }
   ],
   "source": [
    "# 휴대전화번호 검증\n",
    "# 01[016] - 010, 011, 016\n",
    "# p = re.compile(r\"01[016]\\D*\\d{3,4}\\D*\\d{4}\")\n",
    "# ^01  -> 반드시 01로 시작하고  \\d{4}$ - 반드시 숫자 4자리로 끝난다!\n",
    "p = re.compile(r\"^01[016]\\D*\\d{3,4}\\D*\\d{4}$\") \n",
    "# p.match(\"1111016*123-12342222\")  # -, _, ... 숫자가 아닌 모든 특수문자가 사이에 있어도 통과\n",
    "print(p.search(\"1111016*123-12342222\"))\n",
    "print(p.search(\"010-1111-1111\"))"
   ]
  },
  {
   "cell_type": "code",
   "execution_count": 36,
   "id": "5e2daa83-4754-4f52-8664-3415b843fe3c",
   "metadata": {},
   "outputs": [
    {
     "data": {
      "text/plain": [
       "<re.Match object; span=(0, 8), match='ABABABAB'>"
      ]
     },
     "execution_count": 36,
     "metadata": {},
     "output_type": "execute_result"
    }
   ],
   "source": [
    "# {숫자,}  숫자이상 반복 \n",
    "# (...) 패턴을 그룹화\n",
    "# p = re.compile(r\"(AB){3,}\")\n",
    "p = re.compile(r'(AB)+')  # AB가 한번 이상 반복되면\n",
    "p.match(\"ABABABAB\")"
   ]
  },
  {
   "cell_type": "code",
   "execution_count": 30,
   "id": "86cce1dd-7a02-4cff-8719-3f0a314b4169",
   "metadata": {},
   "outputs": [
    {
     "data": {
      "text/plain": [
       "<re.Match object; span=(0, 9), match='abc123abc'>"
      ]
     },
     "execution_count": 30,
     "metadata": {},
     "output_type": "execute_result"
    }
   ],
   "source": [
    "p = re.compile(r\".*\\d.*\")  # 숫자가 포함된 패턴\n",
    "p.match(\"abc123abc\")"
   ]
  }
 ],
 "metadata": {
  "kernelspec": {
   "display_name": "Python 3 (ipykernel)",
   "language": "python",
   "name": "python3"
  },
  "language_info": {
   "codemirror_mode": {
    "name": "ipython",
    "version": 3
   },
   "file_extension": ".py",
   "mimetype": "text/x-python",
   "name": "python",
   "nbconvert_exporter": "python",
   "pygments_lexer": "ipython3",
   "version": "3.12.7"
  }
 },
 "nbformat": 4,
 "nbformat_minor": 5
}
