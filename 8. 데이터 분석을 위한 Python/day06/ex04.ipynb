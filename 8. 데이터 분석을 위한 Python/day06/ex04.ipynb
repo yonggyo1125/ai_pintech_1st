{
 "cells": [
  {
   "cell_type": "code",
   "execution_count": 13,
   "id": "2b2a2bcc-d96b-42b9-8a31-c95269297d6a",
   "metadata": {},
   "outputs": [],
   "source": [
    "# 이터레이터를 만들려면 iter(...)\n",
    "fruits = [\"사과\", \"오렌지\", \"망고\", \"멜론\"]\n",
    "itr = iter(fruits)  # 이터레이터 객체"
   ]
  },
  {
   "cell_type": "code",
   "execution_count": 14,
   "id": "d25e33cc-bd66-4a32-a4bd-c6d5b351fb84",
   "metadata": {},
   "outputs": [
    {
     "name": "stdout",
     "output_type": "stream",
     "text": [
      "사과\n",
      "오렌지\n",
      "망고\n",
      "멜론\n"
     ]
    }
   ],
   "source": [
    "while True:\n",
    "    try:\n",
    "        print(next(itr))\n",
    "    except StopIteration:\n",
    "        break"
   ]
  },
  {
   "cell_type": "code",
   "execution_count": null,
   "id": "1bae5566-036a-44e3-a8e7-a23f58954973",
   "metadata": {},
   "outputs": [],
   "source": [
    "for fruit in itr:\n",
    "    print(f"
   ]
  }
 ],
 "metadata": {
  "kernelspec": {
   "display_name": "Python 3 (ipykernel)",
   "language": "python",
   "name": "python3"
  },
  "language_info": {
   "codemirror_mode": {
    "name": "ipython",
    "version": 3
   },
   "file_extension": ".py",
   "mimetype": "text/x-python",
   "name": "python",
   "nbconvert_exporter": "python",
   "pygments_lexer": "ipython3",
   "version": "3.12.7"
  }
 },
 "nbformat": 4,
 "nbformat_minor": 5
}
