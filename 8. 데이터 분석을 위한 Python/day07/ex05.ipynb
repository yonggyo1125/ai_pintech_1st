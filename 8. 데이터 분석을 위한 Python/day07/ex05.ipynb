{
 "cells": [
  {
   "cell_type": "code",
   "execution_count": 1,
   "id": "94169d62-ad19-467a-a306-ea101cdb8434",
   "metadata": {},
   "outputs": [],
   "source": [
    "import re\n",
    "url = \"http://www.naver.com\""
   ]
  },
  {
   "cell_type": "code",
   "execution_count": 2,
   "id": "0e12c5df-bad4-4166-b1fa-e858bdfd6586",
   "metadata": {},
   "outputs": [
    {
     "data": {
      "text/plain": [
       "<re.Match object; span=(0, 7), match='http://'>"
      ]
     },
     "execution_count": 2,
     "metadata": {},
     "output_type": "execute_result"
    }
   ],
   "source": [
    "p = re.compile(r\"http[s]?://\")\n",
    "p.match(url)"
   ]
  },
  {
   "cell_type": "code",
   "execution_count": 3,
   "id": "b0061e77-c2ce-4844-a694-8a6b59611de9",
   "metadata": {},
   "outputs": [
    {
     "data": {
      "text/plain": [
       "<re.Match object; span=(0, 4), match='http'>"
      ]
     },
     "execution_count": 3,
     "metadata": {},
     "output_type": "execute_result"
    }
   ],
   "source": [
    "p = re.compile(r\".+(?=://)\") # 전방 탐색 \n",
    "p.match(url)"
   ]
  },
  {
   "cell_type": "code",
   "execution_count": 4,
   "id": "78793734-ac12-47be-922e-9abad87bc79d",
   "metadata": {},
   "outputs": [
    {
     "name": "stdout",
     "output_type": "stream",
     "text": [
      "https://www.naver.com\n"
     ]
    }
   ],
   "source": [
    "urls = [\"abc\", \"def\", \"https://www.naver.com\", \"ghi\"]\n",
    "for url in urls:\n",
    "    if p.match(url):\n",
    "        print(url)"
   ]
  },
  {
   "cell_type": "code",
   "execution_count": 9,
   "id": "dc6fe00a-6d52-41f3-b24c-a7de1e79416f",
   "metadata": {},
   "outputs": [
    {
     "name": "stdout",
     "output_type": "stream",
     "text": [
      "abc\n",
      "def\n",
      "https://www.naver.com\n",
      "ghi\n"
     ]
    }
   ],
   "source": [
    "p = re.compile(r\".+(?!://)\") # 전방 부정 탐색  :// 패턴이 아닌 문구의 앞에 있는 패턴\n",
    "for url in urls:\n",
    "    if p.match(url):\n",
    "        print(url)"
   ]
  },
  {
   "cell_type": "code",
   "execution_count": 10,
   "id": "776bb23b-2d39-4d55-84d4-6eee19cbd908",
   "metadata": {},
   "outputs": [],
   "source": [
    "a = \"<html><head><title>Title</title></head></html>\""
   ]
  },
  {
   "cell_type": "code",
   "execution_count": 16,
   "id": "ebd1cacd-1eb6-4eeb-80c1-fc4cf9462b8b",
   "metadata": {},
   "outputs": [
    {
     "data": {
      "text/plain": [
       "'<html><head><title>Title</title></head></html>'"
      ]
     },
     "execution_count": 16,
     "metadata": {},
     "output_type": "execute_result"
    }
   ],
   "source": [
    "p = re.compile(r\"<.*>\") # 최대 매칭\n",
    "p.match(a).group()"
   ]
  },
  {
   "cell_type": "code",
   "execution_count": 17,
   "id": "ea282ee0-b0f2-4161-876d-ad1468aa73da",
   "metadata": {},
   "outputs": [
    {
     "data": {
      "text/plain": [
       "'<html>'"
      ]
     },
     "execution_count": 17,
     "metadata": {},
     "output_type": "execute_result"
    }
   ],
   "source": [
    "p = re.compile(r\"<.*?>\") # 최소 매칭\n",
    "p.match(a).group()"
   ]
  },
  {
   "cell_type": "code",
   "execution_count": 20,
   "id": "24dc671e-742f-4fbe-9965-d4944b2e5358",
   "metadata": {},
   "outputs": [
    {
     "data": {
      "text/plain": [
       "('1 fruits, 2 fruits, 3 melons', 2)"
      ]
     },
     "execution_count": 20,
     "metadata": {},
     "output_type": "execute_result"
    }
   ],
   "source": [
    "p = re.compile(\"apple|orange|melon\")\n",
    "str = \"1 apples, 2 oranges, 3 melons\"\n",
    "# p.sub(\"fruit\", str)\n",
    "# p.sub(\"fruit\", str, count=2) # 2개 까지만 치환\n",
    "p.subn(\"fruit\", str, 2)"
   ]
  }
 ],
 "metadata": {
  "kernelspec": {
   "display_name": "Python 3 (ipykernel)",
   "language": "python",
   "name": "python3"
  },
  "language_info": {
   "codemirror_mode": {
    "name": "ipython",
    "version": 3
   },
   "file_extension": ".py",
   "mimetype": "text/x-python",
   "name": "python",
   "nbconvert_exporter": "python",
   "pygments_lexer": "ipython3",
   "version": "3.12.7"
  }
 },
 "nbformat": 4,
 "nbformat_minor": 5
}
