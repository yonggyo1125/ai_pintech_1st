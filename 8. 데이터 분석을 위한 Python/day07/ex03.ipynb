{
 "cells": [
  {
   "cell_type": "code",
   "execution_count": 1,
   "id": "8ef340b7-416e-486d-90a4-a52c1759f1a9",
   "metadata": {},
   "outputs": [],
   "source": [
    "import requests"
   ]
  },
  {
   "cell_type": "code",
   "execution_count": 3,
   "id": "1aab5901-a4c9-4175-9e25-f3f746cf05ab",
   "metadata": {},
   "outputs": [],
   "source": [
    "url = \"https://search.naver.com/search.naver?where=nexearch&sm=top_hty&fbm=0&ie=utf8&query=%EB%B8%94%EB%A1%9C%EA%B7%B8\"\n",
    "response = requests.get(url)\n",
    "html_text = response.text"
   ]
  },
  {
   "cell_type": "code",
   "execution_count": 11,
   "id": "2b14a903-5b94-4e70-b35d-55361997b92e",
   "metadata": {},
   "outputs": [],
   "source": [
    "import re\n",
    "pattern = r\"<img.*src=['\\\"]([^'\\\"]*)['\\\"][^>]*>\"\n",
    "p = re.compile(pattern, re.I)  # re.I == re.IGNORECASE\n",
    "itr = p.finditer(html_text)"
   ]
  },
  {
   "cell_type": "code",
   "execution_count": 12,
   "id": "cf3288bb-39c7-4a73-bfb1-99c6146ac20d",
   "metadata": {},
   "outputs": [
    {
     "name": "stdout",
     "output_type": "stream",
     "text": [
      "https://searchad-phinf.pstatic.net/MjAyMjA1MDZfNTgg/MDAxNjUxODMwMzY5NTg3.TJtxfbR4wJnTL6njqjZD3sxAmJON-UJ_bSedPXoSTN4g.yAihZh5Qz9drNkax7MVW9ij9RcQawZs1LZJaVeaT7j8g.JPEG/698519-b171498b-4db6-46c7-8138-f60abd4b0af8.jpg?type=f160_160\n",
      "https://searchad-phinf.pstatic.net/MjAxOTA1MTdfMTQ0/MDAxNTU4MDU0MTk3MDk0.fZ-6uT8zFQqVcqZAM3gOsDMsWCC8y9kIf57rWtfU-7sg.7x6aqJr7Vt_ctHy940sV2pAraRPpLTFx0OPoS83s6lAg.JPEG/657843-41cbac80-9947-4ac8-931f-c0790f1abf21.jpg?type=f160_160\n",
      "https://searchad-phinf.pstatic.net/MjAxOTAyMjdfMjc0/MDAxNTUxMjQxNjAwOTU4.hBMqGu01NdosJaBkZT0sZZgF0HduCHvpn_wUyORy4i0g.oU1DjBpFicitGRYkDvmSJfcGOmA2-qNL3iahdbzQwbUg.JPEG/854674-d1397531-9919-4c23-924e-2541ff0020ad.JPG?type=f160_160\n",
      "https://searchad-phinf.pstatic.net/MjAyNDEwMTdfMTUz/MDAxNzI5MTU1NDQ2MTUx.gFtGXvhtFVZANygTlsPa-kNV2584HFFsd0Vt3gcTgPsg.AAYw5wZ0Z7ZlDHSHtJtP5Ku86189rdAzBw9RpyKiq8wg.PNG/3212819-6179f5f9-4558-474e-8ea5-bad8d99f4640.png?type=f160_160\n",
      "https://searchad-phinf.pstatic.net/MjAyMzA5MTRfMTcy/MDAxNjk0NjU2MTYyMjI3.ypvl3MflarurPqXxYGWo1EMxKUF72ke9_YzbQ2kc8AYg.OEbfxbeby6bEq6cB4jAD7bPiY7ZG9HxdHeg1RzGqvJsg.PNG/944831-3b255028-cf46-48f9-93c0-18f7eb019ad3.png?type=f160_160\n",
      "https://searchad-phinf.pstatic.net/MjAyMDA1MjBfNiAg/MDAxNTg5OTQyNTYxMzky.wDEZ54jEzudPogaXPAzdUCY4kPpFlNHOgwvyBSehePQg.4oKaVA7VoQe0Ik_RxsbPY8-M_o1zYumPLg3hWVbZyNcg.JPEG/369412-2dfb047a-6c02-4155-b65d-59088e990a3c.jpg?type=f160_160\n",
      "data:image/gif;base64,R0lGODlhAQABAIAAAAAAAP///yH5BAEAAAAALAAAAAABAAEAAAIBRAA7\n",
      "https://search.pstatic.net/common/?src=https%3A%2F%2Fssl.pstatic.net%2Ft.static.blog%2Fpcfe%2Fstatic%2Fpc_favicon.ico%3F2&amp;type=f48_48\n",
      "https://search.pstatic.net/common/?src=https%3A%2F%2Ft1.daumcdn.net%2Ftistory_admin%2Ffavicon%2Ftistory_favicon_32x32.ico&amp;type=f48_48\n",
      "https://search.pstatic.net/common/?src=https%3A%2F%2Fssl.pstatic.net%2Ft.static.blog%2Fpcfe%2Fstatic%2Fpc_favicon.ico%3F2&amp;type=f48_48\n",
      "https://search.pstatic.net/common/?src=https%3A%2F%2Fssl.pstatic.net%2Fstatic.news%2Fimage%2Fnews%2Fpremium%2Fstudio%2Fmeta%2F2021%2F04%2F22%2Ffavicon_M.ico&amp;type=f48_48\n",
      "https://search.pstatic.net/common/?src=https%3A%2F%2Fimgnews.pstatic.net%2Fimage%2Forigin%2F5259%2F2024%2F11%2F24%2F419902.jpg&type=ofullfill208_208_empty&expire=2&refresh=true\n",
      "data:image/gif;base64,R0lGODlhAQABAIAAAAAAAP///yH5BAEAAAAALAAAAAABAAEAAAIBRAA7\n",
      "data:image/gif;base64,R0lGODlhAQABAIAAAAAAAP///yH5BAEAAAAALAAAAAABAAEAAAIBRAA7\n",
      "data:image/gif;base64,R0lGODlhAQABAIAAAAAAAP///yH5BAEAAAAALAAAAAABAAEAAAIBRAA7\n",
      "data:image/gif;base64,R0lGODlhAQABAIAAAAAAAP///yH5BAEAAAAALAAAAAABAAEAAAIBRAA7\n",
      "data:image/gif;base64,R0lGODlhAQABAIAAAAAAAP///yH5BAEAAAAALAAAAAABAAEAAAIBRAA7\n",
      "data:image/gif;base64,R0lGODlhAQABAIAAAAAAAP///yH5BAEAAAAALAAAAAABAAEAAAIBRAA7\n",
      "https://csearch-phinf.pstatic.net/20241025_99/1729823429117tylgU_PNG/760_31963112_marketing_banner_pc_icon_3_1729823429110.png\n"
     ]
    }
   ],
   "source": [
    "for m in itr:\n",
    "    # print(m.group())\n",
    "    print(m.group(1))"
   ]
  }
 ],
 "metadata": {
  "kernelspec": {
   "display_name": "Python 3 (ipykernel)",
   "language": "python",
   "name": "python3"
  },
  "language_info": {
   "codemirror_mode": {
    "name": "ipython",
    "version": 3
   },
   "file_extension": ".py",
   "mimetype": "text/x-python",
   "name": "python",
   "nbconvert_exporter": "python",
   "pygments_lexer": "ipython3",
   "version": "3.12.7"
  }
 },
 "nbformat": 4,
 "nbformat_minor": 5
}
