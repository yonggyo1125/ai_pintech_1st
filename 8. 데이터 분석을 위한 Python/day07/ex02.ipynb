{
 "cells": [
  {
   "cell_type": "code",
   "execution_count": 1,
   "id": "9fe5c876-5ba5-4e58-bd72-a73fe025265e",
   "metadata": {},
   "outputs": [],
   "source": [
    "import re"
   ]
  },
  {
   "cell_type": "code",
   "execution_count": 3,
   "id": "93c2341d-2e29-4371-80a0-65a7431e1323",
   "metadata": {},
   "outputs": [],
   "source": [
    "p = re.compile(\"apple|orange|melon\")  # apple 또는 orange 또는 melon \n",
    "p.search(\"three oranges\")\n",
    "p.search(\"three mango\")"
   ]
  },
  {
   "cell_type": "code",
   "execution_count": 7,
   "id": "04beb09f-715c-4c8f-901f-799e2135e4c6",
   "metadata": {},
   "outputs": [],
   "source": [
    "p = re.compile(r\"^01[016]\\D*\\d{3,4}\\D*\\d{4}$\")  #01로 반드시 시작, 숫자 4자리로 반드시 끝나는 패턴\n",
    "# 010.1000.1000  010-1000 1000\n",
    "p.search(\"010/1000/1000\")"
   ]
  },
  {
   "cell_type": "code",
   "execution_count": 10,
   "id": "3677626e-d7ff-447e-9bf1-dd9529619c4f",
   "metadata": {},
   "outputs": [
    {
     "data": {
      "text/plain": [
       "<re.Match object; span=(0, 5), match='class'>"
      ]
     },
     "execution_count": 10,
     "metadata": {},
     "output_type": "execute_result"
    }
   ],
   "source": [
    "p = re.compile(r\"\\bclass\\b\")  # class 단어 \\b는 class 단어의 경계선 \n",
    "p.search(\"my class is over 6pm\")\n",
    "p.search(\"class is over 6pm\")"
   ]
  },
  {
   "cell_type": "code",
   "execution_count": 12,
   "id": "a2150028-53ff-45a8-bb27-8616962f8e01",
   "metadata": {},
   "outputs": [
    {
     "data": {
      "text/plain": [
       "<re.Match object; span=(6, 11), match='class'>"
      ]
     },
     "execution_count": 12,
     "metadata": {},
     "output_type": "execute_result"
    }
   ],
   "source": [
    "p = re.compile(r\"\\Bclass\\b\")\n",
    "p.search(\"my subclass is over 6pm\")"
   ]
  },
  {
   "cell_type": "code",
   "execution_count": 16,
   "id": "1c9ffedf-84a8-4328-ad3b-ba233c55c117",
   "metadata": {},
   "outputs": [
    {
     "data": {
      "text/plain": [
       "<re.Match object; span=(0, 6), match='ABCABC'>"
      ]
     },
     "execution_count": 16,
     "metadata": {},
     "output_type": "execute_result"
    }
   ],
   "source": [
    "p = re.compile(\"(ABC){2}\")  # ABC 패턴이 2번 반복되는지 체크\n",
    "p.search(\"ABCABCABC\")"
   ]
  }
 ],
 "metadata": {
  "kernelspec": {
   "display_name": "Python 3 (ipykernel)",
   "language": "python",
   "name": "python3"
  },
  "language_info": {
   "codemirror_mode": {
    "name": "ipython",
    "version": 3
   },
   "file_extension": ".py",
   "mimetype": "text/x-python",
   "name": "python",
   "nbconvert_exporter": "python",
   "pygments_lexer": "ipython3",
   "version": "3.12.7"
  }
 },
 "nbformat": 4,
 "nbformat_minor": 5
}
