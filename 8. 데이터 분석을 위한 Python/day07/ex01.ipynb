{
 "cells": [
  {
   "cell_type": "code",
   "execution_count": 2,
   "id": "b71005c4-e9cd-4973-8391-0ee0c35c9a6b",
   "metadata": {},
   "outputs": [],
   "source": [
    "#  . : 줄 개행 문자(\\n)를 제외한 모든 문자 1자\n",
    "import re\n",
    "p = re.compile(\"a.b\")  \n",
    "# p.match(\"a1b\")\n",
    "p.match(\"a\\nb\") # .은 줄개행 문자(\\n) 제외한 모든 문자 1자"
   ]
  },
  {
   "cell_type": "code",
   "execution_count": 5,
   "id": "3bd63f69-0d58-4193-874b-0b214f88d706",
   "metadata": {},
   "outputs": [
    {
     "data": {
      "text/plain": [
       "<re.Match object; span=(0, 3), match='a\\nb'>"
      ]
     },
     "execution_count": 5,
     "metadata": {},
     "output_type": "execute_result"
    }
   ],
   "source": [
    "# re.DOTALL : .이 줄 개행 문자(\\n)도 포함한 모든 문자 1개 \n",
    "# p = re.compile(\"a.b\", re.DOTALL)\n",
    "p = re.compile(\"a.b\", re.S)  \n",
    "p.match(\"a\\nb\")"
   ]
  },
  {
   "cell_type": "code",
   "execution_count": 11,
   "id": "e93fdde4-9932-49e3-ac46-a59f67eaf8f1",
   "metadata": {},
   "outputs": [
    {
     "data": {
      "text/plain": [
       "<re.Match object; span=(0, 6), match='Python'>"
      ]
     },
     "execution_count": 11,
     "metadata": {},
     "output_type": "execute_result"
    }
   ],
   "source": [
    "# p = re.compile(\"[a-zA-Z]+\")  # 알파벳 소문자\n",
    "# p = re.compile(\"[a-z]+\", re.IGNORECASE) # 대소문자 구분 X\n",
    "p = re.compile(\"[a-z]+\", re.I)\n",
    "p.match(\"Python\")"
   ]
  },
  {
   "cell_type": "code",
   "execution_count": 14,
   "id": "2638cc4a-4a3c-4d2e-915f-b94048c2da54",
   "metadata": {},
   "outputs": [
    {
     "name": "stdout",
     "output_type": "stream",
     "text": [
      "['python one12_', 'python two', 'python three']\n"
     ]
    }
   ],
   "source": [
    "str = \"\"\"python one12_\n",
    "life is short\n",
    "python two\n",
    "you need python\n",
    "python three\"\"\"\n",
    "# p = re.compile(r\"^python\\s\\w+\")  # 전체 하나의 문장으로 체크\n",
    "# p = re.compile(r\"^python\\s\\w+\", re.MULTILINE)  # 각각의 행별로 ^(시작), $(끝) 패턴을 체크\n",
    "p = re.compile(r\"^python\\s\\w+\", re.M)\n",
    "items = p.findall(str)\n",
    "print(items)"
   ]
  },
  {
   "cell_type": "code",
   "execution_count": 17,
   "id": "c72dd583-a647-4a81-9c4c-72f8ebb84e20",
   "metadata": {},
   "outputs": [
    {
     "data": {
      "text/plain": [
       "<re.Match object; span=(0, 5), match='ab cd'>"
      ]
     },
     "execution_count": 17,
     "metadata": {},
     "output_type": "execute_result"
    }
   ],
   "source": [
    "# p = re.compile(\"ab\\\\scd\") # \\s -> s  -> \\\\s -> \\s\n",
    "p = re.compile(r'ab\\scd')\n",
    "p.match(\"ab cd\")"
   ]
  }
 ],
 "metadata": {
  "kernelspec": {
   "display_name": "Python 3 (ipykernel)",
   "language": "python",
   "name": "python3"
  },
  "language_info": {
   "codemirror_mode": {
    "name": "ipython",
    "version": 3
   },
   "file_extension": ".py",
   "mimetype": "text/x-python",
   "name": "python",
   "nbconvert_exporter": "python",
   "pygments_lexer": "ipython3",
   "version": "3.12.7"
  }
 },
 "nbformat": 4,
 "nbformat_minor": 5
}
