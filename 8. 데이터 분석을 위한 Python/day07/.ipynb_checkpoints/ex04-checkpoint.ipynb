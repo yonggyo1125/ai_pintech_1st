{
 "cells": [
  {
   "cell_type": "code",
   "execution_count": 2,
   "id": "1230a7c0-71e5-4722-ab07-0e0024514d65",
   "metadata": {},
   "outputs": [],
   "source": [
    "import re"
   ]
  },
  {
   "cell_type": "code",
   "execution_count": 3,
   "id": "5d7c7f64-520a-406c-9401-1713022ebc1b",
   "metadata": {},
   "outputs": [],
   "source": [
    "data = \"\"\"\n",
    "이이름 010-1000-1000\n",
    "김이름 010-2000-2000\n",
    "\"\"\""
   ]
  },
  {
   "cell_type": "code",
   "execution_count": 4,
   "id": "665bffdf-b7d7-4ff0-92e9-a82de5e844e5",
   "metadata": {},
   "outputs": [
    {
     "name": "stdout",
     "output_type": "stream",
     "text": [
      "['이이름 010-1000-1000', '김이름 010-2000-2000']\n"
     ]
    }
   ],
   "source": [
    "p = re.compile(r\"[a-zA-Zㄱ-ㅎ가-힣]+\\s01[016]\\D*\\d{3,4}\\D*\\d{4}\")\n",
    "print(p.findall(data))"
   ]
  },
  {
   "cell_type": "code",
   "execution_count": 5,
   "id": "2b88b142-6f46-42e0-baae-41de6d568147",
   "metadata": {},
   "outputs": [],
   "source": [
    "p = re.compile(r\"([a-zA-Zㄱ-ㅎ가-힣]+)\\s(01[016]\\D*\\d{3,4}\\D*\\d{4})\")"
   ]
  },
  {
   "cell_type": "code",
   "execution_count": 6,
   "id": "7a81e857-1640-435e-8084-7765d5ba4de1",
   "metadata": {},
   "outputs": [
    {
     "name": "stdout",
     "output_type": "stream",
     "text": [
      "이이름 010-1000-1000\n",
      "이이름\n",
      "010-1000-1000\n",
      "김이름 010-2000-2000\n",
      "김이름\n",
      "010-2000-2000\n"
     ]
    }
   ],
   "source": [
    "for m in p.finditer(data):\n",
    "    print(m.group()) # 전체 패턴에 매칭되는 문자열\n",
    "    print(m.group(1)) # 첫번째 그룹에 매칭되는 문자열\n",
    "    print(m.group(2)) # 두번째 그룹에 매칭되는 문자열"
   ]
  },
  {
   "cell_type": "code",
   "execution_count": 8,
   "id": "d1b27cd2-b581-445f-9a79-2fed44dbb15e",
   "metadata": {},
   "outputs": [
    {
     "name": "stdout",
     "output_type": "stream",
     "text": [
      "\n",
      "010-1000-1000 이이름\n",
      "010-2000-2000 김이름\n",
      "\n"
     ]
    }
   ],
   "source": [
    "p = re.compile(r\"([a-zA-Zㄱ-ㅎ가-힣]+)\\s(01[016]\\D*\\d{3,4}\\D*\\d{4})\")  # \\g<1>, \\g<2>\n",
    "a = p.sub(r\"\\g<2> \\g<1>\", data)\n",
    "print(a)"
   ]
  },
  {
   "cell_type": "code",
   "execution_count": 13,
   "id": "a23c652d-c774-4510-9a40-294338d727ae",
   "metadata": {},
   "outputs": [
    {
     "name": "stdout",
     "output_type": "stream",
     "text": [
      "\n",
      "010-1000-1000 : 이이름\n",
      "010-2000-2000 : 김이름\n",
      "\n"
     ]
    }
   ],
   "source": [
    "p = re.compile(r\"(?P<name>[a-zA-Zㄱ-ㅎ가-힣]+)\\s(?P<phone>01[016]\\D*\\d{3,4}\\D*\\d{4})\")\n",
    "a = p.sub(r\"\\g<phone> : \\g<name>\", data)\n",
    "print(a)"
   ]
  },
  {
   "cell_type": "code",
   "execution_count": 9,
   "id": "c46de33f-3aeb-4f01-80a3-54080f65490b",
   "metadata": {},
   "outputs": [],
   "source": [
    "a = \"111 ab ab 222\""
   ]
  },
  {
   "cell_type": "code",
   "execution_count": 11,
   "id": "2967c69d-c6b5-436c-8b1b-d55b3a193400",
   "metadata": {},
   "outputs": [
    {
     "data": {
      "text/plain": [
       "<re.Match object; span=(4, 9), match='ab ab'>"
      ]
     },
     "execution_count": 11,
     "metadata": {},
     "output_type": "execute_result"
    }
   ],
   "source": [
    "p = re.compile(r\"(ab)\\s\\1\")    # \\1 - (ab)  \\1 - 1번 그룹과 동일한 패턴 \n",
    "p.search(a)"
   ]
  }
 ],
 "metadata": {
  "kernelspec": {
   "display_name": "Python 3 (ipykernel)",
   "language": "python",
   "name": "python3"
  },
  "language_info": {
   "codemirror_mode": {
    "name": "ipython",
    "version": 3
   },
   "file_extension": ".py",
   "mimetype": "text/x-python",
   "name": "python",
   "nbconvert_exporter": "python",
   "pygments_lexer": "ipython3",
   "version": "3.12.7"
  }
 },
 "nbformat": 4,
 "nbformat_minor": 5
}
