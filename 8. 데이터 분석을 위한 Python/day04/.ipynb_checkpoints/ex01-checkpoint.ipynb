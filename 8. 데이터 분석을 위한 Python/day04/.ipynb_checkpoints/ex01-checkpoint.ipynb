{
 "cells": [
  {
   "cell_type": "code",
   "execution_count": 2,
   "id": "92a20e92-bb63-497f-9201-18885232b1f0",
   "metadata": {},
   "outputs": [],
   "source": [
    "f = open('D:/data.txt', 'w')  # w - 쓰기, 지정된 경로에 파일이 없는 경우 새파일 하나 생성!\n",
    "for i in range(1, 11):  # 1 ~ 10 - 10회 반복\n",
    "    f.write(\"%d번 라인\\n\" % i)\n",
    "    \n",
    "f.close()"
   ]
  },
  {
   "cell_type": "code",
   "execution_count": 3,
   "id": "829ae84d-5950-4341-8fc7-e9dfee0ef960",
   "metadata": {},
   "outputs": [
    {
     "name": "stdout",
     "output_type": "stream",
     "text": [
      "1번 라인\n",
      "2번 라인\n",
      "3번 라인\n",
      "4번 라인\n",
      "5번 라인\n",
      "6번 라인\n",
      "7번 라인\n",
      "8번 라인\n",
      "9번 라인\n",
      "10번 라인\n",
      "\n"
     ]
    }
   ],
   "source": [
    "# 파일 읽기 \n",
    "f = open(\"D:/data.txt\", \"r\")\n",
    "data = f.read() # 파일 내용 전체 읽기\n",
    "f.close()\n",
    "\n",
    "print(data)"
   ]
  },
  {
   "cell_type": "code",
   "execution_count": 6,
   "id": "7506a8e3-72f1-4f8d-ad14-caa77e387ddd",
   "metadata": {},
   "outputs": [
    {
     "name": "stdout",
     "output_type": "stream",
     "text": [
      "1번 라인\n",
      "2번 라인\n",
      "3번 라인\n",
      "4번 라인\n",
      "5번 라인\n",
      "6번 라인\n",
      "7번 라인\n",
      "8번 라인\n",
      "9번 라인\n",
      "10번 라인\n"
     ]
    }
   ],
   "source": [
    "# 한줄 한줄 읽기 - readline()\n",
    "f = open(\"D:/data.txt\", \"r\")\n",
    "\n",
    "while True:\n",
    "    line = f.readline()\n",
    "    if not line: break\n",
    "    # print(line, end='')  # end의 기본값 \\n\n",
    "    print(line.strip())\n",
    "    \n",
    "f.close()"
   ]
  },
  {
   "cell_type": "code",
   "execution_count": 7,
   "id": "7ae000b5-42c9-4afd-aeaf-958e3493c614",
   "metadata": {},
   "outputs": [
    {
     "name": "stdout",
     "output_type": "stream",
     "text": [
      "1번 라인\n",
      "2번 라인\n",
      "3번 라인\n",
      "4번 라인\n",
      "5번 라인\n",
      "6번 라인\n",
      "7번 라인\n",
      "8번 라인\n",
      "9번 라인\n",
      "10번 라인\n"
     ]
    }
   ],
   "source": [
    "# 한꺼번에 읽어 와서 한줄 한줄 리스트로 반환 - readlines()\n",
    "f = open(\"D:/data.txt\", \"r\")\n",
    "lines = f.readlines()\n",
    "for line in lines:\n",
    "    print(line, end='')\n",
    "    \n",
    "f.close()"
   ]
  },
  {
   "cell_type": "code",
   "execution_count": 8,
   "id": "9421d202-057e-4ab0-aaa7-d316760b57d7",
   "metadata": {},
   "outputs": [
    {
     "name": "stdout",
     "output_type": "stream",
     "text": [
      "1번 라인\n",
      "2번 라인\n",
      "3번 라인\n",
      "4번 라인\n",
      "5번 라인\n",
      "6번 라인\n",
      "7번 라인\n",
      "8번 라인\n",
      "9번 라인\n",
      "10번 라인\n"
     ]
    }
   ],
   "source": [
    "f = open(\"D:/data.txt\", \"r\")\n",
    "\n",
    "for line in f:\n",
    "    print(line, end='')\n",
    "\n",
    "f.close()"
   ]
  },
  {
   "cell_type": "code",
   "execution_count": 11,
   "id": "96567fbf-8244-45e3-9dc9-d87207adb125",
   "metadata": {},
   "outputs": [],
   "source": [
    "f = open(\"D:/log.txt\", \"a\") # a : append - 텍스트가 계속 끝에 추가\n",
    "f.write(\"로그3\\n\")\n",
    "f.write(\"로그4\\n\")\n",
    "f.close()"
   ]
  },
  {
   "cell_type": "code",
   "execution_count": 13,
   "id": "b4856c48-b619-472c-8ad6-58f22534fe76",
   "metadata": {},
   "outputs": [],
   "source": [
    "# 자원 해제 자동화! - with 구문\n",
    "with open(\"D:/data2.txt\", \"w\") as f:\n",
    "    f.write(\"테스트 텍스트...\")"
   ]
  }
 ],
 "metadata": {
  "kernelspec": {
   "display_name": "Python 3 (ipykernel)",
   "language": "python",
   "name": "python3"
  },
  "language_info": {
   "codemirror_mode": {
    "name": "ipython",
    "version": 3
   },
   "file_extension": ".py",
   "mimetype": "text/x-python",
   "name": "python",
   "nbconvert_exporter": "python",
   "pygments_lexer": "ipython3",
   "version": "3.12.7"
  }
 },
 "nbformat": 4,
 "nbformat_minor": 5
}
