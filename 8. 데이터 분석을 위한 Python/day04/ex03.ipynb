{
 "cells": [
  {
   "cell_type": "code",
   "execution_count": 13,
   "id": "954dd1dd-b4a5-488a-b534-aee7141ca533",
   "metadata": {},
   "outputs": [],
   "source": [
    "class Calculator:\n",
    "    # Calculator() 호출시 가장 먼저 호출되는 메서드\n",
    "    # 객체 변수(인스턴스 변수) 초기화 작업을 주로 담당\n",
    "    def __init__(self, a, b): \n",
    "        self.a = a\n",
    "        self.b = b\n",
    "        \n",
    "    # self: 객체 자원 중 객체 변수(인스턴스 변수)를 접근하기 위한 수단 \n",
    "    def add(self):\n",
    "        return self.a + self.b  # 객체 변수 a, 객체 변수 b를 더한다\n",
    "\n",
    "    def sub(self):\n",
    "        return self.a - self.b\n",
    "\n",
    "    def mul(self):\n",
    "        return self.a * self.b\n",
    "\n",
    "    def div(self):\n",
    "        return self.a / self.b"
   ]
  },
  {
   "cell_type": "code",
   "execution_count": 15,
   "id": "15068d99-7915-424b-be54-bf23b093855f",
   "metadata": {},
   "outputs": [],
   "source": [
    "# cal = Calculator()\n",
    "cal = Calculator(10, 20)"
   ]
  },
  {
   "cell_type": "code",
   "execution_count": 16,
   "id": "e6b571aa-b18c-45ad-b768-172d1acf574d",
   "metadata": {},
   "outputs": [
    {
     "data": {
      "text/plain": [
       "200"
      ]
     },
     "execution_count": 16,
     "metadata": {},
     "output_type": "execute_result"
    }
   ],
   "source": [
    "# cal.a = 10  # 객체 변수(인스턴스 변수)\n",
    "# cal.b = 20 \n",
    "# Calculator.add(cal)\n",
    "cal.add()\n",
    "cal.mul()"
   ]
  },
  {
   "cell_type": "code",
   "execution_count": 17,
   "id": "d142fc0d-f369-4a6e-abdd-2444a0c77cf8",
   "metadata": {},
   "outputs": [],
   "source": [
    "class ProCalculator(Calculator):  # 상속, ProCalculator - 자식, Calculator - 부모\n",
    "    def div(self): # Calculator에 정의된  div를 재정의, 메서드 재정의\n",
    "        if self.b == 0:\n",
    "            return 0\n",
    "\n",
    "        return self.a / self.b\n",
    "        "
   ]
  },
  {
   "cell_type": "code",
   "execution_count": 20,
   "id": "7722ae60-28d0-440e-8795-c9cb7616392e",
   "metadata": {},
   "outputs": [
    {
     "ename": "ZeroDivisionError",
     "evalue": "division by zero",
     "output_type": "error",
     "traceback": [
      "\u001b[1;31m---------------------------------------------------------------------------\u001b[0m",
      "\u001b[1;31mZeroDivisionError\u001b[0m                         Traceback (most recent call last)",
      "Cell \u001b[1;32mIn[20], line 2\u001b[0m\n\u001b[0;32m      1\u001b[0m cal2 \u001b[38;5;241m=\u001b[39m ProCalculator(\u001b[38;5;241m10\u001b[39m, \u001b[38;5;241m0\u001b[39m)\n\u001b[1;32m----> 2\u001b[0m \u001b[43mcal2\u001b[49m\u001b[38;5;241;43m.\u001b[39;49m\u001b[43mdiv\u001b[49m\u001b[43m(\u001b[49m\u001b[43m)\u001b[49m\n",
      "Cell \u001b[1;32mIn[13], line 19\u001b[0m, in \u001b[0;36mCalculator.div\u001b[1;34m(self)\u001b[0m\n\u001b[0;32m     18\u001b[0m \u001b[38;5;28;01mdef\u001b[39;00m \u001b[38;5;21mdiv\u001b[39m(\u001b[38;5;28mself\u001b[39m):\n\u001b[1;32m---> 19\u001b[0m     \u001b[38;5;28;01mreturn\u001b[39;00m \u001b[38;5;28;43mself\u001b[39;49m\u001b[38;5;241;43m.\u001b[39;49m\u001b[43ma\u001b[49m\u001b[43m \u001b[49m\u001b[38;5;241;43m/\u001b[39;49m\u001b[43m \u001b[49m\u001b[38;5;28;43mself\u001b[39;49m\u001b[38;5;241;43m.\u001b[39;49m\u001b[43mb\u001b[49m\n",
      "\u001b[1;31mZeroDivisionError\u001b[0m: division by zero"
     ]
    }
   ],
   "source": [
    "cal2 = ProCalculator(10, 0)\n",
    "cal2.div()"
   ]
  }
 ],
 "metadata": {
  "kernelspec": {
   "display_name": "Python 3 (ipykernel)",
   "language": "python",
   "name": "python3"
  },
  "language_info": {
   "codemirror_mode": {
    "name": "ipython",
    "version": 3
   },
   "file_extension": ".py",
   "mimetype": "text/x-python",
   "name": "python",
   "nbconvert_exporter": "python",
   "pygments_lexer": "ipython3",
   "version": "3.12.7"
  }
 },
 "nbformat": 4,
 "nbformat_minor": 5
}
