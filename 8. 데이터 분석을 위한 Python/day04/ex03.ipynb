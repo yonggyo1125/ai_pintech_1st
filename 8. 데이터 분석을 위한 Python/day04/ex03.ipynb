{
 "cells": [
  {
   "cell_type": "code",
   "execution_count": 13,
   "id": "954dd1dd-b4a5-488a-b534-aee7141ca533",
   "metadata": {},
   "outputs": [],
   "source": [
    "class Calculator:\n",
    "    # Calculator() 호출시 가장 먼저 호출되는 메서드\n",
    "    # 객체 변수(인스턴스 변수) 초기화 작업을 주로 담당\n",
    "    def __init__(self, a, b): \n",
    "        self.a = a\n",
    "        self.b = b\n",
    "        \n",
    "    # self: 객체 자원 중 객체 변수(인스턴스 변수)를 접근하기 위한 수단 \n",
    "    def add(self):\n",
    "        return self.a + self.b  # 객체 변수 a, 객체 변수 b를 더한다\n",
    "\n",
    "    def sub(self):\n",
    "        return self.a - self.b\n",
    "\n",
    "    def mul(self):\n",
    "        return self.a * self.b\n",
    "\n",
    "    def div(self):\n",
    "        return self.a / self.b"
   ]
  },
  {
   "cell_type": "code",
   "execution_count": 15,
   "id": "15068d99-7915-424b-be54-bf23b093855f",
   "metadata": {},
   "outputs": [],
   "source": [
    "# cal = Calculator()\n",
    "cal = Calculator(10, 20)"
   ]
  },
  {
   "cell_type": "code",
   "execution_count": 16,
   "id": "e6b571aa-b18c-45ad-b768-172d1acf574d",
   "metadata": {},
   "outputs": [
    {
     "data": {
      "text/plain": [
       "200"
      ]
     },
     "execution_count": 16,
     "metadata": {},
     "output_type": "execute_result"
    }
   ],
   "source": [
    "# cal.a = 10  # 객체 변수(인스턴스 변수)\n",
    "# cal.b = 20 \n",
    "# Calculator.add(cal)\n",
    "cal.add()\n",
    "cal.mul()"
   ]
  },
  {
   "cell_type": "code",
   "execution_count": 23,
   "id": "d142fc0d-f369-4a6e-abdd-2444a0c77cf8",
   "metadata": {},
   "outputs": [],
   "source": [
    "class ProCalculator(Calculator):  # 상속, ProCalculator - 자식, Calculator - 부모\n",
    "    def div(self): # Calculator에 정의된  div를 재정의, 메서드 재정의\n",
    "        if self.b == 0:\n",
    "            return 0\n",
    "\n",
    "        return Calculator.div(self)\n",
    "        #return self.a / self.b\n",
    "\n",
    "    def square(self, x):\n",
    "        return x ** 2"
   ]
  },
  {
   "cell_type": "code",
   "execution_count": 24,
   "id": "7722ae60-28d0-440e-8795-c9cb7616392e",
   "metadata": {},
   "outputs": [
    {
     "data": {
      "text/plain": [
       "0"
      ]
     },
     "execution_count": 24,
     "metadata": {},
     "output_type": "execute_result"
    }
   ],
   "source": [
    "cal2 = ProCalculator(10, 0)\n",
    "cal2.div()\n",
    "ProCalculator.div(cal2)"
   ]
  },
  {
   "cell_type": "code",
   "execution_count": 28,
   "id": "60f04a1a-0ccf-48fd-bdca-e62f64ce7e34",
   "metadata": {},
   "outputs": [],
   "source": [
    "class Student:\n",
    "    def __init__(self, id, name, major):\n",
    "        self.id = id\n",
    "        self.name = name\n",
    "        self.major = major\n",
    "\n",
    "    \"\"\"\n",
    "        자바의 toString() 메서드와 유사!\n",
    "    \"\"\"\n",
    "    def __str__(self):\n",
    "        return f'id={self.id}, name={self.name}, major={self.major}'\n",
    "        "
   ]
  },
  {
   "cell_type": "code",
   "execution_count": 29,
   "id": "9a65c6bb-948f-438b-85dd-c44c479750bc",
   "metadata": {},
   "outputs": [
    {
     "name": "stdout",
     "output_type": "stream",
     "text": [
      "id=1000, name=이이름, major=파이썬\n"
     ]
    }
   ],
   "source": [
    "s1 = Student(1000, \"이이름\", \"파이썬\")\n",
    "print(s1)  # def __str__(self) "
   ]
  },
  {
   "cell_type": "code",
   "execution_count": 32,
   "id": "ebb865b1-95cd-4a87-ba92-e6ee5b6305cb",
   "metadata": {},
   "outputs": [],
   "source": [
    "class Multiply:\n",
    "    def __init__(self, num):\n",
    "        self.num = num\n",
    "\n",
    "    # 객체의 참조 변수를 함수 처럼 호출 했을때 실행\n",
    "    def __call__(self, num):\n",
    "        return self.num * num\n",
    "\n",
    "    def __str__(self):\n",
    "        return str(self.num)"
   ]
  },
  {
   "cell_type": "code",
   "execution_count": 33,
   "id": "71eac134-8cab-414b-b822-6736da4f0a7a",
   "metadata": {},
   "outputs": [
    {
     "name": "stdout",
     "output_type": "stream",
     "text": [
      "200\n",
      "10\n"
     ]
    }
   ],
   "source": [
    "mul = Multiply(10) # __init__(self, num) 호출 \n",
    "result = mul(20)  # __call__(self, num) 호출\n",
    "print(result)\n",
    "print(mul)  # __str__(self) 호출"
   ]
  },
  {
   "cell_type": "code",
   "execution_count": 37,
   "id": "7cc3e849-d1e9-468e-89d9-a33c40842322",
   "metadata": {},
   "outputs": [],
   "source": [
    "class Family:\n",
    "    lastname = '이'   # 클래스 변수 - 객체 생성 상관없이 접근 가능, self.변수 - 인스턴스 변수(객체 생성시 접근 가능)"
   ]
  },
  {
   "cell_type": "code",
   "execution_count": 35,
   "id": "f789a2b5-a944-4cdc-93b3-d8cfeaa607ff",
   "metadata": {},
   "outputs": [],
   "source": [
    "# Family.lastname = '이'  # 클래스 변수, 정적 변수, 다른 객체가 공유할 목적의 변수"
   ]
  },
  {
   "cell_type": "code",
   "execution_count": 39,
   "id": "74e5a83e-4912-4257-b7d4-fc67eb1cb90c",
   "metadata": {},
   "outputs": [
    {
     "name": "stdout",
     "output_type": "stream",
     "text": [
      "f1: 김\n",
      "f2: 이\n"
     ]
    }
   ],
   "source": [
    "f1 = Family()\n",
    "f2 = Family()\n",
    "\n",
    "f1.lastname = '김'  # 인스턴스 변수(객체 변수)\n",
    "print(\"f1: %s\" % f1.lastname)  # f1.lastname : 인스턴스 변수와 헷갈림!, 클래스명으로 직접 접근! Family.lastname\n",
    "print(\"f2: %s\" % f2.lastname)"
   ]
  },
  {
   "cell_type": "code",
   "execution_count": 40,
   "id": "808620e6-24a6-41b2-a063-9ceae1f4c91f",
   "metadata": {},
   "outputs": [],
   "source": [
    "class Bird:\n",
    "    def fly(self):\n",
    "        raise NotImplementedError"
   ]
  },
  {
   "cell_type": "code",
   "execution_count": 43,
   "id": "25f6170e-b262-4b56-9f99-5ed64d97661f",
   "metadata": {},
   "outputs": [],
   "source": [
    "class Eagle(Bird):\n",
    "    def fly(self): # 메서드 재정의\n",
    "        print(\"독수리가 아주 빠르게 날아간다!\")"
   ]
  },
  {
   "cell_type": "code",
   "execution_count": 44,
   "id": "5ff8c2c6-28f6-4e19-b8dc-fb8f8cbeb674",
   "metadata": {},
   "outputs": [
    {
     "name": "stdout",
     "output_type": "stream",
     "text": [
      "독수리가 아주 빠르게 날아간다!\n"
     ]
    }
   ],
   "source": [
    "e1 = Eagle()\n",
    "e1.fly()"
   ]
  }
 ],
 "metadata": {
  "kernelspec": {
   "display_name": "Python 3 (ipykernel)",
   "language": "python",
   "name": "python3"
  },
  "language_info": {
   "codemirror_mode": {
    "name": "ipython",
    "version": 3
   },
   "file_extension": ".py",
   "mimetype": "text/x-python",
   "name": "python",
   "nbconvert_exporter": "python",
   "pygments_lexer": "ipython3",
   "version": "3.12.7"
  }
 },
 "nbformat": 4,
 "nbformat_minor": 5
}
