{
 "cells": [
  {
   "cell_type": "code",
   "execution_count": 8,
   "id": "954dd1dd-b4a5-488a-b534-aee7141ca533",
   "metadata": {},
   "outputs": [],
   "source": [
    "class Calculator:\n",
    "    # Calculator() 호출시 가장 먼저 호출되는 메서드\n",
    "    # 객체 변수(인스턴스 변수) 초기화 작업을 주로 담당\n",
    "    def __init__(self, a, b): \n",
    "        self.a = a\n",
    "        self.b = b\n",
    "        \n",
    "    # self: 객체 자원 중 객체 변수(인스턴스 변수)를 접근하기 위한 수단 \n",
    "    def add(self):\n",
    "        return self.a + self.b  # 객체 변수 a, 객체 변수 b를 더한다"
   ]
  },
  {
   "cell_type": "code",
   "execution_count": 9,
   "id": "15068d99-7915-424b-be54-bf23b093855f",
   "metadata": {},
   "outputs": [
    {
     "name": "stdout",
     "output_type": "stream",
     "text": [
      "__init__\n"
     ]
    }
   ],
   "source": [
    "cal = Calculator()"
   ]
  },
  {
   "cell_type": "code",
   "execution_count": 7,
   "id": "e6b571aa-b18c-45ad-b768-172d1acf574d",
   "metadata": {},
   "outputs": [
    {
     "data": {
      "text/plain": [
       "30"
      ]
     },
     "execution_count": 7,
     "metadata": {},
     "output_type": "execute_result"
    }
   ],
   "source": [
    "cal.a = 10  # 객체 변수(인스턴스 변수)\n",
    "cal.b = 20 \n",
    "# Calculator.add(cal)\n",
    "cal.add()"
   ]
  }
 ],
 "metadata": {
  "kernelspec": {
   "display_name": "Python 3 (ipykernel)",
   "language": "python",
   "name": "python3"
  },
  "language_info": {
   "codemirror_mode": {
    "name": "ipython",
    "version": 3
   },
   "file_extension": ".py",
   "mimetype": "text/x-python",
   "name": "python",
   "nbconvert_exporter": "python",
   "pygments_lexer": "ipython3",
   "version": "3.12.7"
  }
 },
 "nbformat": 4,
 "nbformat_minor": 5
}
