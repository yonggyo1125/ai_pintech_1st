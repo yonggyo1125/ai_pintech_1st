{
 "cells": [
  {
   "cell_type": "code",
   "execution_count": 1,
   "id": "e26c3349-961d-4096-8f14-1b5cbcafb100",
   "metadata": {},
   "outputs": [
    {
     "name": "stdout",
     "output_type": "stream",
     "text": [
      "ABCDEFGHI\n"
     ]
    }
   ],
   "source": [
    "print(\"ABC\" + \"DEF\" + \"GHI\")  # 문자열 결합 + 연산자, 문자열끼리만 가능"
   ]
  },
  {
   "cell_type": "code",
   "execution_count": 2,
   "id": "22edbaf1-df37-4dbd-a0af-aec9aaf46da3",
   "metadata": {},
   "outputs": [
    {
     "name": "stdout",
     "output_type": "stream",
     "text": [
      "ABCDEFGHI\n"
     ]
    }
   ],
   "source": [
    "print(\"ABC\" \"DEF\" \"GHI\") # 문자열 결합, + 연산자를 사용하지 않아도 결합해서 출력!"
   ]
  },
  {
   "cell_type": "code",
   "execution_count": 3,
   "id": "d9cb2806-41c1-462a-b2e3-63ce8e51cde4",
   "metadata": {},
   "outputs": [
    {
     "name": "stdout",
     "output_type": "stream",
     "text": [
      "ABC DEF GHI\n"
     ]
    }
   ],
   "source": [
    "print(\"ABC\", \"DEF\", \"GHI\")  # 문자열을 공백으로 띄어서 결합 "
   ]
  },
  {
   "cell_type": "code",
   "execution_count": 5,
   "id": "ac88bdda-9a59-4d0d-8b5d-62413fe6cdf9",
   "metadata": {},
   "outputs": [
    {
     "name": "stdout",
     "output_type": "stream",
     "text": [
      "ABC#DEF#GHI\n"
     ]
    }
   ],
   "source": [
    "print(\"ABC\", end='#')  # end : 기본값이 \\n  -> \"ABC\\n\"\n",
    "print(\"DEF\", end='#')\n",
    "print(\"GHI\")"
   ]
  }
 ],
 "metadata": {
  "kernelspec": {
   "display_name": "Python 3 (ipykernel)",
   "language": "python",
   "name": "python3"
  },
  "language_info": {
   "codemirror_mode": {
    "name": "ipython",
    "version": 3
   },
   "file_extension": ".py",
   "mimetype": "text/x-python",
   "name": "python",
   "nbconvert_exporter": "python",
   "pygments_lexer": "ipython3",
   "version": "3.12.7"
  }
 },
 "nbformat": 4,
 "nbformat_minor": 5
}
