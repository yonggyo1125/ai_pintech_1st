{
 "cells": [
  {
   "cell_type": "code",
   "execution_count": null,
   "id": "8fb9c683-4ee2-46ba-8ab8-96221a402c23",
   "metadata": {},
   "outputs": [],
   "source": [
    "total = 0\n",
    "while True: # 무한 루프\n",
    "    num = input(\"숫자 입력:\")\n",
    "    try:\n",
    "        total += int(num)  # 문자열 숫자 -> 정수 숫자\n",
    "        print(\"합계:\", total)\n",
    "    except:\n",
    "        print(\"숫자 형식만 입력하세요.\")\n",
    "   "
   ]
  },
  {
   "cell_type": "code",
   "execution_count": 10,
   "id": "fb17020a-3e3a-4cdf-8dd0-8d968c536b0c",
   "metadata": {},
   "outputs": [
    {
     "name": "stdout",
     "output_type": "stream",
     "text": [
      "합계: 625\n"
     ]
    }
   ],
   "source": [
    "total = 0\n",
    "num = 1\n",
    "\n",
    "while num <= 100:\n",
    "    if num == 50:\n",
    "        break  # 반복 멈추기 \n",
    "        \n",
    "    if num % 2 == 0:\n",
    "        num += 1\n",
    "        continue  # 현재 반복을 중단하고 새로 반복 시작(반복 건너뛰기)\n",
    "        \n",
    "    total += num\n",
    "    #num++ // 파이썬은 증가 감소 연산자 사용 불가!\n",
    "    #++num\n",
    "    num += 1\n",
    "\n",
    "print(\"합계:\", total)"
   ]
  }
 ],
 "metadata": {
  "kernelspec": {
   "display_name": "Python 3 (ipykernel)",
   "language": "python",
   "name": "python3"
  },
  "language_info": {
   "codemirror_mode": {
    "name": "ipython",
    "version": 3
   },
   "file_extension": ".py",
   "mimetype": "text/x-python",
   "name": "python",
   "nbconvert_exporter": "python",
   "pygments_lexer": "ipython3",
   "version": "3.12.7"
  }
 },
 "nbformat": 4,
 "nbformat_minor": 5
}
