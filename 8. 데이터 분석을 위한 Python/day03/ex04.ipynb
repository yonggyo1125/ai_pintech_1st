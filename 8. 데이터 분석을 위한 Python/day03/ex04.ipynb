{
 "cells": [
  {
   "cell_type": "code",
   "execution_count": 1,
   "id": "69e5ce34-f3a5-49e3-a096-58ef343a0285",
   "metadata": {},
   "outputs": [],
   "source": [
    "def add(a, b):\n",
    "    return a + b"
   ]
  },
  {
   "cell_type": "code",
   "execution_count": 2,
   "id": "b46279c4-2a04-438e-9505-2610ebdc4679",
   "metadata": {},
   "outputs": [
    {
     "data": {
      "text/plain": [
       "30"
      ]
     },
     "execution_count": 2,
     "metadata": {},
     "output_type": "execute_result"
    }
   ],
   "source": [
    "add(10, 20)"
   ]
  },
  {
   "cell_type": "code",
   "execution_count": 4,
   "id": "8cea4097-be69-40de-ac10-3639ff298a80",
   "metadata": {},
   "outputs": [],
   "source": [
    "def sub(a,b):\n",
    "    pass"
   ]
  },
  {
   "cell_type": "code",
   "execution_count": 6,
   "id": "a67d7898-c692-4c74-9893-9b09f432c44f",
   "metadata": {},
   "outputs": [],
   "source": [
    "def calc(a, b):\n",
    "    return a + b, a - b, a * b, a / b  # 반환값 4개가 아니라! 튜플 1개"
   ]
  },
  {
   "cell_type": "code",
   "execution_count": 8,
   "id": "2d6b6fc4-1018-44bb-a43f-9d87f1e49eeb",
   "metadata": {},
   "outputs": [
    {
     "name": "stdout",
     "output_type": "stream",
     "text": [
      "(15, 5, 50, 2.0)\n"
     ]
    },
    {
     "data": {
      "text/plain": [
       "tuple"
      ]
     },
     "execution_count": 8,
     "metadata": {},
     "output_type": "execute_result"
    }
   ],
   "source": [
    "result = calc(10, 5)\n",
    "print(result)\n",
    "type(result)"
   ]
  },
  {
   "cell_type": "code",
   "execution_count": 9,
   "id": "14c6acad-4dac-4382-9fb8-b74a56df27c4",
   "metadata": {},
   "outputs": [
    {
     "name": "stdout",
     "output_type": "stream",
     "text": [
      "15 5 50 2.0\n"
     ]
    }
   ],
   "source": [
    "r1, r2, r3, r4 = calc(10, 5)\n",
    "print(r1, r2, r3, r4)"
   ]
  },
  {
   "cell_type": "code",
   "execution_count": 18,
   "id": "2c0397fd-20c2-4f12-8638-f8956a50ff26",
   "metadata": {},
   "outputs": [],
   "source": [
    "def sum(num, *params):\n",
    "    print(\"num:\", num, \"params:\", params)\n",
    "    total = 0\n",
    "    for i in params:\n",
    "        total += i\n",
    "        \n",
    "    return total"
   ]
  },
  {
   "cell_type": "code",
   "execution_count": 19,
   "id": "ce981751-23f6-4151-9ea3-d70f2fb06c57",
   "metadata": {},
   "outputs": [
    {
     "name": "stdout",
     "output_type": "stream",
     "text": [
      "num: 10 params: (20, 30, 40, 50)\n"
     ]
    },
    {
     "data": {
      "text/plain": [
       "140"
      ]
     },
     "execution_count": 19,
     "metadata": {},
     "output_type": "execute_result"
    }
   ],
   "source": [
    "sum(10, 20, 30, 40, 50)"
   ]
  },
  {
   "cell_type": "code",
   "execution_count": null,
   "id": "b7b237ee-04b9-4eeb-9d4d-f25695545b03",
   "metadata": {},
   "outputs": [],
   "source": []
  },
  {
   "cell_type": "code",
   "execution_count": 21,
   "id": "18bda6f5-49cf-499c-94cb-9893b460807c",
   "metadata": {},
   "outputs": [],
   "source": [
    "def add(a, b):\n",
    "    return a + b"
   ]
  },
  {
   "cell_type": "code",
   "execution_count": 22,
   "id": "2f4b2656-7757-4ac6-abe8-34ac0a66fde0",
   "metadata": {},
   "outputs": [
    {
     "data": {
      "text/plain": [
       "30"
      ]
     },
     "execution_count": 22,
     "metadata": {},
     "output_type": "execute_result"
    }
   ],
   "source": [
    "add(10, 20)  # a = 10, b = 20"
   ]
  },
  {
   "cell_type": "code",
   "execution_count": 23,
   "id": "891f4122-bf85-4c25-b227-eb13da95c7a4",
   "metadata": {},
   "outputs": [
    {
     "data": {
      "text/plain": [
       "30"
      ]
     },
     "execution_count": 23,
     "metadata": {},
     "output_type": "execute_result"
    }
   ],
   "source": [
    "add(b = 20, a = 10)"
   ]
  },
  {
   "cell_type": "code",
   "execution_count": 24,
   "id": "1f9ac1c7-a1a2-452c-b867-d2d32484468c",
   "metadata": {},
   "outputs": [],
   "source": [
    "def words(**params):\n",
    "    print(params)"
   ]
  },
  {
   "cell_type": "code",
   "execution_count": 25,
   "id": "7a9bdde1-90a4-4112-bcdb-c40631e0c9e7",
   "metadata": {},
   "outputs": [
    {
     "name": "stdout",
     "output_type": "stream",
     "text": [
      "{'name': '이이름', 'age': 40, 'address': '주소'}\n"
     ]
    }
   ],
   "source": [
    "words(name=\"이이름\", age=40, address=\"주소\")"
   ]
  },
  {
   "cell_type": "code",
   "execution_count": 26,
   "id": "c1a5f1d3-8b5d-4ec9-8d0c-e6d9096bfc20",
   "metadata": {},
   "outputs": [],
   "source": [
    "def get_number(num):\n",
    "    if num % 10 == 0:\n",
    "        print(\"종료!\")\n",
    "        return  # 함수의 종료, 이 후 코드는 실행 X\n",
    "\n",
    "    print(num)"
   ]
  },
  {
   "cell_type": "code",
   "execution_count": 28,
   "id": "a23c601a-3b4d-4500-944c-fd038e1f9925",
   "metadata": {},
   "outputs": [
    {
     "name": "stdout",
     "output_type": "stream",
     "text": [
      "11\n"
     ]
    }
   ],
   "source": [
    "get_number(11)"
   ]
  },
  {
   "cell_type": "code",
   "execution_count": 29,
   "id": "2b2bfd4c-8006-46b0-a66d-f28022f65853",
   "metadata": {},
   "outputs": [],
   "source": [
    "def sum(a, b, c = 100):  # 기본값은 항상 마지막 매개변수 부터 차례대로 설정!\n",
    "    return a + b + c"
   ]
  },
  {
   "cell_type": "code",
   "execution_count": 32,
   "id": "bb4d2342-60a7-41a4-beba-48ea5ffd6642",
   "metadata": {},
   "outputs": [
    {
     "data": {
      "text/plain": [
       "130"
      ]
     },
     "execution_count": 32,
     "metadata": {},
     "output_type": "execute_result"
    }
   ],
   "source": [
    "sum(10, 20)"
   ]
  },
  {
   "cell_type": "code",
   "execution_count": 33,
   "id": "2c1a7bf8-1d8d-44b4-894c-8d3852baa07b",
   "metadata": {},
   "outputs": [
    {
     "ename": "SyntaxError",
     "evalue": "parameter without a default follows parameter with a default (339554181.py, line 1)",
     "output_type": "error",
     "traceback": [
      "\u001b[1;36m  Cell \u001b[1;32mIn[33], line 1\u001b[1;36m\u001b[0m\n\u001b[1;33m    def sum2(a, b = 100, c):\u001b[0m\n\u001b[1;37m                         ^\u001b[0m\n\u001b[1;31mSyntaxError\u001b[0m\u001b[1;31m:\u001b[0m parameter without a default follows parameter with a default\n"
     ]
    }
   ],
   "source": [
    "def sum2(a, b = 100, c):\n",
    "    return a + b + c"
   ]
  },
  {
   "cell_type": "code",
   "execution_count": 36,
   "id": "8d47fada-e3b9-41de-a578-c6f11596fe38",
   "metadata": {},
   "outputs": [],
   "source": [
    "name = \"이이름\"\n",
    "\n",
    "def message(msg):\n",
    "    global name  # 전역변수 name을 message 함수 지역내에서 사용하겠다!\n",
    "    \n",
    "    print(f\"{name}님 {msg}\")"
   ]
  },
  {
   "cell_type": "code",
   "execution_count": 35,
   "id": "e2122905-c1ea-48ca-8e82-66bbb2c74ad5",
   "metadata": {},
   "outputs": [
    {
     "name": "stdout",
     "output_type": "stream",
     "text": [
      "이이름님 안녕하세요\n"
     ]
    }
   ],
   "source": [
    "message(\"안녕하세요\")"
   ]
  },
  {
   "cell_type": "code",
   "execution_count": 38,
   "id": "22708b72-5b07-4474-a092-065b5cf24fcf",
   "metadata": {},
   "outputs": [
    {
     "name": "stdout",
     "output_type": "stream",
     "text": [
      "[2, 4, 6, 8, 10]\n"
     ]
    }
   ],
   "source": [
    "nums = [1, 2, 3, 4, 5, 6, 7, 8, 9, 10]\n",
    "\n",
    "def is_even(num): # 짝수 판별 함수 - 사용자 정의 함수, 일회용으로 사용하는 경우가 많다!ㄷ\n",
    "    return num % 2 == 0\n",
    "\n",
    "even = filter(is_even, nums)\n",
    "even_nums = list(even)\n",
    "print(even_nums)"
   ]
  },
  {
   "cell_type": "code",
   "execution_count": 39,
   "id": "fb758132-ca7d-492b-9c91-855ba7e65e74",
   "metadata": {},
   "outputs": [
    {
     "name": "stdout",
     "output_type": "stream",
     "text": [
      "[2, 4, 6, 8, 10]\n"
     ]
    }
   ],
   "source": [
    "nums = [1, 2, 3, 4, 5, 6, 7, 8, 9, 10]\n",
    "is_even = lambda x : x % 2 == 0\n",
    "even = list(filter(is_even, nums))\n",
    "print(even)"
   ]
  },
  {
   "cell_type": "code",
   "execution_count": 40,
   "id": "9d833ee9-5b19-4c1b-97a3-3ae0b1c36455",
   "metadata": {},
   "outputs": [
    {
     "name": "stdout",
     "output_type": "stream",
     "text": [
      "[2, 4, 6, 8, 10]\n"
     ]
    }
   ],
   "source": [
    "nums = [1, 2, 3, 4, 5, 6, 7, 8, 9, 10]\n",
    "even = list(filter(lambda x: x % 2 == 0, nums))\n",
    "print(even)"
   ]
  },
  {
   "cell_type": "code",
   "execution_count": null,
   "id": "aa71227e-8ff2-403a-91e5-716e99b001f0",
   "metadata": {},
   "outputs": [],
   "source": []
  }
 ],
 "metadata": {
  "kernelspec": {
   "display_name": "Python 3 (ipykernel)",
   "language": "python",
   "name": "python3"
  },
  "language_info": {
   "codemirror_mode": {
    "name": "ipython",
    "version": 3
   },
   "file_extension": ".py",
   "mimetype": "text/x-python",
   "name": "python",
   "nbconvert_exporter": "python",
   "pygments_lexer": "ipython3",
   "version": "3.12.7"
  }
 },
 "nbformat": 4,
 "nbformat_minor": 5
}
