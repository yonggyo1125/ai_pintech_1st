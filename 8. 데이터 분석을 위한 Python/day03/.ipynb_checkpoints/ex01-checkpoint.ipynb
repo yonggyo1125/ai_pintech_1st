{
 "cells": [
  {
   "cell_type": "code",
   "execution_count": 1,
   "id": "6a4d9113-03bc-4d24-9ded-fc1db7387232",
   "metadata": {},
   "outputs": [
    {
     "name": "stdout",
     "output_type": "stream",
     "text": [
      "중학생\n"
     ]
    }
   ],
   "source": [
    "age = 16\n",
    "\n",
    "if age < 8:\n",
    "    print(\"유치원\")\n",
    "elif age < 14:\n",
    "    print(\"초등학생\")\n",
    "elif age < 17:\n",
    "    print(\"중학생\")\n",
    "elif age < 20:\n",
    "    print(\"고등학생\")\n",
    "else:\n",
    "    print(\"성인\")"
   ]
  },
  {
   "cell_type": "code",
   "execution_count": 2,
   "id": "e614fd55-2cde-47ee-95d8-2ccb3319457a",
   "metadata": {},
   "outputs": [
    {
     "name": "stdout",
     "output_type": "stream",
     "text": [
      "사과가 있습니다.\n"
     ]
    }
   ],
   "source": [
    "fruits = ['사과', '오렌지', '멜론']\n",
    "\n",
    "if '사과' in fruits:  # 사과가 포함 되어 있는지 체크 \n",
    "    print(\"사과가 있습니다.\")\n",
    "else:\n",
    "    print(\"사과가 없습니다.\")"
   ]
  },
  {
   "cell_type": "code",
   "execution_count": 3,
   "id": "e74c4ee2-132b-447c-86c4-1263e38377f2",
   "metadata": {},
   "outputs": [
    {
     "name": "stdout",
     "output_type": "stream",
     "text": [
      "망고가 없습니다.\n"
     ]
    }
   ],
   "source": [
    "fruits = ['사과', '오렌지', '멜론']\n",
    "\n",
    "if '망고' not in fruits:  # 망고가 포함 되어 않는지 체크\n",
    "    print(\"망고가 없습니다.\")\n",
    "else:\n",
    "    print(\"망고가 있습니다.\")"
   ]
  },
  {
   "cell_type": "code",
   "execution_count": 5,
   "id": "5cc14911-1507-49ce-82df-efdab0492a9c",
   "metadata": {},
   "outputs": [],
   "source": [
    "num = 10\n",
    "if num > 5 and num < 20:\n",
    "    pass  # 아무 것도 안함"
   ]
  },
  {
   "cell_type": "code",
   "execution_count": 6,
   "id": "bfd125db-1011-4291-ac2f-9c6641f015dc",
   "metadata": {},
   "outputs": [],
   "source": [
    "if num > 5 and num < 20: pass"
   ]
  },
  {
   "cell_type": "code",
   "execution_count": 7,
   "id": "d53cc148-012a-4575-bec7-d146415b79c2",
   "metadata": {},
   "outputs": [
    {
     "name": "stdout",
     "output_type": "stream",
     "text": [
      "합격\n"
     ]
    }
   ],
   "source": [
    "score = 60\n",
    "result = \"합격\" if score >= 60 else \"불합격\"  # 조건부 표현식\n",
    "print(result)"
   ]
  }
 ],
 "metadata": {
  "kernelspec": {
   "display_name": "Python 3 (ipykernel)",
   "language": "python",
   "name": "python3"
  },
  "language_info": {
   "codemirror_mode": {
    "name": "ipython",
    "version": 3
   },
   "file_extension": ".py",
   "mimetype": "text/x-python",
   "name": "python",
   "nbconvert_exporter": "python",
   "pygments_lexer": "ipython3",
   "version": "3.12.7"
  }
 },
 "nbformat": 4,
 "nbformat_minor": 5
}
