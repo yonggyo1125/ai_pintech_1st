{
 "cells": [
  {
   "cell_type": "code",
   "execution_count": 1,
   "id": "45afb8bf-480d-4926-94cd-1916240478f7",
   "metadata": {},
   "outputs": [],
   "source": [
    "a = \"\"\n",
    "b = \"1\"\n",
    "c = \"  \""
   ]
  },
  {
   "cell_type": "code",
   "execution_count": 5,
   "id": "a02335e6-9e93-4365-9b1d-c149a0d0f513",
   "metadata": {},
   "outputs": [
    {
     "name": "stdout",
     "output_type": "stream",
     "text": [
      "참\n"
     ]
    }
   ],
   "source": [
    "if c :\n",
    "    print(\"참\")\n",
    "else :\n",
    "    print(\"거짓\")"
   ]
  },
  {
   "cell_type": "code",
   "execution_count": 7,
   "id": "b60bf151-8bd0-4d5d-9302-c4cb4a363492",
   "metadata": {},
   "outputs": [
    {
     "name": "stdout",
     "output_type": "stream",
     "text": [
      "False\n",
      "True\n",
      "False\n",
      "False\n",
      "False\n"
     ]
    }
   ],
   "source": [
    "print(bool(\"\"))  # False \n",
    "print(bool(\"1\")) # True\n",
    "print(bool([])) # False\n",
    "print(bool(())) # False\n",
    "print(bool(None)) # False"
   ]
  }
 ],
 "metadata": {
  "kernelspec": {
   "display_name": "Python 3 (ipykernel)",
   "language": "python",
   "name": "python3"
  },
  "language_info": {
   "codemirror_mode": {
    "name": "ipython",
    "version": 3
   },
   "file_extension": ".py",
   "mimetype": "text/x-python",
   "name": "python",
   "nbconvert_exporter": "python",
   "pygments_lexer": "ipython3",
   "version": "3.12.7"
  }
 },
 "nbformat": 4,
 "nbformat_minor": 5
}
