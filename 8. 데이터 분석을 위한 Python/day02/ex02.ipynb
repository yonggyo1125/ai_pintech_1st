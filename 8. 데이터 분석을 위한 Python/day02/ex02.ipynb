{
 "cells": [
  {
   "cell_type": "code",
   "execution_count": 9,
   "id": "83b18025-dab4-468c-8c28-9ab4dbd0268d",
   "metadata": {},
   "outputs": [],
   "source": [
    "# a = (1, 2, 3)\n",
    "# a = (1) # 튜플로 인식하는 것이 아니라 숫자 1로 인식!\n",
    "a = (1,) # 숫자 1이라는 값이 1개 있는 튜플 "
   ]
  },
  {
   "cell_type": "code",
   "execution_count": 6,
   "id": "e42bb8cd-0f19-49ee-bd6d-4287aff6148d",
   "metadata": {},
   "outputs": [],
   "source": [
    "# a[1]\n",
    "# a[1] = 'A' - 변경 불가 리스트 이므로 수정시 예외 발생\n",
    "# del a[1]"
   ]
  },
  {
   "cell_type": "code",
   "execution_count": 10,
   "id": "72c23672-7167-4224-9331-bd96dd1d4bbb",
   "metadata": {},
   "outputs": [
    {
     "data": {
      "text/plain": [
       "(1,)"
      ]
     },
     "execution_count": 10,
     "metadata": {},
     "output_type": "execute_result"
    }
   ],
   "source": [
    "a"
   ]
  },
  {
   "cell_type": "code",
   "execution_count": 13,
   "id": "b990afca-d446-47ae-8e1a-1a25a2fed678",
   "metadata": {},
   "outputs": [
    {
     "data": {
      "text/plain": [
       "tuple"
      ]
     },
     "execution_count": 13,
     "metadata": {},
     "output_type": "execute_result"
    }
   ],
   "source": [
    "# type((1))  # int\n",
    "type((1,))  # tuple"
   ]
  },
  {
   "cell_type": "code",
   "execution_count": 14,
   "id": "dc1809f6-814c-4c29-bd77-9acb783f5ed6",
   "metadata": {},
   "outputs": [],
   "source": [
    "a = 1, 2, 3, 4, 5   # tuple 인식"
   ]
  },
  {
   "cell_type": "code",
   "execution_count": 15,
   "id": "5ab7af0f-e06d-427a-b2c4-3a51e134aba3",
   "metadata": {},
   "outputs": [
    {
     "data": {
      "text/plain": [
       "(1, 2, 3, 4, 5)"
      ]
     },
     "execution_count": 15,
     "metadata": {},
     "output_type": "execute_result"
    }
   ],
   "source": [
    "a"
   ]
  },
  {
   "cell_type": "code",
   "execution_count": 16,
   "id": "1c7d1f33-bbdd-4eb2-908c-a1ea9f4686d0",
   "metadata": {},
   "outputs": [
    {
     "data": {
      "text/plain": [
       "tuple"
      ]
     },
     "execution_count": 16,
     "metadata": {},
     "output_type": "execute_result"
    }
   ],
   "source": [
    "type(a)"
   ]
  },
  {
   "cell_type": "code",
   "execution_count": 17,
   "id": "4c4913bc-18ce-4c3c-a254-0974fb9eddff",
   "metadata": {},
   "outputs": [],
   "source": [
    "a = (1, 2, 3)\n",
    "b = (4, 5, 6)"
   ]
  },
  {
   "cell_type": "code",
   "execution_count": 18,
   "id": "eb134da4-a97f-47a1-9530-b06783dd1e4d",
   "metadata": {},
   "outputs": [
    {
     "name": "stdout",
     "output_type": "stream",
     "text": [
      "(1, 2, 3, 4, 5, 6)\n"
     ]
    }
   ],
   "source": [
    "c = a + b\n",
    "print(c)"
   ]
  },
  {
   "cell_type": "code",
   "execution_count": 19,
   "id": "28c45263-9b09-4c04-977c-dac77c39fd35",
   "metadata": {},
   "outputs": [
    {
     "name": "stdout",
     "output_type": "stream",
     "text": [
      "(1, 2, 3, 1, 2, 3, 1, 2, 3)\n"
     ]
    }
   ],
   "source": [
    "d = a * 3;\n",
    "print(d)"
   ]
  },
  {
   "cell_type": "code",
   "execution_count": 26,
   "id": "88b3e142-e3c8-4cdd-bd66-9e0ac3c9ed0f",
   "metadata": {},
   "outputs": [],
   "source": [
    "# a = (\"사과\", \"오렌지\")\n",
    "a = \"사과\", \"오렌지\""
   ]
  },
  {
   "cell_type": "code",
   "execution_count": 27,
   "id": "c2014e87-5ceb-4e60-9bd6-130152316745",
   "metadata": {},
   "outputs": [],
   "source": [
    "# (apple, orange) = a\n",
    "apple, orange = a"
   ]
  },
  {
   "cell_type": "code",
   "execution_count": 28,
   "id": "cf91d204-1381-42fc-a9a8-8177f76d843a",
   "metadata": {},
   "outputs": [
    {
     "name": "stdout",
     "output_type": "stream",
     "text": [
      "사과 오렌지\n"
     ]
    }
   ],
   "source": [
    "print(apple, orange)"
   ]
  },
  {
   "cell_type": "code",
   "execution_count": 30,
   "id": "af236e90-b00a-44b8-bcd1-326fec9318ab",
   "metadata": {},
   "outputs": [],
   "source": [
    "a = 20\n",
    "b = 10"
   ]
  },
  {
   "cell_type": "code",
   "execution_count": 31,
   "id": "ad0b3980-ba14-46af-8b43-d02883a678dd",
   "metadata": {},
   "outputs": [],
   "source": [
    "a, b = b, a"
   ]
  },
  {
   "cell_type": "code",
   "execution_count": 32,
   "id": "8841fbde-cd41-4bdf-b27d-2b88b7b82b1d",
   "metadata": {},
   "outputs": [
    {
     "name": "stdout",
     "output_type": "stream",
     "text": [
      "10 20\n"
     ]
    }
   ],
   "source": [
    "print(a, b)"
   ]
  }
 ],
 "metadata": {
  "kernelspec": {
   "display_name": "Python 3 (ipykernel)",
   "language": "python",
   "name": "python3"
  },
  "language_info": {
   "codemirror_mode": {
    "name": "ipython",
    "version": 3
   },
   "file_extension": ".py",
   "mimetype": "text/x-python",
   "name": "python",
   "nbconvert_exporter": "python",
   "pygments_lexer": "ipython3",
   "version": "3.12.7"
  }
 },
 "nbformat": 4,
 "nbformat_minor": 5
}
