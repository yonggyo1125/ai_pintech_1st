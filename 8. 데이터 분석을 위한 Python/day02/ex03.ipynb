{
 "cells": [
  {
   "cell_type": "code",
   "execution_count": 1,
   "id": "e6a2a269-952d-4b0c-91b8-e93fae50b3ca",
   "metadata": {},
   "outputs": [],
   "source": [
    "person = {'name': '이이름', 'age': 40}"
   ]
  },
  {
   "cell_type": "code",
   "execution_count": 7,
   "id": "44ded51e-faff-4626-aa1c-a456ce1365cd",
   "metadata": {},
   "outputs": [
    {
     "data": {
      "text/plain": [
       "{'name': '(수정)이이름', 'age': 40}"
      ]
     },
     "execution_count": 7,
     "metadata": {},
     "output_type": "execute_result"
    }
   ],
   "source": [
    "# person['name'] = '(수정)이이름'\n",
    "# person['address'] = '주소'\n",
    "del person['address']\n",
    "person"
   ]
  },
  {
   "cell_type": "code",
   "execution_count": 2,
   "id": "c42f9d6f-7679-46ab-ae7f-505776cc6ac1",
   "metadata": {},
   "outputs": [
    {
     "data": {
      "text/plain": [
       "{'name': '이이름', 'age': 40}"
      ]
     },
     "execution_count": 2,
     "metadata": {},
     "output_type": "execute_result"
    }
   ],
   "source": [
    "person"
   ]
  },
  {
   "cell_type": "code",
   "execution_count": 3,
   "id": "5ed682c4-b1f4-40bd-b577-031310fa7dfd",
   "metadata": {},
   "outputs": [
    {
     "data": {
      "text/plain": [
       "dict"
      ]
     },
     "execution_count": 3,
     "metadata": {},
     "output_type": "execute_result"
    }
   ],
   "source": [
    "type(person)"
   ]
  },
  {
   "cell_type": "code",
   "execution_count": 9,
   "id": "b60c1ccc-df89-49b1-a42e-48c628731182",
   "metadata": {},
   "outputs": [],
   "source": [
    "person = { \"name\": \"이이름\" }"
   ]
  },
  {
   "cell_type": "code",
   "execution_count": 13,
   "id": "ba01bd08-a91d-45ff-8802-dc2b52041920",
   "metadata": {},
   "outputs": [
    {
     "name": "stdout",
     "output_type": "stream",
     "text": [
      "40\n"
     ]
    }
   ],
   "source": [
    "# person['age'] - 예외 발생\n",
    "# person.get('age')\n",
    "age = person.get('age', 40)  # 기본값 40 \n",
    "print(age)"
   ]
  },
  {
   "cell_type": "code",
   "execution_count": 14,
   "id": "9746a51a-dd42-4db3-848c-6382b04cfee9",
   "metadata": {},
   "outputs": [],
   "source": [
    "person = {\"name\": \"이이름\", 'age': 40 }"
   ]
  },
  {
   "cell_type": "code",
   "execution_count": 15,
   "id": "07deb49c-96be-46f2-abd6-1aa06f9a7760",
   "metadata": {},
   "outputs": [
    {
     "name": "stdout",
     "output_type": "stream",
     "text": [
      "dict_keys(['name', 'age']) dict_values(['이이름', 40])\n"
     ]
    }
   ],
   "source": [
    "keys = person.keys() # 키 목록 조회 \n",
    "values = person.values() # 값 목록 조회\n",
    "print(keys, values)"
   ]
  },
  {
   "cell_type": "code",
   "execution_count": 16,
   "id": "298af9f8-8a4e-4fb0-96c1-963b3f149729",
   "metadata": {},
   "outputs": [
    {
     "name": "stdout",
     "output_type": "stream",
     "text": [
      "['이이름', 40]\n"
     ]
    }
   ],
   "source": [
    "values2 = list(values)\n",
    "print(values2)"
   ]
  },
  {
   "cell_type": "code",
   "execution_count": 17,
   "id": "c94d3f44-ba99-4d0a-9050-52b4b22db788",
   "metadata": {},
   "outputs": [
    {
     "name": "stdout",
     "output_type": "stream",
     "text": [
      "dict_items([('name', '이이름'), ('age', 40)])\n"
     ]
    }
   ],
   "source": [
    "items = person.items() # 키, 값 쌍\n",
    "print(items)"
   ]
  },
  {
   "cell_type": "code",
   "execution_count": 19,
   "id": "4d55b395-d391-4465-bd79-5e73dd07dd77",
   "metadata": {},
   "outputs": [
    {
     "name": "stdout",
     "output_type": "stream",
     "text": [
      "name 이이름\n",
      "age 40\n"
     ]
    }
   ],
   "source": [
    "for name, age in items:\n",
    "    print(name, age)"
   ]
  },
  {
   "cell_type": "code",
   "execution_count": 20,
   "id": "6209123c-9472-43ae-a6f9-07e44b6459e6",
   "metadata": {},
   "outputs": [
    {
     "data": {
      "text/plain": [
       "True"
      ]
     },
     "execution_count": 20,
     "metadata": {},
     "output_type": "execute_result"
    }
   ],
   "source": [
    "'name' in person"
   ]
  }
 ],
 "metadata": {
  "kernelspec": {
   "display_name": "Python 3 (ipykernel)",
   "language": "python",
   "name": "python3"
  },
  "language_info": {
   "codemirror_mode": {
    "name": "ipython",
    "version": 3
   },
   "file_extension": ".py",
   "mimetype": "text/x-python",
   "name": "python",
   "nbconvert_exporter": "python",
   "pygments_lexer": "ipython3",
   "version": "3.12.7"
  }
 },
 "nbformat": 4,
 "nbformat_minor": 5
}
