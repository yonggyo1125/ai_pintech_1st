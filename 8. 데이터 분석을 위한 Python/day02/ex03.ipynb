{
 "cells": [
  {
   "cell_type": "code",
   "execution_count": 1,
   "id": "e6a2a269-952d-4b0c-91b8-e93fae50b3ca",
   "metadata": {},
   "outputs": [],
   "source": [
    "person = {'name': '이이름', 'age': 40}"
   ]
  },
  {
   "cell_type": "code",
   "execution_count": 7,
   "id": "44ded51e-faff-4626-aa1c-a456ce1365cd",
   "metadata": {},
   "outputs": [
    {
     "data": {
      "text/plain": [
       "{'name': '(수정)이이름', 'age': 40}"
      ]
     },
     "execution_count": 7,
     "metadata": {},
     "output_type": "execute_result"
    }
   ],
   "source": [
    "# person['name'] = '(수정)이이름'\n",
    "# person['address'] = '주소'\n",
    "del person['address']\n",
    "person"
   ]
  },
  {
   "cell_type": "code",
   "execution_count": 2,
   "id": "c42f9d6f-7679-46ab-ae7f-505776cc6ac1",
   "metadata": {},
   "outputs": [
    {
     "data": {
      "text/plain": [
       "{'name': '이이름', 'age': 40}"
      ]
     },
     "execution_count": 2,
     "metadata": {},
     "output_type": "execute_result"
    }
   ],
   "source": [
    "person"
   ]
  },
  {
   "cell_type": "code",
   "execution_count": 3,
   "id": "5ed682c4-b1f4-40bd-b577-031310fa7dfd",
   "metadata": {},
   "outputs": [
    {
     "data": {
      "text/plain": [
       "dict"
      ]
     },
     "execution_count": 3,
     "metadata": {},
     "output_type": "execute_result"
    }
   ],
   "source": [
    "type(person)"
   ]
  }
 ],
 "metadata": {
  "kernelspec": {
   "display_name": "Python 3 (ipykernel)",
   "language": "python",
   "name": "python3"
  },
  "language_info": {
   "codemirror_mode": {
    "name": "ipython",
    "version": 3
   },
   "file_extension": ".py",
   "mimetype": "text/x-python",
   "name": "python",
   "nbconvert_exporter": "python",
   "pygments_lexer": "ipython3",
   "version": "3.12.7"
  }
 },
 "nbformat": 4,
 "nbformat_minor": 5
}
