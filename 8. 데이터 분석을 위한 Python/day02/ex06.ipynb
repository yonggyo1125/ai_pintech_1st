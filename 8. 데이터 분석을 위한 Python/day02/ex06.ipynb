{
 "cells": [
  {
   "cell_type": "code",
   "execution_count": 1,
   "id": "923348d4-8831-4b88-bdc0-ea1130e70343",
   "metadata": {},
   "outputs": [],
   "source": [
    "a = 10   # 자바의 리터럴 상수 비슷, 재료가 되는 수는 1개의 주소를 가지고 공유!\n",
    "b = 10"
   ]
  },
  {
   "cell_type": "code",
   "execution_count": 2,
   "id": "8b628942-2e8b-49e8-a091-832e22e8c94e",
   "metadata": {},
   "outputs": [
    {
     "name": "stdout",
     "output_type": "stream",
     "text": [
      "140722579253976 140722579253976\n"
     ]
    }
   ],
   "source": [
    "print(id(a), id(b))"
   ]
  },
  {
   "cell_type": "code",
   "execution_count": 4,
   "id": "73b60a68-6d9a-4f12-89bb-c9772ee659a8",
   "metadata": {},
   "outputs": [],
   "source": [
    "a = [1, 2, 3, 4, 5]   # a는 참조 변수 "
   ]
  },
  {
   "cell_type": "code",
   "execution_count": 7,
   "id": "3860e379-5707-4644-8648-1b656833284b",
   "metadata": {},
   "outputs": [],
   "source": [
    "b = a   # b는 a가 가지고 있는 주소값이 대입"
   ]
  },
  {
   "cell_type": "code",
   "execution_count": 8,
   "id": "7bdabf1e-b205-477b-a5ca-ae24b588dc1d",
   "metadata": {},
   "outputs": [],
   "source": [
    "b[1] = '둘'"
   ]
  },
  {
   "cell_type": "code",
   "execution_count": 9,
   "id": "a885b6d4-11bf-4025-a00f-78e21e3b0085",
   "metadata": {},
   "outputs": [
    {
     "name": "stdout",
     "output_type": "stream",
     "text": [
      "[1, '둘', 3, 4, 5]\n"
     ]
    }
   ],
   "source": [
    "print(b)"
   ]
  },
  {
   "cell_type": "code",
   "execution_count": 10,
   "id": "f789c4af-633f-45d5-a948-1ccbf11766f1",
   "metadata": {},
   "outputs": [
    {
     "name": "stdout",
     "output_type": "stream",
     "text": [
      "[1, '둘', 3, 4, 5]\n"
     ]
    }
   ],
   "source": [
    "print(a)"
   ]
  },
  {
   "cell_type": "code",
   "execution_count": 11,
   "id": "4536afb3-5a20-49e2-9b50-58749e5d5dde",
   "metadata": {},
   "outputs": [
    {
     "name": "stdout",
     "output_type": "stream",
     "text": [
      "1709356245312 1709356245312\n"
     ]
    }
   ],
   "source": [
    "print(id(a), id(b))"
   ]
  },
  {
   "cell_type": "code",
   "execution_count": 14,
   "id": "b05befd2-b7d5-43be-af2b-15babcf93ba2",
   "metadata": {},
   "outputs": [
    {
     "data": {
      "text/plain": [
       "True"
      ]
     },
     "execution_count": 14,
     "metadata": {},
     "output_type": "execute_result"
    }
   ],
   "source": [
    "# a == b  # 주소 비교\n",
    "a is b # a,b가 같은 객체를 참조 하는지 체크"
   ]
  },
  {
   "cell_type": "code",
   "execution_count": 15,
   "id": "7345157a-c3be-4a23-a2c2-4ddd1b3dc2d9",
   "metadata": {},
   "outputs": [],
   "source": [
    "a = [1, 2, 3, 4, 5]"
   ]
  },
  {
   "cell_type": "code",
   "execution_count": 17,
   "id": "fbe4b055-8575-4fce-adcf-528cc9384d60",
   "metadata": {},
   "outputs": [],
   "source": [
    "b = a[:]  # 전체 값을 복사해서 새로운 리스트 객체"
   ]
  },
  {
   "cell_type": "code",
   "execution_count": 18,
   "id": "939a684d-681b-464a-a449-f17bc0687006",
   "metadata": {},
   "outputs": [],
   "source": [
    "b[1] = '둘'"
   ]
  },
  {
   "cell_type": "code",
   "execution_count": 20,
   "id": "829757a4-c14e-4750-a1d7-9e6b351b25a0",
   "metadata": {},
   "outputs": [
    {
     "name": "stdout",
     "output_type": "stream",
     "text": [
      "[1, 2, 3, 4, 5] [1, '둘', 3, 4, 5] 1709361891136 1709361893056\n"
     ]
    }
   ],
   "source": [
    "print(a, b, id(a), id(b))"
   ]
  },
  {
   "cell_type": "code",
   "execution_count": 22,
   "id": "122f23ac-5bdc-4df8-b8eb-e219a26a3341",
   "metadata": {},
   "outputs": [],
   "source": [
    "c = a.copy() # 전체 값을 복사해서 새로운 리스트 객체"
   ]
  },
  {
   "cell_type": "code",
   "execution_count": 23,
   "id": "23304b54-ab76-41ed-a0f2-5784bfa91d33",
   "metadata": {},
   "outputs": [],
   "source": [
    "c[2] = '셋'"
   ]
  },
  {
   "cell_type": "code",
   "execution_count": 24,
   "id": "a8c5fd72-de9f-43d1-a11c-24b83f61173d",
   "metadata": {},
   "outputs": [
    {
     "name": "stdout",
     "output_type": "stream",
     "text": [
      "[1, 2, 3, 4, 5] [1, 2, '셋', 4, 5] 1709361891136 1709362319296\n"
     ]
    }
   ],
   "source": [
    "print(a, c, id(a), id(c))"
   ]
  },
  {
   "cell_type": "code",
   "execution_count": 25,
   "id": "982bcfa0-c02d-4bf3-aa77-ffb9ad1ab0d4",
   "metadata": {},
   "outputs": [],
   "source": [
    "[a, b] = ['사과', '오렌지']"
   ]
  },
  {
   "cell_type": "code",
   "execution_count": 26,
   "id": "f06801b0-62ea-4841-8b90-c918a7ea0c97",
   "metadata": {},
   "outputs": [
    {
     "name": "stdout",
     "output_type": "stream",
     "text": [
      "사과 오렌지\n"
     ]
    }
   ],
   "source": [
    "print(a, b)"
   ]
  }
 ],
 "metadata": {
  "kernelspec": {
   "display_name": "Python 3 (ipykernel)",
   "language": "python",
   "name": "python3"
  },
  "language_info": {
   "codemirror_mode": {
    "name": "ipython",
    "version": 3
   },
   "file_extension": ".py",
   "mimetype": "text/x-python",
   "name": "python",
   "nbconvert_exporter": "python",
   "pygments_lexer": "ipython3",
   "version": "3.12.7"
  }
 },
 "nbformat": 4,
 "nbformat_minor": 5
}
