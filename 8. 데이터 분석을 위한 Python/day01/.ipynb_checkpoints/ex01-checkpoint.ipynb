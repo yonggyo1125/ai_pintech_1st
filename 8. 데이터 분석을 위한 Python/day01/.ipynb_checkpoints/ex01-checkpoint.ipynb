{
 "cells": [
  {
   "cell_type": "code",
   "execution_count": 2,
   "id": "f27812fe-5d7f-4dfe-80b1-c97e00b11821",
   "metadata": {},
   "outputs": [
    {
     "data": {
      "text/plain": [
       "8"
      ]
     },
     "execution_count": 2,
     "metadata": {},
     "output_type": "execute_result"
    }
   ],
   "source": [
    "# ** : 제곱 연산 \n",
    "2 ** 3  # 2의 3제곱 "
   ]
  },
  {
   "cell_type": "code",
   "execution_count": 5,
   "id": "06314836-ed9c-4358-8369-9ae952a8d4ce",
   "metadata": {},
   "outputs": [
    {
     "name": "stdout",
     "output_type": "stream",
     "text": [
      "1\n",
      "4\n"
     ]
    }
   ],
   "source": [
    "# % : 나머지 연산자 \n",
    "# // : 몫을 구하는 연산자 \n",
    "print(9 % 2)\n",
    "print(9 // 2)"
   ]
  },
  {
   "cell_type": "code",
   "execution_count": 9,
   "id": "77c2d161-0a99-4fe2-ba91-cc96b0524af5",
   "metadata": {},
   "outputs": [
    {
     "data": {
      "text/plain": [
       "str"
      ]
     },
     "execution_count": 9,
     "metadata": {},
     "output_type": "execute_result"
    }
   ],
   "source": [
    "# a = 100\n",
    "# a = 100.123\n",
    "# a = \"Python\"\n",
    "a = 'Python'\n",
    "type(a) # 자료형 체크 함수"
   ]
  },
  {
   "cell_type": "code",
   "execution_count": 10,
   "id": "4716ccf8-7663-446c-b97c-f643c59472e0",
   "metadata": {},
   "outputs": [
    {
     "data": {
      "text/plain": [
       "\"Python's favorite food is perl\""
      ]
     },
     "execution_count": 10,
     "metadata": {},
     "output_type": "execute_result"
    }
   ],
   "source": [
    "\"Python's favorite food is perl\"  # 문장에 작은 따옴표가 섞여 있는 경우 큰 따옴표(\") 사용"
   ]
  },
  {
   "cell_type": "code",
   "execution_count": 13,
   "id": "8b1fa5f9-8ca4-49df-80de-1b07d7fcd0a7",
   "metadata": {},
   "outputs": [
    {
     "data": {
      "text/plain": [
       "'Python\"s favorite food is perl'"
      ]
     },
     "execution_count": 13,
     "metadata": {},
     "output_type": "execute_result"
    }
   ],
   "source": [
    "#'Python's favorite food is perl'  - 오류 발생(문법 오류)\n",
    "'Python\\'s favorite food is perl' # \\' - 작은 따옴표 인식 가능 \\ - escape 문자 \n",
    "\"Python\\\"s favorite food is perl\" # \\\" - 큰 따옴표 인식 가능 "
   ]
  },
  {
   "cell_type": "code",
   "execution_count": 14,
   "id": "e120704d-6f55-4207-92cc-8a503b5ec705",
   "metadata": {},
   "outputs": [
    {
     "name": "stdout",
     "output_type": "stream",
     "text": [
      "Life is short,\n",
      "You need python\n"
     ]
    }
   ],
   "source": [
    "a = \"Life is short,\\nYou need python\"  # \\n - 메타 문자 / 줄 개행 \n",
    "print(a)"
   ]
  },
  {
   "cell_type": "code",
   "execution_count": 15,
   "id": "8456e105-9ff7-4337-97da-e507082dc8e5",
   "metadata": {},
   "outputs": [
    {
     "name": "stdout",
     "output_type": "stream",
     "text": [
      "Life is short,\n",
      "You need python\n"
     ]
    }
   ],
   "source": [
    "b = \"\"\"Life is short,\n",
    "You need python\"\"\"   # \"\"\" 또는 ''' 모두 가능!\n",
    "print(b)"
   ]
  },
  {
   "cell_type": "code",
   "execution_count": 16,
   "id": "bfe01690-a7a9-4063-a4ef-5162eee2089f",
   "metadata": {},
   "outputs": [
    {
     "data": {
      "text/plain": [
       "'python is  fun!'"
      ]
     },
     "execution_count": 16,
     "metadata": {},
     "output_type": "execute_result"
    }
   ],
   "source": [
    "\"python\" + \" is \" + \" fun!\""
   ]
  },
  {
   "cell_type": "code",
   "execution_count": 17,
   "id": "52ae03cc-d5b4-45cc-845f-d9562ee9a572",
   "metadata": {},
   "outputs": [
    {
     "data": {
      "text/plain": [
       "'pythonpythonpython'"
      ]
     },
     "execution_count": 17,
     "metadata": {},
     "output_type": "execute_result"
    }
   ],
   "source": [
    "\"python\" * 3"
   ]
  },
  {
   "cell_type": "code",
   "execution_count": 19,
   "id": "29dc868d-83b4-4358-b57e-c98f10120d5c",
   "metadata": {},
   "outputs": [
    {
     "name": "stdout",
     "output_type": "stream",
     "text": [
      "==============================\n",
      "재미있는 파이썬 공부!\n",
      "==============================\n"
     ]
    }
   ],
   "source": [
    "print(\"=\" * 30)\n",
    "print(\"재미있는 파이썬 공부!\")\n",
    "print(\"=\" * 30)"
   ]
  }
 ],
 "metadata": {
  "kernelspec": {
   "display_name": "Python 3 (ipykernel)",
   "language": "python",
   "name": "python3"
  },
  "language_info": {
   "codemirror_mode": {
    "name": "ipython",
    "version": 3
   },
   "file_extension": ".py",
   "mimetype": "text/x-python",
   "name": "python",
   "nbconvert_exporter": "python",
   "pygments_lexer": "ipython3",
   "version": "3.12.7"
  }
 },
 "nbformat": 4,
 "nbformat_minor": 5
}
