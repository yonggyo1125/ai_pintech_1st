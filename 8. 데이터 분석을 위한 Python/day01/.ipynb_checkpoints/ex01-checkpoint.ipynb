{
 "cells": [
  {
   "cell_type": "code",
   "execution_count": 2,
   "id": "f27812fe-5d7f-4dfe-80b1-c97e00b11821",
   "metadata": {},
   "outputs": [
    {
     "data": {
      "text/plain": [
       "8"
      ]
     },
     "execution_count": 2,
     "metadata": {},
     "output_type": "execute_result"
    }
   ],
   "source": [
    "# ** : 제곱 연산 \n",
    "2 ** 3  # 2의 3제곱 "
   ]
  },
  {
   "cell_type": "code",
   "execution_count": 5,
   "id": "06314836-ed9c-4358-8369-9ae952a8d4ce",
   "metadata": {},
   "outputs": [
    {
     "name": "stdout",
     "output_type": "stream",
     "text": [
      "1\n",
      "4\n"
     ]
    }
   ],
   "source": [
    "# % : 나머지 연산자 \n",
    "# // : 몫을 구하는 연산자 \n",
    "print(9 % 2)\n",
    "print(9 // 2)"
   ]
  },
  {
   "cell_type": "code",
   "execution_count": 9,
   "id": "77c2d161-0a99-4fe2-ba91-cc96b0524af5",
   "metadata": {},
   "outputs": [
    {
     "data": {
      "text/plain": [
       "str"
      ]
     },
     "execution_count": 9,
     "metadata": {},
     "output_type": "execute_result"
    }
   ],
   "source": [
    "# a = 100\n",
    "# a = 100.123\n",
    "# a = \"Python\"\n",
    "a = 'Python'\n",
    "type(a) # 자료형 체크 함수"
   ]
  },
  {
   "cell_type": "code",
   "execution_count": 10,
   "id": "4716ccf8-7663-446c-b97c-f643c59472e0",
   "metadata": {},
   "outputs": [
    {
     "data": {
      "text/plain": [
       "\"Python's favorite food is perl\""
      ]
     },
     "execution_count": 10,
     "metadata": {},
     "output_type": "execute_result"
    }
   ],
   "source": [
    "\"Python's favorite food is perl\"  # 문장에 작은 따옴표가 섞여 있는 경우 큰 따옴표(\") 사용"
   ]
  },
  {
   "cell_type": "code",
   "execution_count": 13,
   "id": "8b1fa5f9-8ca4-49df-80de-1b07d7fcd0a7",
   "metadata": {},
   "outputs": [
    {
     "data": {
      "text/plain": [
       "'Python\"s favorite food is perl'"
      ]
     },
     "execution_count": 13,
     "metadata": {},
     "output_type": "execute_result"
    }
   ],
   "source": [
    "#'Python's favorite food is perl'  - 오류 발생(문법 오류)\n",
    "'Python\\'s favorite food is perl' # \\' - 작은 따옴표 인식 가능 \\ - escape 문자 \n",
    "\"Python\\\"s favorite food is perl\" # \\\" - 큰 따옴표 인식 가능 "
   ]
  },
  {
   "cell_type": "code",
   "execution_count": 14,
   "id": "e120704d-6f55-4207-92cc-8a503b5ec705",
   "metadata": {},
   "outputs": [
    {
     "name": "stdout",
     "output_type": "stream",
     "text": [
      "Life is short,\n",
      "You need python\n"
     ]
    }
   ],
   "source": [
    "a = \"Life is short,\\nYou need python\"  # \\n - 메타 문자 / 줄 개행 \n",
    "print(a)"
   ]
  },
  {
   "cell_type": "code",
   "execution_count": 15,
   "id": "8456e105-9ff7-4337-97da-e507082dc8e5",
   "metadata": {},
   "outputs": [
    {
     "name": "stdout",
     "output_type": "stream",
     "text": [
      "Life is short,\n",
      "You need python\n"
     ]
    }
   ],
   "source": [
    "b = \"\"\"Life is short,\n",
    "You need python\"\"\"   # \"\"\" 또는 ''' 모두 가능!\n",
    "print(b)"
   ]
  },
  {
   "cell_type": "code",
   "execution_count": 16,
   "id": "bfe01690-a7a9-4063-a4ef-5162eee2089f",
   "metadata": {},
   "outputs": [
    {
     "data": {
      "text/plain": [
       "'python is  fun!'"
      ]
     },
     "execution_count": 16,
     "metadata": {},
     "output_type": "execute_result"
    }
   ],
   "source": [
    "\"python\" + \" is \" + \" fun!\""
   ]
  },
  {
   "cell_type": "code",
   "execution_count": 17,
   "id": "52ae03cc-d5b4-45cc-845f-d9562ee9a572",
   "metadata": {},
   "outputs": [
    {
     "data": {
      "text/plain": [
       "'pythonpythonpython'"
      ]
     },
     "execution_count": 17,
     "metadata": {},
     "output_type": "execute_result"
    }
   ],
   "source": [
    "\"python\" * 3"
   ]
  },
  {
   "cell_type": "code",
   "execution_count": 19,
   "id": "29dc868d-83b4-4358-b57e-c98f10120d5c",
   "metadata": {},
   "outputs": [
    {
     "name": "stdout",
     "output_type": "stream",
     "text": [
      "==============================\n",
      "재미있는 파이썬 공부!\n",
      "==============================\n"
     ]
    }
   ],
   "source": [
    "print(\"=\" * 30)\n",
    "print(\"재미있는 파이썬 공부!\")\n",
    "print(\"=\" * 30)"
   ]
  },
  {
   "cell_type": "code",
   "execution_count": 20,
   "id": "aedc8a82-8372-4a06-a204-8b1d32c3c782",
   "metadata": {},
   "outputs": [
    {
     "data": {
      "text/plain": [
       "5"
      ]
     },
     "execution_count": 20,
     "metadata": {},
     "output_type": "execute_result"
    }
   ],
   "source": [
    "a = \"가나다라마\"\n",
    "len(a)"
   ]
  },
  {
   "cell_type": "code",
   "execution_count": 21,
   "id": "75f2e292-5960-4198-95c8-d262d14822ee",
   "metadata": {},
   "outputs": [],
   "source": [
    "a = \"Life is too short, You need Python\""
   ]
  },
  {
   "cell_type": "code",
   "execution_count": 36,
   "id": "f7e5cc13-e819-40af-9fb5-8bc65138f021",
   "metadata": {},
   "outputs": [
    {
     "name": "stdout",
     "output_type": "stream",
     "text": [
      "Life is too short, You need Python\n",
      "Life 2466052306768 2466057186928\n"
     ]
    }
   ],
   "source": [
    "b = a[:]  # 문자열 전체 복사\n",
    "print(b)\n",
    "# print(id(a), id(b))\n",
    "print(a[0:4], id(a[0:4]), id(a))"
   ]
  },
  {
   "cell_type": "code",
   "execution_count": 32,
   "id": "6e134db2-f4ea-4e0d-b0f6-3e29d2db6441",
   "metadata": {},
   "outputs": [
    {
     "data": {
      "text/plain": [
       "'Life is too short, You need'"
      ]
     },
     "execution_count": 32,
     "metadata": {},
     "output_type": "execute_result"
    }
   ],
   "source": [
    "# a[-6:-1]\n",
    "a[-6:] # -6 인덱스 위치부터 끝까지 \n",
    "a[:-7] # 0 ~ -8"
   ]
  },
  {
   "cell_type": "code",
   "execution_count": 28,
   "id": "97bedb11-12b7-4487-b8cc-9e6763eff424",
   "metadata": {},
   "outputs": [
    {
     "data": {
      "text/plain": [
       "'Life'"
      ]
     },
     "execution_count": 28,
     "metadata": {},
     "output_type": "execute_result"
    }
   ],
   "source": [
    "a[0:4] # 0,1,2,3"
   ]
  },
  {
   "cell_type": "code",
   "execution_count": 27,
   "id": "5e6dfb90-29f1-47cf-8c3e-aa3ef93d9b06",
   "metadata": {},
   "outputs": [
    {
     "data": {
      "text/plain": [
       "'n'"
      ]
     },
     "execution_count": 27,
     "metadata": {},
     "output_type": "execute_result"
    }
   ],
   "source": [
    "a[-1]"
   ]
  },
  {
   "cell_type": "code",
   "execution_count": 22,
   "id": "7838c53c-41d3-4221-b038-e3baabe7dad8",
   "metadata": {},
   "outputs": [
    {
     "data": {
      "text/plain": [
       "'f'"
      ]
     },
     "execution_count": 22,
     "metadata": {},
     "output_type": "execute_result"
    }
   ],
   "source": [
    "a[2]"
   ]
  },
  {
   "cell_type": "code",
   "execution_count": 23,
   "id": "1e9ecd5f-1f70-457a-ac8b-3bd5d04422d4",
   "metadata": {},
   "outputs": [
    {
     "ename": "TypeError",
     "evalue": "'str' object does not support item assignment",
     "output_type": "error",
     "traceback": [
      "\u001b[1;31m---------------------------------------------------------------------------\u001b[0m",
      "\u001b[1;31mTypeError\u001b[0m                                 Traceback (most recent call last)",
      "Cell \u001b[1;32mIn[23], line 1\u001b[0m\n\u001b[1;32m----> 1\u001b[0m \u001b[43ma\u001b[49m\u001b[43m[\u001b[49m\u001b[38;5;241;43m2\u001b[39;49m\u001b[43m]\u001b[49m \u001b[38;5;241m=\u001b[39m \u001b[38;5;124m'\u001b[39m\u001b[38;5;124mF\u001b[39m\u001b[38;5;124m'\u001b[39m\n",
      "\u001b[1;31mTypeError\u001b[0m: 'str' object does not support item assignment"
     ]
    }
   ],
   "source": [
    "a[2] = 'F'"
   ]
  },
  {
   "cell_type": "code",
   "execution_count": 26,
   "id": "824cb845-8a4b-4506-8711-1a46e2f48701",
   "metadata": {},
   "outputs": [
    {
     "name": "stdout",
     "output_type": "stream",
     "text": [
      "140718748091312\n",
      "2466052308304\n",
      "ABCDEF\n"
     ]
    }
   ],
   "source": [
    "b = \"ABC\"  # id(...) 자원의 주소를 조회하는 함수\n",
    "print(id(b))\n",
    "\n",
    "b += \"DEF\"\n",
    "print(id(b))  # 문자열은 불변! 새로 추가하면 새로운 문자열 객체가 생성\n",
    "print(b)  "
   ]
  },
  {
   "cell_type": "code",
   "execution_count": 40,
   "id": "f4c321ce-6948-4bab-bc28-2872ca259837",
   "metadata": {},
   "outputs": [
    {
     "name": "stdout",
     "output_type": "stream",
     "text": [
      "Python\n"
     ]
    }
   ],
   "source": [
    "a = \"Pithon\"  # Python 변경 하시오\n",
    "#a[1] = 'y'\n",
    "b = a[0] + 'y' + a[2:]\n",
    "print(b)"
   ]
  },
  {
   "cell_type": "code",
   "execution_count": 45,
   "id": "505d1981-3fa1-4898-9986-2f23cc575eb4",
   "metadata": {},
   "outputs": [
    {
     "data": {
      "text/plain": [
       "'I eat three apples.'"
      ]
     },
     "execution_count": 45,
     "metadata": {},
     "output_type": "execute_result"
    }
   ],
   "source": [
    "# \"I eat %d apples.\" % 3\n",
    "\"I eat %s apples.\" % \"three\""
   ]
  },
  {
   "cell_type": "code",
   "execution_count": 46,
   "id": "d1e27de0-7fbd-4d5e-8238-ed5035b0fdf2",
   "metadata": {},
   "outputs": [
    {
     "data": {
      "text/plain": [
       "'I eat 3 apples and 5 breads'"
      ]
     },
     "execution_count": 46,
     "metadata": {},
     "output_type": "execute_result"
    }
   ],
   "source": [
    "\"I eat %d apples and %d breads\" % (3, 5)  # String.format(...)"
   ]
  },
  {
   "cell_type": "code",
   "execution_count": 48,
   "id": "2311f2d9-b1c0-4fd0-bfd0-b6eeba45c1b1",
   "metadata": {},
   "outputs": [
    {
     "data": {
      "text/plain": [
       "'loading is now 78%'"
      ]
     },
     "execution_count": 48,
     "metadata": {},
     "output_type": "execute_result"
    }
   ],
   "source": [
    "\"loading is now %d%%\" % 78  # % : 형식화를 위한 문법적 문자로 인식하므로 %% 써야 %문자로 인식"
   ]
  },
  {
   "cell_type": "code",
   "execution_count": 50,
   "id": "c9556854-2581-43a7-95a6-42af688cb359",
   "metadata": {},
   "outputs": [
    {
     "data": {
      "text/plain": [
       "'ABC       DEF'"
      ]
     },
     "execution_count": 50,
     "metadata": {},
     "output_type": "execute_result"
    }
   ],
   "source": [
    "\"ABC%10s\" % \"DEF\""
   ]
  },
  {
   "cell_type": "code",
   "execution_count": 51,
   "id": "c668b30f-a589-419d-b9e8-8858be423263",
   "metadata": {},
   "outputs": [
    {
     "data": {
      "text/plain": [
       "'ABC       DEF'"
      ]
     },
     "execution_count": 51,
     "metadata": {},
     "output_type": "execute_result"
    }
   ],
   "source": [
    "\"%-10sDEF\" % \"ABC\""
   ]
  },
  {
   "cell_type": "code",
   "execution_count": 53,
   "id": "0d38110e-6ffe-4d62-8088-ebf52fcf4528",
   "metadata": {},
   "outputs": [
    {
     "data": {
      "text/plain": [
       "'   12.1235'"
      ]
     },
     "execution_count": 53,
     "metadata": {},
     "output_type": "execute_result"
    }
   ],
   "source": [
    "\"%10.4f\" % 12.12345678"
   ]
  },
  {
   "cell_type": "code",
   "execution_count": 55,
   "id": "c4489904-2b43-46af-8e23-8810db6e4829",
   "metadata": {},
   "outputs": [
    {
     "data": {
      "text/plain": [
       "'12341234.1234'"
      ]
     },
     "execution_count": 55,
     "metadata": {},
     "output_type": "execute_result"
    }
   ],
   "source": [
    "#\"%0.4f\" % 12341234.12341234\n",
    "\"%.4f\" % 12341234.12341234"
   ]
  },
  {
   "cell_type": "code",
   "execution_count": 62,
   "id": "e9f9bfb8-d68c-4874-8310-a986014372f0",
   "metadata": {},
   "outputs": [
    {
     "data": {
      "text/plain": [
       "'I eat 3,5 apples and five breads'"
      ]
     },
     "execution_count": 62,
     "metadata": {},
     "output_type": "execute_result"
    }
   ],
   "source": [
    "# \"I eat {0} apples.\".format(3)\n",
    "# \"I eat {0} apples.\".format(\"three\")\n",
    "# \"I eat {0} apples and {1} breads\".format(3, \"five\")\n",
    "# \"I eat {num1} apples and {num2} breads\".format(num2=5, num1=3)\n",
    "\"I eat {0},{1} apples and {num} breads\".format(3,5, num=\"five\")"
   ]
  },
  {
   "cell_type": "code",
   "execution_count": 67,
   "id": "96bc861e-dc53-4707-9e87-a84cf962db71",
   "metadata": {},
   "outputs": [
    {
     "data": {
      "text/plain": [
       "'안녕!!!!!!!!'"
      ]
     },
     "execution_count": 67,
     "metadata": {},
     "output_type": "execute_result"
    }
   ],
   "source": [
    "# \"{0:<10}\".format(\"안녕\")\n",
    "\"{0:!<10}\".format(\"안녕\")"
   ]
  },
  {
   "cell_type": "code",
   "execution_count": 64,
   "id": "e65ec0d5-7acf-4aaa-b9be-51b8f11074d7",
   "metadata": {},
   "outputs": [
    {
     "data": {
      "text/plain": [
       "'        안녕'"
      ]
     },
     "execution_count": 64,
     "metadata": {},
     "output_type": "execute_result"
    }
   ],
   "source": [
    "\"{0:>10}\".format(\"안녕\")"
   ]
  },
  {
   "cell_type": "code",
   "execution_count": 66,
   "id": "88b21535-cc7f-4eba-95aa-838cc5989ca5",
   "metadata": {},
   "outputs": [
    {
     "data": {
      "text/plain": [
       "'****안녕****'"
      ]
     },
     "execution_count": 66,
     "metadata": {},
     "output_type": "execute_result"
    }
   ],
   "source": [
    "# \"{0:^10}\".format(\"안녕\")\n",
    "\"{0:*^10}\".format(\"안녕\") # 공백을 *로 채워 넣는다."
   ]
  },
  {
   "cell_type": "code",
   "execution_count": 68,
   "id": "bccb41ee-b56c-458e-9e72-bda932c3c3d1",
   "metadata": {},
   "outputs": [
    {
     "data": {
      "text/plain": [
       "'100.123'"
      ]
     },
     "execution_count": 68,
     "metadata": {},
     "output_type": "execute_result"
    }
   ],
   "source": [
    "\"{0:0.3f}\".format(100.12345678)"
   ]
  },
  {
   "cell_type": "code",
   "execution_count": 70,
   "id": "ce085ff3-9740-40f0-a392-d6edb8b7cca5",
   "metadata": {},
   "outputs": [
    {
     "data": {
      "text/plain": [
       "'{  number1 } - 100'"
      ]
     },
     "execution_count": 70,
     "metadata": {},
     "output_type": "execute_result"
    }
   ],
   "source": [
    "\"{{  number1 }} - {0}\".format(100)  # { }를 문자로 인식하려면 {{ }}"
   ]
  },
  {
   "cell_type": "code",
   "execution_count": 73,
   "id": "8989b68e-edd8-40b2-a47b-e32e79f044c8",
   "metadata": {},
   "outputs": [
    {
     "data": {
      "text/plain": [
       "'num1=10, num2=20, result=30'"
      ]
     },
     "execution_count": 73,
     "metadata": {},
     "output_type": "execute_result"
    }
   ],
   "source": [
    "num1 = 10\n",
    "num2 = 20\n",
    "f\"num1={num1}, num2={num2}, result={num1+num2}\"  # 파이썬 3.6 버전 부터 도입된 문법ㅂ"
   ]
  },
  {
   "cell_type": "code",
   "execution_count": 78,
   "id": "51bc0590-bbe3-4ab8-8e86-d4191c79a36a",
   "metadata": {},
   "outputs": [
    {
     "data": {
      "text/plain": [
       "'****안녕****'"
      ]
     },
     "execution_count": 78,
     "metadata": {},
     "output_type": "execute_result"
    }
   ],
   "source": [
    "# f\"{'안녕':<10}\"\n",
    "# f\"{'안녕':>10}\"\n",
    "# f\"{'안녕':^10}\"\n",
    "f\"{'안녕':*^10}\""
   ]
  },
  {
   "cell_type": "code",
   "execution_count": 79,
   "id": "2b0b4099-3b52-4e2a-8971-572ed22f1f48",
   "metadata": {},
   "outputs": [],
   "source": [
    "a = \"Life is too short, You need Python.\""
   ]
  },
  {
   "cell_type": "code",
   "execution_count": 81,
   "id": "52aaa7c6-b1db-46b8-956b-914dd24b4476",
   "metadata": {},
   "outputs": [
    {
     "data": {
      "text/plain": [
       "-1"
      ]
     },
     "execution_count": 81,
     "metadata": {},
     "output_type": "execute_result"
    }
   ],
   "source": [
    "# a.find(\"too\")  # 8\n",
    "a.find(\"tooo\") # 발견 못하면 -1"
   ]
  },
  {
   "cell_type": "code",
   "execution_count": 83,
   "id": "726fbed2-2908-4fb9-a71f-643fd398afd6",
   "metadata": {},
   "outputs": [
    {
     "ename": "ValueError",
     "evalue": "substring not found",
     "output_type": "error",
     "traceback": [
      "\u001b[1;31m---------------------------------------------------------------------------\u001b[0m",
      "\u001b[1;31mValueError\u001b[0m                                Traceback (most recent call last)",
      "Cell \u001b[1;32mIn[83], line 2\u001b[0m\n\u001b[0;32m      1\u001b[0m \u001b[38;5;66;03m# a.index(\"too\")\u001b[39;00m\n\u001b[1;32m----> 2\u001b[0m \u001b[43ma\u001b[49m\u001b[38;5;241;43m.\u001b[39;49m\u001b[43mindex\u001b[49m\u001b[43m(\u001b[49m\u001b[38;5;124;43m\"\u001b[39;49m\u001b[38;5;124;43mtooo\u001b[39;49m\u001b[38;5;124;43m\"\u001b[39;49m\u001b[43m)\u001b[49m\n",
      "\u001b[1;31mValueError\u001b[0m: substring not found"
     ]
    }
   ],
   "source": [
    "# a.index(\"too\")\n",
    "a.index(\"tooo\")"
   ]
  }
 ],
 "metadata": {
  "kernelspec": {
   "display_name": "Python 3 (ipykernel)",
   "language": "python",
   "name": "python3"
  },
  "language_info": {
   "codemirror_mode": {
    "name": "ipython",
    "version": 3
   },
   "file_extension": ".py",
   "mimetype": "text/x-python",
   "name": "python",
   "nbconvert_exporter": "python",
   "pygments_lexer": "ipython3",
   "version": "3.12.7"
  }
 },
 "nbformat": 4,
 "nbformat_minor": 5
}
