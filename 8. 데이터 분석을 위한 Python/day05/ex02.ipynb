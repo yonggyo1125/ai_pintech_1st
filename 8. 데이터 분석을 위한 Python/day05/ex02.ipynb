{
 "cells": [
  {
   "cell_type": "code",
   "execution_count": 2,
   "id": "8cac98c4-d20e-4713-928d-450e96267e39",
   "metadata": {},
   "outputs": [
    {
     "name": "stdout",
     "output_type": "stream",
     "text": [
      "True\n",
      "140733904923352 140733904923352\n"
     ]
    }
   ],
   "source": [
    "a = 10\n",
    "b = 10\n",
    "print(a == b)\n",
    "print(id(a), id(b))"
   ]
  },
  {
   "cell_type": "code",
   "execution_count": 3,
   "id": "51c9e7cf-5bdd-4efe-b8a7-3bfb21fbdc7f",
   "metadata": {},
   "outputs": [
    {
     "name": "stdout",
     "output_type": "stream",
     "text": [
      "140733904470960 140733904470960\n"
     ]
    }
   ],
   "source": [
    "a = \"ABC\"\n",
    "b = \"ABC\"\n",
    "print(id(a), id(b))"
   ]
  },
  {
   "cell_type": "code",
   "execution_count": 6,
   "id": "0266d018-106d-4eae-8942-a0c0ef83b82f",
   "metadata": {},
   "outputs": [
    {
     "name": "stdout",
     "output_type": "stream",
     "text": [
      "2024.11.21\n"
     ]
    }
   ],
   "source": [
    "import time\n",
    "today = time.localtime(time.time())\n",
    "strDate = time.strftime(\"%Y.%m.%d\", today)\n",
    "print(strDate)"
   ]
  },
  {
   "cell_type": "code",
   "execution_count": 14,
   "id": "7837bd7e-1a43-4a9c-9f36-9e5dc066d432",
   "metadata": {},
   "outputs": [
    {
     "name": "stdout",
     "output_type": "stream",
     "text": [
      "D:/pkg/game\\__init__.py\n"
     ]
    }
   ],
   "source": [
    "from glob import glob\n",
    "import os\n",
    "files = glob(\"D:/pkg/game/*\")\n",
    "for file in files:\n",
    "    if not os.path.isdir(file):\n",
    "        print(file)"
   ]
  }
 ],
 "metadata": {
  "kernelspec": {
   "display_name": "Python 3 (ipykernel)",
   "language": "python",
   "name": "python3"
  },
  "language_info": {
   "codemirror_mode": {
    "name": "ipython",
    "version": 3
   },
   "file_extension": ".py",
   "mimetype": "text/x-python",
   "name": "python",
   "nbconvert_exporter": "python",
   "pygments_lexer": "ipython3",
   "version": "3.12.7"
  }
 },
 "nbformat": 4,
 "nbformat_minor": 5
}
