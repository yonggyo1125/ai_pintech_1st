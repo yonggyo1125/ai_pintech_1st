{
 "cells": [
  {
   "cell_type": "code",
   "execution_count": 2,
   "id": "188a8e0e-7a99-43f8-9c4f-77ed6ca58268",
   "metadata": {},
   "outputs": [
    {
     "name": "stdout",
     "output_type": "stream",
     "text": [
      "예외 발생\n",
      "매우 중요한 코드! 꼭 실행 되어야함\n"
     ]
    }
   ],
   "source": [
    "try: # 예외가 발생할 가능성이 있는 코드 구간\n",
    "    num1 = 10\n",
    "    num2 = 0\n",
    "    result = num1 / num2\n",
    "    print(result)\n",
    "except: # 예외에 대한 처리 구간 \n",
    "    print(\"예외 발생\")\n",
    "    \n",
    "print(\"매우 중요한 코드! 꼭 실행 되어야함\")"
   ]
  },
  {
   "cell_type": "code",
   "execution_count": 10,
   "id": "31dbd702-12fb-404d-a27e-1a10611fff86",
   "metadata": {},
   "outputs": [
    {
     "name": "stdout",
     "output_type": "stream",
     "text": [
      "5.0\n",
      "'망고' is not in list\n",
      "Traceback (most recent call last):\n",
      "  File \"C:\\Users\\admin\\AppData\\Local\\Temp\\ipykernel_5904\\947126109.py\", line 11, in <module>\n",
      "    pos = fruits.index('망고')\n",
      "          ^^^^^^^^^^^^^^^^^^^^\n",
      "ValueError: '망고' is not in list\n",
      "\n",
      "매우 중요한 코드! 꼭 실행 되어야함\n"
     ]
    }
   ],
   "source": [
    "import traceback\n",
    "\n",
    "try: # 예외가 발생할 가능성이 있는 코드 구간\n",
    "    num1 = 10\n",
    "    # num2 = 0\n",
    "    num2 = 2\n",
    "    result = num1 / num2\n",
    "    print(result)\n",
    "\n",
    "    fruits = ['사과', '멜론', '오렌지']\n",
    "    pos = fruits.index('망고')\n",
    "    print(pos)\n",
    "except ZeroDivisionError as e: # 예외에 대한 처리 구간, e : 발생한 예외 객체 참조 변수\n",
    "    # print(\"예외 발생\")\n",
    "    print(e) # __str__ 호출 \n",
    "    print(traceback.format_exc()) # 예외 발생에 대한 자세한 정보 확인 \n",
    "except ValueError as e: \n",
    "    # print(\"예외 발생\")\n",
    "    print(e)\n",
    "    print(traceback.format_exc()) \n",
    "\n",
    "print(\"매우 중요한 코드! 꼭 실행 되어야함\")"
   ]
  },
  {
   "cell_type": "code",
   "execution_count": 22,
   "id": "06e04a5a-87bb-4143-868d-a78e9d0640f3",
   "metadata": {},
   "outputs": [
    {
     "name": "stdout",
     "output_type": "stream",
     "text": [
      "5.0\n",
      "매우 중요한 코드! 꼭 실행 되어야함\n"
     ]
    }
   ],
   "source": [
    "try: # 예외가 발생할 가능성이 있는 코드 구간\n",
    "    num1 = 10\n",
    "    # num2 = 0\n",
    "    num2 = 2\n",
    "    result = num1 / num2\n",
    "    print(result)\n",
    "\n",
    "    fruits = ['사과', '멜론', '오렌지']\n",
    "    pos = fruits.index('망고')\n",
    "    print(pos)\n",
    "except (ZeroDivisionError, ValueError):\n",
    "    pass # 예외 처리 안하겠다!, 아무것도 안하겠다!\n",
    "    #print(\"예외 발생\")\n",
    "\n",
    "    \n",
    "print(\"매우 중요한 코드! 꼭 실행 되어야함\")"
   ]
  },
  {
   "cell_type": "code",
   "execution_count": 19,
   "id": "d074d6fd-456d-4726-a0f1-b298ec39dec9",
   "metadata": {},
   "outputs": [
    {
     "name": "stdout",
     "output_type": "stream",
     "text": [
      "5.0\n",
      "잘 처리됨...\n",
      "매우 중요한 코드! 꼭 실행 되어야함\n"
     ]
    }
   ],
   "source": [
    "try: # 예외가 발생할 가능성이 있는 코드 구간\n",
    "    num1 = 10\n",
    "    # num2 = 0\n",
    "    num2 = 2\n",
    "    result = num1 / num2\n",
    "    print(result)\n",
    "\n",
    "    fruits = ['사과', '멜론', '오렌지']\n",
    "    # pos = fruits.index('망고')  # 못찾으면 예외 발생\n",
    "    #pos = fruits.find('망고')  # 못찾으면 -1 반환\n",
    "    #print(pos)\n",
    "except Exception:  # 다형성, 예외가 발생하면 실행\n",
    "    print(\"예외 발생\")\n",
    "else: # 예외가 발생하지 않으면 실행되는 구간\n",
    "    print(\"잘 처리됨...\")\n",
    "\n",
    "print(\"매우 중요한 코드! 꼭 실행 되어야함\")"
   ]
  },
  {
   "cell_type": "code",
   "execution_count": 11,
   "id": "1f835142-a689-44b2-97c0-87c6f4944182",
   "metadata": {},
   "outputs": [],
   "source": [
    "def add(a, b):\n",
    "    return a + b  # return 하면 함수는 종료!\n",
    "    print(\"실행!\")\n",
    "    "
   ]
  },
  {
   "cell_type": "code",
   "execution_count": 12,
   "id": "a4c74109-d0a1-4de5-b6ae-0b71eff33e7f",
   "metadata": {},
   "outputs": [
    {
     "data": {
      "text/plain": [
       "30"
      ]
     },
     "execution_count": 12,
     "metadata": {},
     "output_type": "execute_result"
    }
   ],
   "source": [
    "add(10, 20)"
   ]
  },
  {
   "cell_type": "code",
   "execution_count": 14,
   "id": "8d2a86e5-d615-47ac-9c95-314f16fdc12c",
   "metadata": {},
   "outputs": [],
   "source": [
    "def add(a, b):\n",
    "    try:\n",
    "        return a + b  # return 하면 함수는 종료!\n",
    "    finally: \n",
    "        print(\"실행!\")"
   ]
  },
  {
   "cell_type": "code",
   "execution_count": 15,
   "id": "fe3fb183-a625-4ef4-b5ea-e7cb58d4e0bc",
   "metadata": {},
   "outputs": [
    {
     "name": "stdout",
     "output_type": "stream",
     "text": [
      "실행!\n"
     ]
    },
    {
     "data": {
      "text/plain": [
       "30"
      ]
     },
     "execution_count": 15,
     "metadata": {},
     "output_type": "execute_result"
    }
   ],
   "source": [
    "add(10, 20)"
   ]
  },
  {
   "cell_type": "code",
   "execution_count": 23,
   "id": "575acbc2-e293-405d-87c3-16ac71910cef",
   "metadata": {},
   "outputs": [],
   "source": [
    "def login(user_id, user_pass):\n",
    "    if user_id != 'user01':\n",
    "        raise Exception(\"아이디가 일치하지 않습니다.\")\n",
    "\n",
    "    if user_pass != '1234':\n",
    "        raise Exception(\"비밀번호가 일치하지 않습니다.\")\n",
    "\n",
    "    print(\"로그인 성공!\")"
   ]
  },
  {
   "cell_type": "code",
   "execution_count": 25,
   "id": "3f0623b3-f40e-4c8f-8aba-1a6f700e8d33",
   "metadata": {},
   "outputs": [
    {
     "ename": "Exception",
     "evalue": "아이디가 일치하지 않습니다.",
     "output_type": "error",
     "traceback": [
      "\u001b[1;31m---------------------------------------------------------------------------\u001b[0m",
      "\u001b[1;31mException\u001b[0m                                 Traceback (most recent call last)",
      "Cell \u001b[1;32mIn[25], line 1\u001b[0m\n\u001b[1;32m----> 1\u001b[0m \u001b[43mlogin\u001b[49m\u001b[43m(\u001b[49m\u001b[38;5;124;43m\"\u001b[39;49m\u001b[38;5;124;43muser02\u001b[39;49m\u001b[38;5;124;43m\"\u001b[39;49m\u001b[43m,\u001b[49m\u001b[43m \u001b[49m\u001b[38;5;124;43m\"\u001b[39;49m\u001b[38;5;124;43m1234\u001b[39;49m\u001b[38;5;124;43m\"\u001b[39;49m\u001b[43m)\u001b[49m\n",
      "Cell \u001b[1;32mIn[23], line 3\u001b[0m, in \u001b[0;36mlogin\u001b[1;34m(user_id, user_pass)\u001b[0m\n\u001b[0;32m      1\u001b[0m \u001b[38;5;28;01mdef\u001b[39;00m \u001b[38;5;21mlogin\u001b[39m(user_id, user_pass):\n\u001b[0;32m      2\u001b[0m     \u001b[38;5;28;01mif\u001b[39;00m user_id \u001b[38;5;241m!=\u001b[39m \u001b[38;5;124m'\u001b[39m\u001b[38;5;124muser01\u001b[39m\u001b[38;5;124m'\u001b[39m:\n\u001b[1;32m----> 3\u001b[0m         \u001b[38;5;28;01mraise\u001b[39;00m \u001b[38;5;167;01mException\u001b[39;00m(\u001b[38;5;124m\"\u001b[39m\u001b[38;5;124m아이디가 일치하지 않습니다.\u001b[39m\u001b[38;5;124m\"\u001b[39m)\n\u001b[0;32m      5\u001b[0m     \u001b[38;5;28;01mif\u001b[39;00m user_pass \u001b[38;5;241m!=\u001b[39m \u001b[38;5;124m'\u001b[39m\u001b[38;5;124m1234\u001b[39m\u001b[38;5;124m'\u001b[39m:\n\u001b[0;32m      6\u001b[0m         \u001b[38;5;28;01mraise\u001b[39;00m \u001b[38;5;167;01mException\u001b[39;00m(\u001b[38;5;124m\"\u001b[39m\u001b[38;5;124m비밀번호가 일치하지 않습니다.\u001b[39m\u001b[38;5;124m\"\u001b[39m)\n",
      "\u001b[1;31mException\u001b[0m: 아이디가 일치하지 않습니다."
     ]
    }
   ],
   "source": [
    "login(\"user02\", \"1234\")"
   ]
  },
  {
   "cell_type": "code",
   "execution_count": 26,
   "id": "52a010d5-d17c-4daf-92b3-dbc45cb382ae",
   "metadata": {},
   "outputs": [],
   "source": [
    "class UserIdException(Exception): # Exception 클래스를 상속 받으면 예외 클래스 된다.\n",
    "    pass\n",
    "\n",
    "class UserPassException(Exception):\n",
    "    pass"
   ]
  },
  {
   "cell_type": "code",
   "execution_count": 27,
   "id": "bf77e01f-5b7a-44d8-ae4e-d0d0dd179de5",
   "metadata": {},
   "outputs": [],
   "source": [
    "def login(user_id, user_pass):\n",
    "    if user_id != 'user01':\n",
    "        raise UserIdException\n",
    "\n",
    "    if user_pass != '1234':\n",
    "        raise UserPassException\n",
    "\n",
    "    print(\"로그인 성공...\")"
   ]
  },
  {
   "cell_type": "code",
   "execution_count": 29,
   "id": "abec6d12-ea53-4c55-807f-7d0beb3b6bf3",
   "metadata": {},
   "outputs": [
    {
     "name": "stdout",
     "output_type": "stream",
     "text": [
      "\n",
      "Traceback (most recent call last):\n",
      "  File \"C:\\Users\\admin\\AppData\\Local\\Temp\\ipykernel_5904\\2597910201.py\", line 3, in <module>\n",
      "    login('user02', '1234')\n",
      "  File \"C:\\Users\\admin\\AppData\\Local\\Temp\\ipykernel_5904\\488166347.py\", line 3, in login\n",
      "    raise UserIdException\n",
      "UserIdException\n",
      "\n"
     ]
    }
   ],
   "source": [
    "import traceback\n",
    "try:\n",
    "    login('user02', '1234')\n",
    "except (UserIdException, UserPassException) as e:\n",
    "    print(e) # __str__ 호출\n",
    "    print(traceback.format_exc())"
   ]
  }
 ],
 "metadata": {
  "kernelspec": {
   "display_name": "Python 3 (ipykernel)",
   "language": "python",
   "name": "python3"
  },
  "language_info": {
   "codemirror_mode": {
    "name": "ipython",
    "version": 3
   },
   "file_extension": ".py",
   "mimetype": "text/x-python",
   "name": "python",
   "nbconvert_exporter": "python",
   "pygments_lexer": "ipython3",
   "version": "3.12.7"
  }
 },
 "nbformat": 4,
 "nbformat_minor": 5
}
