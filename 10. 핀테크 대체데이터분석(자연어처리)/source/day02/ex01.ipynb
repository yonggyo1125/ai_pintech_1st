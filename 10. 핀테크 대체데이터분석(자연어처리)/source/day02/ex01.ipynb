{
 "cells": [
  {
   "cell_type": "code",
   "execution_count": 1,
   "id": "fb6e6737-f433-443e-8620-ad67c6ce597f",
   "metadata": {},
   "outputs": [],
   "source": [
    "from nltk.util import pad_sequence\n",
    "from nltk.util import bigrams\n",
    "from nltk.util import ngrams\n",
    "from nltk.util import everygrams"
   ]
  },
  {
   "cell_type": "code",
   "execution_count": 2,
   "id": "b59890ab-27df-4d2c-ba12-351eabc0042e",
   "metadata": {},
   "outputs": [
    {
     "data": {
      "text/plain": [
       "True"
      ]
     },
     "execution_count": 2,
     "metadata": {},
     "output_type": "execute_result"
    }
   ],
   "source": [
    "import nltk\n",
    "nltk.download(\"all\", quiet=True)"
   ]
  },
  {
   "cell_type": "code",
   "execution_count": 3,
   "id": "aefe9609-b91b-4910-a53f-5df114c3b325",
   "metadata": {},
   "outputs": [],
   "source": [
    "text = [['a','b','c'], ['a', 'c', 'd', 'c','e','f']]"
   ]
  },
  {
   "cell_type": "code",
   "execution_count": 5,
   "id": "e60a8d4e-0d40-4e7d-8692-a758b3b91505",
   "metadata": {},
   "outputs": [
    {
     "data": {
      "text/plain": [
       "[('a', 'b'), ('b', 'c')]"
      ]
     },
     "execution_count": 5,
     "metadata": {},
     "output_type": "execute_result"
    }
   ],
   "source": [
    "list(bigrams(text[0]))"
   ]
  },
  {
   "cell_type": "code",
   "execution_count": 6,
   "id": "e42f716f-73e6-462b-8006-9248f89750db",
   "metadata": {},
   "outputs": [
    {
     "data": {
      "text/plain": [
       "[('a', 'c'), ('c', 'd'), ('d', 'c'), ('c', 'e'), ('e', 'f')]"
      ]
     },
     "execution_count": 6,
     "metadata": {},
     "output_type": "execute_result"
    }
   ],
   "source": [
    "list(bigrams(text[1]))"
   ]
  },
  {
   "cell_type": "code",
   "execution_count": 7,
   "id": "d3204b6e-e25c-4ea1-a321-d643fa4dcb90",
   "metadata": {},
   "outputs": [
    {
     "data": {
      "text/plain": [
       "[('a', 'c', 'd'), ('c', 'd', 'c'), ('d', 'c', 'e'), ('c', 'e', 'f')]"
      ]
     },
     "execution_count": 7,
     "metadata": {},
     "output_type": "execute_result"
    }
   ],
   "source": [
    "list(ngrams(text[1], n=3))"
   ]
  },
  {
   "cell_type": "code",
   "execution_count": 9,
   "id": "4ca76f1c-388d-4e0e-a790-227869f2c5f6",
   "metadata": {},
   "outputs": [],
   "source": [
    "#list(everygrams(text[1], n=3))"
   ]
  },
  {
   "cell_type": "code",
   "execution_count": 12,
   "id": "b18b2aca-5110-4709-b1ae-42a60be60941",
   "metadata": {},
   "outputs": [],
   "source": [
    "# 문장의 시작과 끝에 대한 토큰 추가 pad_sequence\n",
    "padded = list(pad_sequence(text[0], pad_left=True, left_pad_symbol=\"<s>\", pad_right=True, right_pad_symbol=\"</s>\", n=2))"
   ]
  },
  {
   "cell_type": "code",
   "execution_count": 13,
   "id": "8d7bb61e-e7ed-4047-bc02-0e20d080f96c",
   "metadata": {},
   "outputs": [
    {
     "data": {
      "text/plain": [
       "[('<s>', 'a'), ('a', 'b'), ('b', 'c'), ('c', '</s>')]"
      ]
     },
     "execution_count": 13,
     "metadata": {},
     "output_type": "execute_result"
    }
   ],
   "source": [
    "list(ngrams(padded, n=2))"
   ]
  },
  {
   "cell_type": "code",
   "execution_count": 14,
   "id": "5b569b56-37a5-4629-8767-1293015391a6",
   "metadata": {},
   "outputs": [],
   "source": [
    "padded = list(pad_sequence(text[1], pad_left=True, left_pad_symbol=\"<s>\", pad_right=True, right_pad_symbol=\"</s>\", n=2))"
   ]
  },
  {
   "cell_type": "code",
   "execution_count": 15,
   "id": "39e702ad-0cd6-4c20-bb70-c4d4ba423204",
   "metadata": {},
   "outputs": [
    {
     "data": {
      "text/plain": [
       "['<s>', 'a', 'c', 'd', 'c', 'e', 'f', '</s>']"
      ]
     },
     "execution_count": 15,
     "metadata": {},
     "output_type": "execute_result"
    }
   ],
   "source": [
    "padded"
   ]
  },
  {
   "cell_type": "code",
   "execution_count": 17,
   "id": "e9e0d5f1-6ac4-4b37-b137-4e888049712e",
   "metadata": {},
   "outputs": [
    {
     "data": {
      "text/plain": [
       "[('<s>',),\n",
       " ('<s>', 'a'),\n",
       " ('<s>', 'a', 'c'),\n",
       " ('a',),\n",
       " ('a', 'c'),\n",
       " ('a', 'c', 'd'),\n",
       " ('c',),\n",
       " ('c', 'd'),\n",
       " ('c', 'd', 'c'),\n",
       " ('d',),\n",
       " ('d', 'c'),\n",
       " ('d', 'c', 'e'),\n",
       " ('c',),\n",
       " ('c', 'e'),\n",
       " ('c', 'e', 'f'),\n",
       " ('e',),\n",
       " ('e', 'f'),\n",
       " ('e', 'f', '</s>'),\n",
       " ('f',),\n",
       " ('f', '</s>'),\n",
       " ('</s>',)]"
      ]
     },
     "execution_count": 17,
     "metadata": {},
     "output_type": "execute_result"
    }
   ],
   "source": [
    "list(everygrams(padded, max_len=3))"
   ]
  },
  {
   "cell_type": "code",
   "execution_count": 19,
   "id": "a17696d1-b075-49cc-88a2-b23071968630",
   "metadata": {},
   "outputs": [],
   "source": [
    "from nltk.lm.preprocessing import pad_both_ends"
   ]
  },
  {
   "cell_type": "code",
   "execution_count": 20,
   "id": "865dc136-5648-46b8-9d96-063c15a8c4dd",
   "metadata": {},
   "outputs": [
    {
     "data": {
      "text/plain": [
       "['<s>', 'a', 'b', 'c', '</s>']"
      ]
     },
     "execution_count": 20,
     "metadata": {},
     "output_type": "execute_result"
    }
   ],
   "source": [
    "list(pad_both_ends(text[0], n=2))"
   ]
  },
  {
   "cell_type": "code",
   "execution_count": 21,
   "id": "155bd921-9aab-4a6b-98d9-c3bcadfaa73f",
   "metadata": {},
   "outputs": [
    {
     "data": {
      "text/plain": [
       "[['a', 'b', 'c'], ['a', 'c', 'd', 'c', 'e', 'f']]"
      ]
     },
     "execution_count": 21,
     "metadata": {},
     "output_type": "execute_result"
    }
   ],
   "source": [
    "text"
   ]
  },
  {
   "cell_type": "code",
   "execution_count": 23,
   "id": "23365661-2faf-4c43-8b71-9fa50ebf4405",
   "metadata": {},
   "outputs": [
    {
     "data": {
      "text/plain": [
       "[['<s>', 'a', 'b', 'c', '</s>'], ['<s>', 'a', 'c', 'd', 'c', 'e', 'f', '</s>']]"
      ]
     },
     "execution_count": 23,
     "metadata": {},
     "output_type": "execute_result"
    }
   ],
   "source": [
    "[list(pad_both_ends(sent, n=2)) for sent in text]"
   ]
  },
  {
   "cell_type": "code",
   "execution_count": 24,
   "id": "90643787-d9c4-47b6-bc65-6f01859a3581",
   "metadata": {},
   "outputs": [],
   "source": [
    "from nltk.lm.preprocessing import flatten"
   ]
  },
  {
   "cell_type": "code",
   "execution_count": 25,
   "id": "d21f3922-fecf-4563-aea5-8e5b7549851b",
   "metadata": {},
   "outputs": [
    {
     "data": {
      "text/plain": [
       "['<s>', 'a', 'b', 'c', '</s>', '<s>', 'a', 'c', 'd', 'c', 'e', 'f', '</s>']"
      ]
     },
     "execution_count": 25,
     "metadata": {},
     "output_type": "execute_result"
    }
   ],
   "source": [
    "list(flatten(pad_both_ends(sent, n=2) for sent in text)) "
   ]
  },
  {
   "cell_type": "code",
   "execution_count": 26,
   "id": "2d6f822e-2a12-42a2-9af1-d990c19bc329",
   "metadata": {},
   "outputs": [],
   "source": [
    "from nltk.lm.preprocessing import padded_everygram_pipeline"
   ]
  },
  {
   "cell_type": "code",
   "execution_count": 27,
   "id": "4ba063e4-b771-4413-b03d-2b6dd910fc0e",
   "metadata": {},
   "outputs": [],
   "source": [
    "training_ngrams, padded_sentences = padded_everygram_pipeline(2, text)"
   ]
  },
  {
   "cell_type": "code",
   "execution_count": 29,
   "id": "c199f6b1-95d2-4bd8-ad8c-8c591afbbfee",
   "metadata": {},
   "outputs": [
    {
     "data": {
      "text/plain": [
       "[<generator object everygrams at 0x000001F617A9E9B0>,\n",
       " <generator object everygrams at 0x000001F617A9EBD0>]"
      ]
     },
     "execution_count": 29,
     "metadata": {},
     "output_type": "execute_result"
    }
   ],
   "source": [
    "list(training_ngrams)"
   ]
  },
  {
   "cell_type": "code",
   "execution_count": 30,
   "id": "f3a34820-2f87-4dd1-a2d9-16965cde11bb",
   "metadata": {},
   "outputs": [
    {
     "data": {
      "text/plain": [
       "['<s>', 'a', 'b', 'c', '</s>', '<s>', 'a', 'c', 'd', 'c', 'e', 'f', '</s>']"
      ]
     },
     "execution_count": 30,
     "metadata": {},
     "output_type": "execute_result"
    }
   ],
   "source": [
    "list(padded_sentences)"
   ]
  }
 ],
 "metadata": {
  "kernelspec": {
   "display_name": "Python 3 (ipykernel)",
   "language": "python",
   "name": "python3"
  },
  "language_info": {
   "codemirror_mode": {
    "name": "ipython",
    "version": 3
   },
   "file_extension": ".py",
   "mimetype": "text/x-python",
   "name": "python",
   "nbconvert_exporter": "python",
   "pygments_lexer": "ipython3",
   "version": "3.12.7"
  }
 },
 "nbformat": 4,
 "nbformat_minor": 5
}
