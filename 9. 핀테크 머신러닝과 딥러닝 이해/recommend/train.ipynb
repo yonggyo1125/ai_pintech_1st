{
 "cells": [
  {
   "cell_type": "code",
   "execution_count": 19,
   "id": "4eab5acd-74f7-440b-8833-e890aeae0861",
   "metadata": {},
   "outputs": [],
   "source": [
    "import pandas as pd\n",
    "from sklearn.model_selection import train_test_split\n",
    "from sklearn.preprocessing import StandardScaler\n",
    "from tensorflow import keras\n",
    "import os.path\n",
    "import sys"
   ]
  },
  {
   "cell_type": "code",
   "execution_count": 20,
   "id": "21116255-e6bb-4807-a539-de7cc9e279b8",
   "metadata": {},
   "outputs": [],
   "source": [
    "# data_url = \"http://localhost:3000/api/dl/data\"\n",
    "data_url = sys.argv[1]\n",
    "df = pd.read_json(data_url)\n",
    "\n",
    "items = df[['item1', 'item2', 'item3', 'item4', 'item5', 'item6', 'item7', 'item8', 'item9','item10']].to_numpy()\n",
    "targets = df['result'].to_numpy()"
   ]
  },
  {
   "cell_type": "code",
   "execution_count": 21,
   "id": "7697f9cd-7cb1-42f3-a2c9-731c7a879514",
   "metadata": {},
   "outputs": [],
   "source": [
    "# 훈련세트, 테스트 세트 분리\n",
    "train_input, test_input, train_target, test_target = train_test_split(items, targets)"
   ]
  },
  {
   "cell_type": "code",
   "execution_count": 22,
   "id": "328eba12-cd77-43fb-a35c-e2e6617da16f",
   "metadata": {},
   "outputs": [
    {
     "name": "stdout",
     "output_type": "stream",
     "text": [
      "[[ 1.23151481  0.88790998  1.6140196   0.94127238  1.6784415   1.38504672\n",
      "  -1.57161094 -0.65513703  0.99961796 -0.80484811]]\n"
     ]
    }
   ],
   "source": [
    "# 데이터 전처리 - 표준 점수 변환\n",
    "ss = StandardScaler()\n",
    "ss.fit(items)\n",
    "train_scaled = ss.transform(train_input)\n",
    "test_scaled = ss.transform(test_input)\n",
    "# print(test_scaled[:1])"
   ]
  },
  {
   "cell_type": "code",
   "execution_count": 23,
   "id": "d528ac9b-ca9d-495b-a2d2-4d51e8cd6ce3",
   "metadata": {},
   "outputs": [],
   "source": [
    "# 모델 생성 함수\n",
    "def create_model():\n",
    "    model = keras.Sequential()\n",
    "    model.add(keras.layers.Input(shape=(10,)))\n",
    "    model.add(keras.layers.Dense(7, activation='relu'))\n",
    "    model.add(keras.layers.Dropout(0.3))\n",
    "    model.add(keras.layers.Dense(5, activation='softmax'))\n",
    "\n",
    "    return model"
   ]
  },
  {
   "cell_type": "code",
   "execution_count": 24,
   "id": "92cbde6a-3a99-402a-bdad-05c54112acab",
   "metadata": {},
   "outputs": [],
   "source": [
    "# 모델 생성 - 기 학습 모델 데이터가 있으면 기존 파일에서 불러오고 없으면 새로 생성\n",
    "if os.path.isfile(\"best-model.keras\"):\n",
    "    model = keras.models.load_model(\"best-model.keras\")\n",
    "else:\n",
    "    model = create_model()"
   ]
  },
  {
   "cell_type": "code",
   "execution_count": 25,
   "id": "9304df5d-ddc7-4305-bd30-0dc29560dee2",
   "metadata": {},
   "outputs": [],
   "source": [
    "# 컴파일 - 옵티마이저, 손실함수, 측정 지표  설정\n",
    "model.compile(optimizer='adam', loss='sparse_categorical_crossentropy', metrics=['accuracy'])"
   ]
  },
  {
   "cell_type": "code",
   "execution_count": 26,
   "id": "e2e57ada-a451-4e3b-8c7f-7f872823bd1a",
   "metadata": {},
   "outputs": [
    {
     "data": {
      "text/plain": [
       "<keras.src.callbacks.history.History at 0x1c0221f65d0>"
      ]
     },
     "execution_count": 26,
     "metadata": {},
     "output_type": "execute_result"
    }
   ],
   "source": [
    "checkpoint_cb = keras.callbacks.ModelCheckpoint(\"best-model.keras\", save_best_only=True)\n",
    "early_stopping_cb = keras.callbacks.EarlyStopping(patience=2, restore_best_weights=True)\n",
    "\n",
    "model.fit(train_scaled, train_target, epochs=20, verbose=0,\n",
    "          validation_data=(test_scaled, test_target), \n",
    "          callbacks=[checkpoint_cb,early_stopping_cb])"
   ]
  }
 ],
 "metadata": {
  "kernelspec": {
   "display_name": "Python 3 (ipykernel)",
   "language": "python",
   "name": "python3"
  },
  "language_info": {
   "codemirror_mode": {
    "name": "ipython",
    "version": 3
   },
   "file_extension": ".py",
   "mimetype": "text/x-python",
   "name": "python",
   "nbconvert_exporter": "python",
   "pygments_lexer": "ipython3",
   "version": "3.12.7"
  }
 },
 "nbformat": 4,
 "nbformat_minor": 5
}
