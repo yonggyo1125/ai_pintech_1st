{
 "cells": [
  {
   "cell_type": "code",
   "execution_count": 8,
   "id": "537507f2-5085-40e2-afbd-1803e0e36df5",
   "metadata": {},
   "outputs": [],
   "source": [
    "from tensorflow import keras\n",
    "import os.path\n",
    "import sys\n",
    "import numpy as np"
   ]
  },
  {
   "cell_type": "code",
   "execution_count": 7,
   "id": "4163b915-38c7-4328-a3ff-10016c5a524b",
   "metadata": {},
   "outputs": [],
   "source": [
    "if not os.path.isfile(\"best-model.keras\"):\n",
    "    sys.exit(1)\n",
    "\n",
    "model = keras.models.load_model(\"best-model.keras\")"
   ]
  },
  {
   "cell_type": "code",
   "execution_count": 15,
   "id": "b734c98b-da3f-4187-8982-a66db06729fc",
   "metadata": {},
   "outputs": [
    {
     "name": "stdout",
     "output_type": "stream",
     "text": [
      "[[1.23151481, 0.88790998, 1.6140196, 0.94127238, 1.6784415, 1.38504672, -1.57161094, -0.65513703, 0.99961796, -0.80484811]]\n",
      "\u001b[1m1/1\u001b[0m \u001b[32m━━━━━━━━━━━━━━━━━━━━\u001b[0m\u001b[37m\u001b[0m \u001b[1m0s\u001b[0m 39ms/step\n",
      "[1]\n"
     ]
    }
   ],
   "source": [
    "#test_data = \"\"\"[[ 1.23151481,  0.88790998,  1.6140196,   0.94127238,  1.6784415,   1.38504672,\n",
    "#  -1.57161094, -0.65513703,  0.99961796, -0.80484811]]\"\"\"\n",
    "test_data = eval(sys.argv[1])\n",
    "print(test_data)\n",
    "predictions = model.predict(np.array(test_data))\n",
    "print(predictions.argmax(axis=1))"
   ]
  }
 ],
 "metadata": {
  "kernelspec": {
   "display_name": "Python 3 (ipykernel)",
   "language": "python",
   "name": "python3"
  },
  "language_info": {
   "codemirror_mode": {
    "name": "ipython",
    "version": 3
   },
   "file_extension": ".py",
   "mimetype": "text/x-python",
   "name": "python",
   "nbconvert_exporter": "python",
   "pygments_lexer": "ipython3",
   "version": "3.12.7"
  }
 },
 "nbformat": 4,
 "nbformat_minor": 5
}
