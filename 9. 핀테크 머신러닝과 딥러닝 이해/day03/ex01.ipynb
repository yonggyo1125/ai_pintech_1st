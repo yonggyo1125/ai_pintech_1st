{
 "cells": [
  {
   "cell_type": "code",
   "execution_count": 1,
   "id": "136ce7ee-732a-4f3c-bd71-ac56ba831260",
   "metadata": {},
   "outputs": [],
   "source": [
    "import pandas as pd"
   ]
  },
  {
   "cell_type": "code",
   "execution_count": 3,
   "id": "28cd1802-7c23-4b8e-9b02-1e04720bb746",
   "metadata": {},
   "outputs": [
    {
     "data": {
      "text/html": [
       "<div>\n",
       "<style scoped>\n",
       "    .dataframe tbody tr th:only-of-type {\n",
       "        vertical-align: middle;\n",
       "    }\n",
       "\n",
       "    .dataframe tbody tr th {\n",
       "        vertical-align: top;\n",
       "    }\n",
       "\n",
       "    .dataframe thead th {\n",
       "        text-align: right;\n",
       "    }\n",
       "</style>\n",
       "<table border=\"1\" class=\"dataframe\">\n",
       "  <thead>\n",
       "    <tr style=\"text-align: right;\">\n",
       "      <th></th>\n",
       "      <th>length</th>\n",
       "      <th>height</th>\n",
       "      <th>width</th>\n",
       "    </tr>\n",
       "  </thead>\n",
       "  <tbody>\n",
       "    <tr>\n",
       "      <th>0</th>\n",
       "      <td>8.4</td>\n",
       "      <td>2.11</td>\n",
       "      <td>1.41</td>\n",
       "    </tr>\n",
       "    <tr>\n",
       "      <th>1</th>\n",
       "      <td>13.7</td>\n",
       "      <td>3.53</td>\n",
       "      <td>2.00</td>\n",
       "    </tr>\n",
       "    <tr>\n",
       "      <th>2</th>\n",
       "      <td>15.0</td>\n",
       "      <td>3.82</td>\n",
       "      <td>2.43</td>\n",
       "    </tr>\n",
       "    <tr>\n",
       "      <th>3</th>\n",
       "      <td>16.2</td>\n",
       "      <td>4.59</td>\n",
       "      <td>2.63</td>\n",
       "    </tr>\n",
       "    <tr>\n",
       "      <th>4</th>\n",
       "      <td>17.4</td>\n",
       "      <td>4.59</td>\n",
       "      <td>2.94</td>\n",
       "    </tr>\n",
       "  </tbody>\n",
       "</table>\n",
       "</div>"
      ],
      "text/plain": [
       "   length   height   width\n",
       "0     8.4     2.11    1.41\n",
       "1    13.7     3.53    2.00\n",
       "2    15.0     3.82    2.43\n",
       "3    16.2     4.59    2.63\n",
       "4    17.4     4.59    2.94"
      ]
     },
     "execution_count": 3,
     "metadata": {},
     "output_type": "execute_result"
    }
   ],
   "source": [
    "df = pd.read_csv('https://bit.ly/perch_csv_data')\n",
    "df.head() # 처음 5개의 행을 출력"
   ]
  },
  {
   "cell_type": "code",
   "execution_count": 4,
   "id": "55a5e6e6-ee73-4bd6-8cde-bdd19a59d846",
   "metadata": {},
   "outputs": [
    {
     "name": "stdout",
     "output_type": "stream",
     "text": [
      "[[ 8.4   2.11  1.41]\n",
      " [13.7   3.53  2.  ]\n",
      " [15.    3.82  2.43]\n",
      " [16.2   4.59  2.63]\n",
      " [17.4   4.59  2.94]\n",
      " [18.    5.22  3.32]\n",
      " [18.7   5.2   3.12]\n",
      " [19.    5.64  3.05]\n",
      " [19.6   5.14  3.04]\n",
      " [20.    5.08  2.77]\n",
      " [21.    5.69  3.56]\n",
      " [21.    5.92  3.31]\n",
      " [21.    5.69  3.67]\n",
      " [21.3   6.38  3.53]\n",
      " [22.    6.11  3.41]\n",
      " [22.    5.64  3.52]\n",
      " [22.    6.11  3.52]\n",
      " [22.    5.88  3.52]\n",
      " [22.    5.52  4.  ]\n",
      " [22.5   5.86  3.62]\n",
      " [22.5   6.79  3.62]\n",
      " [22.7   5.95  3.63]\n",
      " [23.    5.22  3.63]\n",
      " [23.5   6.28  3.72]\n",
      " [24.    7.29  3.72]\n",
      " [24.    6.38  3.82]\n",
      " [24.6   6.73  4.17]\n",
      " [25.    6.44  3.68]\n",
      " [25.6   6.56  4.24]\n",
      " [26.5   7.17  4.14]\n",
      " [27.3   8.32  5.14]\n",
      " [27.5   7.17  4.34]\n",
      " [27.5   7.05  4.34]\n",
      " [27.5   7.28  4.57]\n",
      " [28.    7.82  4.2 ]\n",
      " [28.7   7.59  4.64]\n",
      " [30.    7.62  4.77]\n",
      " [32.8  10.03  6.02]\n",
      " [34.5  10.26  6.39]\n",
      " [35.   11.49  7.8 ]\n",
      " [36.5  10.88  6.86]\n",
      " [36.   10.61  6.74]\n",
      " [37.   10.84  6.26]\n",
      " [37.   10.57  6.37]\n",
      " [39.   11.14  7.49]\n",
      " [39.   11.14  6.  ]\n",
      " [39.   12.43  7.35]\n",
      " [40.   11.93  7.11]\n",
      " [40.   11.73  7.22]\n",
      " [40.   12.38  7.46]\n",
      " [40.   11.14  6.63]\n",
      " [42.   12.8   6.87]\n",
      " [43.   11.93  7.28]\n",
      " [43.   12.51  7.42]\n",
      " [43.5  12.6   8.14]\n",
      " [44.   12.49  7.6 ]]\n"
     ]
    }
   ],
   "source": [
    "import numpy as np\n",
    "# 농어의 모든 특성 - 길이, 높이, 너비\n",
    "perch_full = df.to_numpy() # 데이터 프레임 -> 넘파이 배열\n",
    "print(perch_full)  # 학습 데이터"
   ]
  },
  {
   "cell_type": "code",
   "execution_count": 5,
   "id": "f8cc827e-b862-41f7-b43f-46eea97e8e45",
   "metadata": {},
   "outputs": [],
   "source": [
    "perch_weight = np.array(\n",
    "    [5.9, 32.0, 40.0, 51.5, 70.0, 100.0, 78.0, 80.0, 85.0, 85.0,\n",
    "     110.0, 115.0, 125.0, 130.0, 120.0, 120.0, 130.0, 135.0, 110.0,\n",
    "     130.0, 150.0, 145.0, 150.0, 170.0, 225.0, 145.0, 188.0, 180.0,\n",
    "     197.0, 218.0, 300.0, 260.0, 265.0, 250.0, 250.0, 300.0, 320.0,\n",
    "     514.0, 556.0, 840.0, 685.0, 700.0, 700.0, 690.0, 900.0, 650.0,\n",
    "     820.0, 850.0, 900.0, 1015.0, 820.0, 1100.0, 1000.0, 1100.0,\n",
    "     1000.0, 1000.0]\n",
    "     ) # 정답 데이터 - 농어의 길이, 높이, 너비의 특성을 가지고 무게를 예측"
   ]
  },
  {
   "cell_type": "code",
   "execution_count": 6,
   "id": "8fbf84c9-b48f-4b9a-a850-a63736a0360c",
   "metadata": {},
   "outputs": [],
   "source": [
    "# 학습 세트, 테스트 세트 분리\n",
    "from sklearn.model_selection import train_test_split\n",
    "train_input, test_input, train_target, test_target = train_test_split(perch_full, perch_weight)"
   ]
  },
  {
   "cell_type": "code",
   "execution_count": 7,
   "id": "ebda4dbc-a4c5-432e-93b3-041680c28482",
   "metadata": {},
   "outputs": [
    {
     "name": "stdout",
     "output_type": "stream",
     "text": [
      "(42, 3) (14, 3)\n"
     ]
    }
   ],
   "source": [
    "print(train_input.shape, test_input.shape)"
   ]
  },
  {
   "cell_type": "code",
   "execution_count": 9,
   "id": "6f143541-97af-43eb-ab7b-268e004eca4d",
   "metadata": {},
   "outputs": [],
   "source": [
    "# 특성 공학 - 특성을 조합해서 새로운 특성 여러개를 만들어 주는 방법 \n",
    "from sklearn.preprocessing import PolynomialFeatures"
   ]
  },
  {
   "cell_type": "code",
   "execution_count": 11,
   "id": "f70b99e8-ed08-4595-bdcd-1d28e6ef7c67",
   "metadata": {},
   "outputs": [
    {
     "name": "stdout",
     "output_type": "stream",
     "text": [
      "[[2. 3. 4. 6. 9.]]\n"
     ]
    }
   ],
   "source": [
    "poly = PolynomialFeatures(include_bias=False) # include_bias - 절편에 곱해지는 1은 제외\n",
    "poly.fit([[2,3]])\n",
    "result = poly.transform([[2,3]])\n",
    "print(result)"
   ]
  },
  {
   "cell_type": "code",
   "execution_count": 12,
   "id": "4fefe6aa-fdc3-4fd7-ac0a-c006e22cf3f3",
   "metadata": {},
   "outputs": [
    {
     "data": {
      "text/plain": [
       "array(['x0', 'x1', 'x0^2', 'x0 x1', 'x1^2'], dtype=object)"
      ]
     },
     "execution_count": 12,
     "metadata": {},
     "output_type": "execute_result"
    }
   ],
   "source": [
    "poly.get_feature_names_out() # 특성 조합 공식을 확인 "
   ]
  },
  {
   "cell_type": "code",
   "execution_count": 13,
   "id": "e2da60a8-9687-4775-8fdc-f166eb67e7cb",
   "metadata": {},
   "outputs": [
    {
     "name": "stdout",
     "output_type": "stream",
     "text": [
      "(42, 9)\n"
     ]
    }
   ],
   "source": [
    "poly = PolynomialFeatures(include_bias=False)\n",
    "\n",
    "poly.fit(train_input)\n",
    "train_poly = poly.transform(train_input)\n",
    "print(train_poly.shape) # 기존 3개 특성 -> 9개"
   ]
  },
  {
   "cell_type": "code",
   "execution_count": 14,
   "id": "a4e874e3-e95a-4013-8901-fcbcab2eee9d",
   "metadata": {},
   "outputs": [
    {
     "name": "stdout",
     "output_type": "stream",
     "text": [
      "(14, 9)\n"
     ]
    }
   ],
   "source": [
    "test_poly = poly.transform(test_input)\n",
    "print(test_poly.shape)"
   ]
  },
  {
   "cell_type": "code",
   "execution_count": 15,
   "id": "fe925ae3-1386-4fc9-8020-2a6c4b1fdebb",
   "metadata": {},
   "outputs": [
    {
     "name": "stdout",
     "output_type": "stream",
     "text": [
      "0.9941353943603213\n"
     ]
    }
   ],
   "source": [
    "# 다중 회귀 모델 훈련 \n",
    "from sklearn.linear_model import LinearRegression\n",
    "\n",
    "lr = LinearRegression()\n",
    "lr.fit(train_poly, train_target)\n",
    "print(lr.score(train_poly, train_target))"
   ]
  },
  {
   "cell_type": "code",
   "execution_count": 16,
   "id": "efd65980-8b33-4188-92b9-459527dae919",
   "metadata": {},
   "outputs": [
    {
     "name": "stdout",
     "output_type": "stream",
     "text": [
      "0.9623315753169294\n"
     ]
    }
   ],
   "source": [
    "print(lr.score(test_poly, test_target))"
   ]
  },
  {
   "cell_type": "code",
   "execution_count": 18,
   "id": "518309cf-65c8-4ff3-99ec-ed0327c5e84d",
   "metadata": {},
   "outputs": [],
   "source": [
    "# 무조건 특성 조합이 많을 수록 예측 결정 계수가 높아질까?\n",
    "poly = PolynomialFeatures(degree=5, include_bias=False) # degree - 5 특성 최대 조합 차수를 5차 x^5\n",
    "poly.fit(train_input)\n",
    "train_poly = poly.transform(train_input)\n",
    "test_poly = poly.transform(test_input)"
   ]
  },
  {
   "cell_type": "code",
   "execution_count": 19,
   "id": "0b19bcd4-9afc-454f-a092-854d0f1e2f42",
   "metadata": {},
   "outputs": [
    {
     "name": "stdout",
     "output_type": "stream",
     "text": [
      "(42, 55) (14, 55)\n"
     ]
    }
   ],
   "source": [
    "print(train_poly.shape, test_poly.shape)"
   ]
  },
  {
   "cell_type": "code",
   "execution_count": 20,
   "id": "41c4e263-8710-4b52-960f-458f40d69655",
   "metadata": {},
   "outputs": [
    {
     "name": "stdout",
     "output_type": "stream",
     "text": [
      "0.9999999999993008\n"
     ]
    }
   ],
   "source": [
    "lr.fit(train_poly, train_target) # 훈련 \n",
    "print(lr.score(train_poly, train_target))"
   ]
  },
  {
   "cell_type": "code",
   "execution_count": 21,
   "id": "53ca431e-5eff-4f17-8f43-f7f6715d3b11",
   "metadata": {},
   "outputs": [
    {
     "name": "stdout",
     "output_type": "stream",
     "text": [
      "-8.134969247996372\n"
     ]
    }
   ],
   "source": [
    "print(lr.score(test_poly, test_target))  # 과대 적합  \n",
    "# -> 규제 -> 훈련세트의 결정 계수는 낮추고, 테스트 세트의 결정 계수는 높인다"
   ]
  },
  {
   "cell_type": "code",
   "execution_count": 22,
   "id": "70444851-19aa-47bb-8991-8645582a0582",
   "metadata": {},
   "outputs": [],
   "source": [
    "# 훈련 세트, 테스트 세트 - 표준 점수, 특정 특성에 편항된 규제를 하지 않기 위해서!\n",
    "from sklearn.preprocessing import StandardScaler\n",
    "\n",
    "ss = StandardScaler()\n",
    "ss.fit(train_poly)\n",
    "\n",
    "train_scaled = ss.transform(train_poly)\n",
    "test_scaled = ss.transform(test_poly)"
   ]
  },
  {
   "cell_type": "code",
   "execution_count": 23,
   "id": "19d771dc-101c-4893-aaa2-03c36cbcee11",
   "metadata": {},
   "outputs": [
    {
     "name": "stdout",
     "output_type": "stream",
     "text": [
      "0.9931245809301104\n"
     ]
    }
   ],
   "source": [
    "# 릿지 모델 \n",
    "from sklearn.linear_model import Ridge\n",
    "\n",
    "ridge = Ridge()\n",
    "ridge.fit(train_scaled, train_target)\n",
    "print(ridge.score(train_scaled, train_target))"
   ]
  },
  {
   "cell_type": "code",
   "execution_count": 24,
   "id": "665461c9-4e89-43ff-b252-00dcf2507d9c",
   "metadata": {},
   "outputs": [
    {
     "name": "stdout",
     "output_type": "stream",
     "text": [
      "0.9603194143374109\n"
     ]
    }
   ],
   "source": [
    "print(ridge.score(test_scaled, test_target))"
   ]
  },
  {
   "cell_type": "code",
   "execution_count": 25,
   "id": "7beee304-66c2-4361-b750-25146b34ef65",
   "metadata": {},
   "outputs": [],
   "source": [
    "# 최적의 alpha 값 찾기 - 하이퍼 파라미터\n",
    "train_score = [] # 훈련 세트 결정 계수 \n",
    "test_score = [] # 테스트 세트 결정 계수\n",
    "alpha_list = [0.001, 0.01, 0.1, 1, 10, 100]\n",
    "for alpha in alpha_list:\n",
    "    # 규제 강도(alpha)를 달리해서 Ridge 모델 객체 생성 \n",
    "    ridge = Ridge(alpha=alpha)\n",
    "\n",
    "    # 훈련\n",
    "    ridge.fit(train_scaled, train_target)\n",
    "    train_score.append(ridge.score(train_scaled, train_target))\n",
    "    test_score.append(ridge.score(test_scaled, test_target))"
   ]
  },
  {
   "cell_type": "code",
   "execution_count": 26,
   "id": "97a2aad3-f25f-45d8-8f65-fec9265f16db",
   "metadata": {},
   "outputs": [
    {
     "name": "stdout",
     "output_type": "stream",
     "text": [
      "[0.996629993088367, 0.9960007190130956, 0.9949182691210224, 0.9931245809301104, 0.9921709692391366, 0.9879610429578005]\n"
     ]
    }
   ],
   "source": [
    "print(train_score)"
   ]
  },
  {
   "cell_type": "code",
   "execution_count": 27,
   "id": "c9fdca0b-ffba-41b3-9204-af4f27371109",
   "metadata": {},
   "outputs": [
    {
     "name": "stdout",
     "output_type": "stream",
     "text": [
      "[0.9507287015587742, 0.9583111845548313, 0.962659480926767, 0.9603194143374109, 0.9558647138352081, 0.9576204162941536]\n"
     ]
    }
   ],
   "source": [
    "print(test_score)"
   ]
  },
  {
   "cell_type": "code",
   "execution_count": 29,
   "id": "471f143d-934e-4848-9ec5-ac9a6ec9f5f3",
   "metadata": {},
   "outputs": [
    {
     "data": {
      "image/png": "[encoded data removed]",
      "text/plain": [
       "<Figure size 640x480 with 1 Axes>"
      ]
     },
     "metadata": {},
     "output_type": "display_data"
    }
   ],
   "source": [
    "import matplotlib.pyplot as plt\n",
    "\n",
    "plt.plot(np.log10(alpha_list), train_score)\n",
    "plt.plot(np.log10(alpha_list), test_score)\n",
    "plt.xlabel('alpha')\n",
    "plt.ylabel('R^2')\n",
    "plt.show()"
   ]
  },
  {
   "cell_type": "code",
   "execution_count": 30,
   "id": "9c45292b-5495-4469-83d5-efaf294cf714",
   "metadata": {},
   "outputs": [
    {
     "name": "stdout",
     "output_type": "stream",
     "text": [
      "0.9949182691210224\n",
      "0.962659480926767\n"
     ]
    }
   ],
   "source": [
    "ridge = Ridge(alpha=0.1)\n",
    "ridge.fit(train_scaled, train_target)\n",
    "print(ridge.score(train_scaled, train_target))\n",
    "print(ridge.score(test_scaled, test_target))"
   ]
  },
  {
   "cell_type": "code",
   "execution_count": 33,
   "id": "5484cedd-ec46-4b9b-8293-91caf7a92594",
   "metadata": {},
   "outputs": [
    {
     "name": "stdout",
     "output_type": "stream",
     "text": [
      "0.9933028998871408\n"
     ]
    }
   ],
   "source": [
    "# 라쏘 규제 선형 모델 \n",
    "from sklearn.linear_model import Lasso\n",
    "\n",
    "lasso = Lasso(max_iter=10000)\n",
    "lasso.fit(train_scaled, train_target)\n",
    "print(lasso.score(train_scaled, train_target))"
   ]
  },
  {
   "cell_type": "code",
   "execution_count": 34,
   "id": "603ac020-c02e-402a-917c-36cc71b096ac",
   "metadata": {},
   "outputs": [
    {
     "name": "stdout",
     "output_type": "stream",
     "text": [
      "0.9591995378437327\n"
     ]
    }
   ],
   "source": [
    "print(lasso.score(test_scaled, test_target))"
   ]
  },
  {
   "cell_type": "code",
   "execution_count": 39,
   "id": "006657fb-0a4f-4c03-bc14-c0ae6d320d01",
   "metadata": {},
   "outputs": [
    {
     "name": "stderr",
     "output_type": "stream",
     "text": [
      "D:\\mldl\\Lib\\site-packages\\sklearn\\linear_model\\_coordinate_descent.py:697: ConvergenceWarning: Objective did not converge. You might want to increase the number of iterations, check the scale of the features or consider increasing regularisation. Duality gap: 8.474e+03, tolerance: 4.826e+02\n",
      "  model = cd_fast.enet_coordinate_descent(\n",
      "D:\\mldl\\Lib\\site-packages\\sklearn\\linear_model\\_coordinate_descent.py:697: ConvergenceWarning: Objective did not converge. You might want to increase the number of iterations, check the scale of the features or consider increasing regularisation. Duality gap: 5.678e+03, tolerance: 4.826e+02\n",
      "  model = cd_fast.enet_coordinate_descent(\n"
     ]
    }
   ],
   "source": [
    "train_score = [] # 훈련 세트 결정 계수\n",
    "test_score = [] # 테스트 세트 결정 계수\n",
    "\n",
    "alpha_list = [0.001, 0.01, 0.1, 1, 10, 100]\n",
    "for alpha in alpha_list:\n",
    "    # 규제별 라소 모델 객체\n",
    "    lasso = Lasso(alpha=alpha,max_iter=10000)\n",
    "\n",
    "    # 훈련\n",
    "    lasso.fit(train_scaled, train_target)\n",
    "\n",
    "    train_score.append(lasso.score(train_scaled, train_target))\n",
    "    test_score.append(lasso.score(test_scaled, test_target))"
   ]
  },
  {
   "cell_type": "code",
   "execution_count": 40,
   "id": "65c97bac-a8ac-41b3-9f0d-d6951aef42d8",
   "metadata": {},
   "outputs": [
    {
     "data": {
      "image/png": "[encoded data removed]",
      "text/plain": [
       "<Figure size 640x480 with 1 Axes>"
      ]
     },
     "metadata": {},
     "output_type": "display_data"
    }
   ],
   "source": [
    "plt.plot(np.log10(alpha_list), train_score)\n",
    "plt.plot(np.log10(alpha_list), test_score)\n",
    "plt.xlabel('alpha')\n",
    "plt.ylabel('R^2')\n",
    "plt.show()"
   ]
  },
  {
   "cell_type": "code",
   "execution_count": 41,
   "id": "8da7b8cf-f4f4-491e-861a-03b17af78042",
   "metadata": {},
   "outputs": [
    {
     "name": "stdout",
     "output_type": "stream",
     "text": [
      "0.992249834822063\n",
      "0.9696139739581593\n"
     ]
    }
   ],
   "source": [
    "lasso = Lasso(alpha=10, max_iter=10000)\n",
    "lasso.fit(train_scaled, train_target) # 훈련\n",
    "print(lasso.score(train_scaled, train_target)) # 훈련 세트 결정 계수\n",
    "print(lasso.score(test_scaled, test_target)) # 테스트 세트 결정 계수"
   ]
  },
  {
   "cell_type": "code",
   "execution_count": 42,
   "id": "7bd640f1-a309-4d29-98da-c246efb048f3",
   "metadata": {},
   "outputs": [
    {
     "name": "stdout",
     "output_type": "stream",
     "text": [
      "(42, 55)\n"
     ]
    }
   ],
   "source": [
    "print(train_scaled.shape)"
   ]
  },
  {
   "cell_type": "code",
   "execution_count": 43,
   "id": "ee3aa111-5a4a-4993-a3fb-e7396b7f0bf7",
   "metadata": {},
   "outputs": [
    {
     "data": {
      "text/plain": [
       "array([  0.        ,   0.        ,   0.        ,   3.05387738,\n",
       "         0.        ,   0.        ,   0.        ,   0.        ,\n",
       "        20.19207329,  14.64698227, 195.52250308,   0.        ,\n",
       "        54.26717606,   0.        ,   0.        ,   0.        ,\n",
       "         0.        ,   0.        ,   6.11710966,   0.        ,\n",
       "         0.        ,   0.        ,   0.        ,   0.        ,\n",
       "         0.        ,   0.        ,   0.        ,   0.        ,\n",
       "         0.        ,   0.        ,   0.        ,   0.        ,\n",
       "         0.        ,  23.1823742 ,   0.        ,   0.        ,\n",
       "         0.        ,   0.        ,   0.        ,   0.        ,\n",
       "         0.        ,   0.        ,   0.        ,   0.        ,\n",
       "         0.        ,   0.        ,   0.        ,   0.        ,\n",
       "         0.        ,   0.        ,   0.        ,   0.        ,\n",
       "         0.        ,   0.        ,  13.62314089])"
      ]
     },
     "execution_count": 43,
     "metadata": {},
     "output_type": "execute_result"
    }
   ],
   "source": [
    "lasso.coef_"
   ]
  },
  {
   "cell_type": "code",
   "execution_count": 44,
   "id": "a27358e0-3550-41bf-9c36-100062e62d19",
   "metadata": {},
   "outputs": [
    {
     "data": {
      "text/plain": [
       "47"
      ]
     },
     "execution_count": 44,
     "metadata": {},
     "output_type": "execute_result"
    }
   ],
   "source": [
    "np.sum(lasso.coef_ == 0) # 가중치가 0이 된 총 합계 - 특성 중에서 사용되지 않은 특성의 갯수"
   ]
  }
 ],
 "metadata": {
  "kernelspec": {
   "display_name": "Python 3 (ipykernel)",
   "language": "python",
   "name": "python3"
  },
  "language_info": {
   "codemirror_mode": {
    "name": "ipython",
    "version": 3
   },
   "file_extension": ".py",
   "mimetype": "text/x-python",
   "name": "python",
   "nbconvert_exporter": "python",
   "pygments_lexer": "ipython3",
   "version": "3.12.7"
  }
 },
 "nbformat": 4,
 "nbformat_minor": 5
}
