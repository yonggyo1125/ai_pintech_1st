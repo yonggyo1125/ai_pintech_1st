{
 "cells": [
  {
   "cell_type": "code",
   "execution_count": null,
   "id": "23c8cfd5-c3a7-4d0f-9a8f-fac4f304fb82",
   "metadata": {},
   "outputs": [],
   "source": [
    "# 학습 세트, 테스트 세트 - 패션 MNIST \n",
    "from tensorflow import keras\n",
    "\n",
    "(train_input, train_target), (test_input, test_target) = keras.datasets.fashion_mnist.load_data()"
   ]
  },
  {
   "cell_type": "code",
   "execution_count": null,
   "id": "8dc05a0c-1c49-4b69-bcf3-30e9224b882d",
   "metadata": {},
   "outputs": [],
   "source": [
    "# 데이터 전처리  - 각 픽셀 값을 0~1로 변경\n",
    "# print(train_input.shape, train_target.shape)\n",
    "# 학습 세트 전처리 \n",
    "train_scaled = train_input / 255  \n",
    "train_scaled = train_scaled.reshape(-1, 28 * 28) \n",
    "\n",
    "# 테스트 세트 전처리\n",
    "test_scaled = test_input / 255\n",
    "test_scaled = test_scaled.reshape(-1, 28 * 28)"
   ]
  },
  {
   "cell_type": "code",
   "execution_count": null,
   "id": "e9b09507-f061-452b-a0ab-7babc567c0da",
   "metadata": {},
   "outputs": [],
   "source": [
    "# 입력층\n",
    "input = keras.layers.Input(shape=(784,))\n",
    "\n",
    "# 밀집층 (은닉층)\n",
    "hidden = keras.layers.Dense(100, activation='sigmoid')\n",
    "\n",
    "# 출력층 \n",
    "output = keras.layers.Dense(10, activation='softmax')"
   ]
  },
  {
   "cell_type": "code",
   "execution_count": null,
   "id": "1dac2693-4488-4ff7-b501-c1eeab0a12e1",
   "metadata": {},
   "outputs": [],
   "source": [
    "model = keras.Sequential()\n",
    "model.add(input)\n",
    "model.add(hidden)\n",
    "model.add(output)"
   ]
  },
  {
   "cell_type": "code",
   "execution_count": null,
   "id": "675acc81-3ddb-45c9-8915-0ebc6bb40f64",
   "metadata": {},
   "outputs": [],
   "source": [
    "model.compile(loss='sparse_categorical_crossentropy', metrics=['accuracy'])\n",
    "model.fit(train_scaled, train_target, epochs=5)"
   ]
  }
 ],
 "metadata": {
  "kernelspec": {
   "display_name": "Python 3 (ipykernel)",
   "language": "python",
   "name": "python3"
  },
  "language_info": {
   "codemirror_mode": {
    "name": "ipython",
    "version": 3
   },
   "file_extension": ".py",
   "mimetype": "text/x-python",
   "name": "python",
   "nbconvert_exporter": "python",
   "pygments_lexer": "ipython3",
   "version": "3.12.7"
  }
 },
 "nbformat": 4,
 "nbformat_minor": 5
}
