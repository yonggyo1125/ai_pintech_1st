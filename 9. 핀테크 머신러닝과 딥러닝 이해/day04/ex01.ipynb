{
 "cells": [
  {
   "cell_type": "code",
   "execution_count": 1,
   "id": "623109e1-1ce9-4e4a-994a-1bc105d2ee74",
   "metadata": {},
   "outputs": [
    {
     "data": {
      "text/html": [
       "<div>\n",
       "<style scoped>\n",
       "    .dataframe tbody tr th:only-of-type {\n",
       "        vertical-align: middle;\n",
       "    }\n",
       "\n",
       "    .dataframe tbody tr th {\n",
       "        vertical-align: top;\n",
       "    }\n",
       "\n",
       "    .dataframe thead th {\n",
       "        text-align: right;\n",
       "    }\n",
       "</style>\n",
       "<table border=\"1\" class=\"dataframe\">\n",
       "  <thead>\n",
       "    <tr style=\"text-align: right;\">\n",
       "      <th></th>\n",
       "      <th>Species</th>\n",
       "      <th>Weight</th>\n",
       "      <th>Length</th>\n",
       "      <th>Diagonal</th>\n",
       "      <th>Height</th>\n",
       "      <th>Width</th>\n",
       "    </tr>\n",
       "  </thead>\n",
       "  <tbody>\n",
       "    <tr>\n",
       "      <th>0</th>\n",
       "      <td>Bream</td>\n",
       "      <td>242.0</td>\n",
       "      <td>25.4</td>\n",
       "      <td>30.0</td>\n",
       "      <td>11.5200</td>\n",
       "      <td>4.0200</td>\n",
       "    </tr>\n",
       "    <tr>\n",
       "      <th>1</th>\n",
       "      <td>Bream</td>\n",
       "      <td>290.0</td>\n",
       "      <td>26.3</td>\n",
       "      <td>31.2</td>\n",
       "      <td>12.4800</td>\n",
       "      <td>4.3056</td>\n",
       "    </tr>\n",
       "    <tr>\n",
       "      <th>2</th>\n",
       "      <td>Bream</td>\n",
       "      <td>340.0</td>\n",
       "      <td>26.5</td>\n",
       "      <td>31.1</td>\n",
       "      <td>12.3778</td>\n",
       "      <td>4.6961</td>\n",
       "    </tr>\n",
       "    <tr>\n",
       "      <th>3</th>\n",
       "      <td>Bream</td>\n",
       "      <td>363.0</td>\n",
       "      <td>29.0</td>\n",
       "      <td>33.5</td>\n",
       "      <td>12.7300</td>\n",
       "      <td>4.4555</td>\n",
       "    </tr>\n",
       "    <tr>\n",
       "      <th>4</th>\n",
       "      <td>Bream</td>\n",
       "      <td>430.0</td>\n",
       "      <td>29.0</td>\n",
       "      <td>34.0</td>\n",
       "      <td>12.4440</td>\n",
       "      <td>5.1340</td>\n",
       "    </tr>\n",
       "  </tbody>\n",
       "</table>\n",
       "</div>"
      ],
      "text/plain": [
       "  Species  Weight  Length  Diagonal   Height   Width\n",
       "0   Bream   242.0    25.4      30.0  11.5200  4.0200\n",
       "1   Bream   290.0    26.3      31.2  12.4800  4.3056\n",
       "2   Bream   340.0    26.5      31.1  12.3778  4.6961\n",
       "3   Bream   363.0    29.0      33.5  12.7300  4.4555\n",
       "4   Bream   430.0    29.0      34.0  12.4440  5.1340"
      ]
     },
     "execution_count": 1,
     "metadata": {},
     "output_type": "execute_result"
    }
   ],
   "source": [
    "import pandas as pd\n",
    "fish = pd.read_csv('https://bit.ly/fish_csv_data')\n",
    "fish.head() # 데이터 프레임의 첫번째 행부터 5개 추출"
   ]
  },
  {
   "cell_type": "code",
   "execution_count": 2,
   "id": "badcd57b-f8be-42e7-8129-4d89308ab8e7",
   "metadata": {},
   "outputs": [
    {
     "name": "stdout",
     "output_type": "stream",
     "text": [
      "['Bream' 'Roach' 'Whitefish' 'Parkki' 'Perch' 'Pike' 'Smelt']\n"
     ]
    }
   ],
   "source": [
    "# pandas unique : 명시된 컬럼에 중복 제거\n",
    "print(pd.unique(fish['Species']))"
   ]
  },
  {
   "cell_type": "code",
   "execution_count": 5,
   "id": "9e8a7b9e-0e90-4bcf-a208-fa4025f38a7d",
   "metadata": {},
   "outputs": [
    {
     "name": "stdout",
     "output_type": "stream",
     "text": [
      "[[242.      25.4     30.      11.52     4.02  ]\n",
      " [290.      26.3     31.2     12.48     4.3056]\n",
      " [340.      26.5     31.1     12.3778   4.6961]\n",
      " [363.      29.      33.5     12.73     4.4555]\n",
      " [430.      29.      34.      12.444    5.134 ]]\n"
     ]
    }
   ],
   "source": [
    "# Species : 타겟 데이터(정답 데이터), 그외 - 학습 데이터\n",
    "import numpy as np\n",
    "fish_input = fish[['Weight', 'Length', 'Diagonal', 'Height', 'Width']].to_numpy()\n",
    "print(fish_input[:5])"
   ]
  },
  {
   "cell_type": "code",
   "execution_count": 6,
   "id": "4212b4eb-5d79-462b-a605-1a8a77ed6fd9",
   "metadata": {},
   "outputs": [],
   "source": [
    "fish_target = fish['Species'].to_numpy()  # 타겟 데이터(정답 데이터)"
   ]
  },
  {
   "cell_type": "code",
   "execution_count": 7,
   "id": "44eb33b4-0b8f-44eb-a787-f8313b4e515a",
   "metadata": {},
   "outputs": [],
   "source": [
    "from sklearn.model_selection import train_test_split  # 학습 세트, 테스트 세트 분리\n",
    "\n",
    "train_input, test_input, train_target, test_target = train_test_split(\n",
    "    fish_input, fish_target\n",
    ")"
   ]
  },
  {
   "cell_type": "code",
   "execution_count": 8,
   "id": "106cfc23-fed8-4b4d-92f3-6ed759e211b2",
   "metadata": {},
   "outputs": [
    {
     "name": "stdout",
     "output_type": "stream",
     "text": [
      "[[-0.43640294 -0.10450739 -0.21942844 -0.41551352  0.06656912]\n",
      " [ 3.46762594  3.19775616  3.10840273  0.41084745  1.78141367]\n",
      " [-0.65949031 -0.47244762 -0.55136045 -0.65148955 -0.42849823]\n",
      " [ 1.4458967   0.99931329  1.17638821  2.27051087  1.35161376]\n",
      " [ 0.81846349  0.58538054  0.76785651  1.68192887  0.66851263]]\n"
     ]
    }
   ],
   "source": [
    "# 데이터 전처리 - 표준 점수 변환 \n",
    "from sklearn.preprocessing import StandardScaler\n",
    "ss = StandardScaler()\n",
    "ss.fit(train_input)\n",
    "train_scaled = ss.transform(train_input)  # 훈련 세트 훈련 데이터를 표준 점수로 변환\n",
    "test_scaled = ss.transform(test_input) # 테스트 세트 데이터를 표준 점수로 변환\n",
    "print(train_scaled[:5])"
   ]
  },
  {
   "cell_type": "code",
   "execution_count": 9,
   "id": "eca6f2c2-4c0f-415b-9272-edb626251e6f",
   "metadata": {},
   "outputs": [
    {
     "name": "stdout",
     "output_type": "stream",
     "text": [
      "0.8991596638655462\n",
      "0.725\n"
     ]
    }
   ],
   "source": [
    "# k-최근접 이웃 분류 - 분류, 확율 예측\n",
    "from sklearn.neighbors import KNeighborsClassifier\n",
    "\n",
    "kn = KNeighborsClassifier(n_neighbors=3)\n",
    "kn.fit(train_scaled, train_target) # 학습\n",
    "\n",
    "print(kn.score(train_scaled, train_target)) # 훈련 세트 정확도\n",
    "print(kn.score(test_scaled, test_target)) # 테스트 세트 정확도"
   ]
  },
  {
   "cell_type": "code",
   "execution_count": 10,
   "id": "4e1317d4-0840-4ec1-b854-ec1622bdd993",
   "metadata": {},
   "outputs": [
    {
     "name": "stdout",
     "output_type": "stream",
     "text": [
      "['Bream' 'Parkki' 'Perch' 'Pike' 'Roach' 'Smelt' 'Whitefish']\n"
     ]
    }
   ],
   "source": [
    "# 클래스 목록 (분류 항목) - 알파벳 순서대로 \n",
    "print(kn.classes_)"
   ]
  },
  {
   "cell_type": "code",
   "execution_count": 11,
   "id": "51c003eb-684a-4279-bc05-b3c897a5bc09",
   "metadata": {},
   "outputs": [
    {
     "name": "stdout",
     "output_type": "stream",
     "text": [
      "['Perch' 'Perch' 'Perch' 'Pike' 'Perch']\n"
     ]
    }
   ],
   "source": [
    "print(kn.predict(test_scaled[:5]))"
   ]
  },
  {
   "cell_type": "code",
   "execution_count": 13,
   "id": "191ac05d-f1e8-4a70-82e4-605f2388279b",
   "metadata": {},
   "outputs": [
    {
     "name": "stdout",
     "output_type": "stream",
     "text": [
      "[[0.    0.    1.    0.    0.    0.    0.   ]\n",
      " [0.    0.    0.667 0.    0.333 0.    0.   ]\n",
      " [0.    0.    0.667 0.    0.333 0.    0.   ]\n",
      " [0.    0.    0.    1.    0.    0.    0.   ]\n",
      " [0.    0.    0.667 0.    0.333 0.    0.   ]]\n"
     ]
    }
   ],
   "source": [
    "# 분류 기준 확률 kn.predict_proba(..)\n",
    "proba = kn.predict_proba(test_scaled[:5])\n",
    "print(np.round(proba, decimals=3))\n"
   ]
  },
  {
   "cell_type": "code",
   "execution_count": 18,
   "id": "aa2a94be-c9c2-4485-800c-b51309209d40",
   "metadata": {},
   "outputs": [
    {
     "name": "stdout",
     "output_type": "stream",
     "text": [
      "[['Perch' 'Perch' 'Roach']]\n"
     ]
    }
   ],
   "source": [
    "distances, indexes = kn.kneighbors(test_scaled[2:3])\n",
    "print(train_target[indexes])  # 확률로 보기에는 조금 어색 -> 로지스틱 회귀 "
   ]
  }
 ],
 "metadata": {
  "kernelspec": {
   "display_name": "Python 3 (ipykernel)",
   "language": "python",
   "name": "python3"
  },
  "language_info": {
   "codemirror_mode": {
    "name": "ipython",
    "version": 3
   },
   "file_extension": ".py",
   "mimetype": "text/x-python",
   "name": "python",
   "nbconvert_exporter": "python",
   "pygments_lexer": "ipython3",
   "version": "3.12.7"
  }
 },
 "nbformat": 4,
 "nbformat_minor": 5
}
